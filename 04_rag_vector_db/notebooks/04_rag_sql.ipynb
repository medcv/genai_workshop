{
 "cells": [
  {
   "cell_type": "markdown",
   "metadata": {},
   "source": [
    "# Extracting insights from structured data with Text to SQL\n",
    "In this notebook we will explore another important modality of data, structured data, and how we can leverage it to extract insights from it. We will prompt the LLM to translate a user's question into a SQL query that runs against a database. Text to SQL is a task where the goal is to convert a natural language question into a SQL query that can be executed on a database to retrieve the answer. This task is particularly useful in the context of databases, where users can ask questions in natural language and get the answers in a structured format."
   ]
  },
  {
   "cell_type": "code",
   "execution_count": 1,
   "metadata": {},
   "outputs": [
    {
     "name": "stdout",
     "output_type": "stream",
     "text": [
      "Validating base environment\n",
      "Base environment validated successfully\n"
     ]
    },
    {
     "data": {
      "text/html": [
       "<pre style=\"white-space:pre;overflow-x:auto;line-height:normal;font-family:Menlo,'DejaVu Sans Mono',consolas,'Courier New',monospace\"><span style=\"color: #4cc9f0; text-decoration-color: #4cc9f0; font-weight: bold\">Validating lab environment from requirements.txt</span> ✨\n",
       "</pre>\n"
      ],
      "text/plain": [
       "\u001b[1;38;2;76;201;240mValidating lab environment from requirements.txt\u001b[0m ✨\n"
      ]
     },
     "metadata": {},
     "output_type": "display_data"
    },
    {
     "data": {
      "text/html": [
       "<pre style=\"white-space:pre;overflow-x:auto;line-height:normal;font-family:Menlo,'DejaVu Sans Mono',consolas,'Courier New',monospace\"><span style=\"color: #e85d04; text-decoration-color: #e85d04; font-weight: bold; text-decoration: underline\">ENVIRONMENT STATUS</span>\n",
       "✅ <span style=\"color: #008000; text-decoration-color: #008000\"> scikit-learn is installed</span>\n",
       "❌ <span style=\"color: #ef233c; text-decoration-color: #ef233c\">duckdb is not installed</span>\n",
       "❌ <span style=\"color: #ef233c; text-decoration-color: #ef233c\">duckdb-engine is not installed</span>\n",
       "❌ <span style=\"color: #ef233c; text-decoration-color: #ef233c\">vanna is not installed</span>\n",
       "❌ <span style=\"color: #ef233c; text-decoration-color: #ef233c\">boto3&gt;=</span><span style=\"color: #ef233c; text-decoration-color: #ef233c; font-weight: bold\">1.34</span><span style=\"color: #ef233c; text-decoration-color: #ef233c\">.</span><span style=\"color: #ef233c; text-decoration-color: #ef233c; font-weight: bold\">144</span><span style=\"color: #ef233c; text-decoration-color: #ef233c\"> is not installed</span>\n",
       "\n",
       "</pre>\n"
      ],
      "text/plain": [
       "\u001b[1;4;38;2;232;93;4mENVIRONMENT STATUS\u001b[0m\n",
       "✅ \u001b[32m scikit-learn is installed\u001b[0m\n",
       "❌ \u001b[38;2;239;35;60mduckdb is not installed\u001b[0m\n",
       "❌ \u001b[38;2;239;35;60mduckdb-engine is not installed\u001b[0m\n",
       "❌ \u001b[38;2;239;35;60mvanna\u001b[0m\u001b[38;2;239;35;60m is not installed\u001b[0m\n",
       "❌ \u001b[38;2;239;35;60mboto3>=\u001b[0m\u001b[1;38;2;239;35;60m1.34\u001b[0m\u001b[38;2;239;35;60m.\u001b[0m\u001b[1;38;2;239;35;60m144\u001b[0m\u001b[38;2;239;35;60m is not installed\u001b[0m\n",
       "\n"
      ]
     },
     "metadata": {},
     "output_type": "display_data"
    },
    {
     "data": {
      "text/html": [
       "<pre style=\"white-space:pre;overflow-x:auto;line-height:normal;font-family:Menlo,'DejaVu Sans Mono',consolas,'Courier New',monospace\"><span style=\"color: #008080; text-decoration-color: #008080; font-weight: bold\">Installing missing libraries</span>\n",
       "</pre>\n"
      ],
      "text/plain": [
       "\u001b[1;36mInstalling missing libraries\u001b[0m\n"
      ]
     },
     "metadata": {},
     "output_type": "display_data"
    },
    {
     "name": "stdout",
     "output_type": "stream",
     "text": [
      "duckdb has been installed successfully.\n",
      "duckdb-engine has been installed successfully.\n",
      "vanna[chromadb,duckdb] has been installed successfully.\n",
      "boto3>=1.34.144 has been installed successfully.\n"
     ]
    },
    {
     "data": {
      "text/html": [
       "<pre style=\"white-space:pre;overflow-x:auto;line-height:normal;font-family:Menlo,'DejaVu Sans Mono',consolas,'Courier New',monospace\"><span style=\"color: #a7c957; text-decoration-color: #a7c957\">All required libraries are installed.🎉</span>\n",
       "<span style=\"color: #a7c957; text-decoration-color: #a7c957\">You may proceed with the lab! 🚀</span>\n",
       "</pre>\n"
      ],
      "text/plain": [
       "\u001b[38;2;167;201;87mAll required libraries are installed.🎉\u001b[0m\n",
       "\u001b[38;2;167;201;87mYou may proceed with the lab! 🚀\u001b[0m\n"
      ]
     },
     "metadata": {},
     "output_type": "display_data"
    }
   ],
   "source": [
    "import sys\n",
    "import os\n",
    "module_path = \"../..\"\n",
    "sys.path.append(os.path.abspath(module_path))\n",
    "from utils.environment_validation import validate_environment, validate_model_access\n",
    "validate_environment(\"sql_rag_requirements.txt\")"
   ]
  },
  {
   "cell_type": "code",
   "execution_count": 2,
   "metadata": {},
   "outputs": [
    {
     "data": {
      "text/html": [
       "<pre style=\"white-space:pre;overflow-x:auto;line-height:normal;font-family:Menlo,'DejaVu Sans Mono',consolas,'Courier New',monospace\"><span style=\"color: #e85d04; text-decoration-color: #e85d04; font-weight: bold; text-decoration: underline\">MODEL ACCESS STATUS</span>\n",
       "✅ <span style=\"color: #008000; text-decoration-color: #008000\"> anthropic.claude-</span><span style=\"color: #008000; text-decoration-color: #008000; font-weight: bold\">3</span><span style=\"color: #008000; text-decoration-color: #008000\">-sonnet-</span><span style=\"color: #008000; text-decoration-color: #008000; font-weight: bold\">20240229</span><span style=\"color: #008000; text-decoration-color: #008000\">-v</span><span style=\"color: #008000; text-decoration-color: #008000; font-weight: bold\">1:0</span><span style=\"color: #008000; text-decoration-color: #008000\"> is accessible</span>\n",
       "✅ <span style=\"color: #008000; text-decoration-color: #008000\"> anthropic.claude-</span><span style=\"color: #008000; text-decoration-color: #008000; font-weight: bold\">3</span><span style=\"color: #008000; text-decoration-color: #008000\">-haiku-</span><span style=\"color: #008000; text-decoration-color: #008000; font-weight: bold\">20240307</span><span style=\"color: #008000; text-decoration-color: #008000\">-v</span><span style=\"color: #008000; text-decoration-color: #008000; font-weight: bold\">1:0</span><span style=\"color: #008000; text-decoration-color: #008000\"> is accessible</span>\n",
       "\n",
       "</pre>\n"
      ],
      "text/plain": [
       "\u001b[1;4;38;2;232;93;4mMODEL ACCESS STATUS\u001b[0m\n",
       "✅ \u001b[32m anthropic.claude-\u001b[0m\u001b[1;32m3\u001b[0m\u001b[32m-sonnet-\u001b[0m\u001b[1;32m20240229\u001b[0m\u001b[32m-v\u001b[0m\u001b[1;32m1:0\u001b[0m\u001b[32m is accessible\u001b[0m\n",
       "✅ \u001b[32m anthropic.claude-\u001b[0m\u001b[1;32m3\u001b[0m\u001b[32m-haiku-\u001b[0m\u001b[1;32m20240307\u001b[0m\u001b[32m-v\u001b[0m\u001b[1;32m1:0\u001b[0m\u001b[32m is accessible\u001b[0m\n",
       "\n"
      ]
     },
     "metadata": {},
     "output_type": "display_data"
    },
    {
     "data": {
      "text/html": [
       "<pre style=\"white-space:pre;overflow-x:auto;line-height:normal;font-family:Menlo,'DejaVu Sans Mono',consolas,'Courier New',monospace\"><span style=\"color: #a7c957; text-decoration-color: #a7c957\">All required models are accessible.🎉</span>\n",
       "<span style=\"color: #a7c957; text-decoration-color: #a7c957\">You may proceed with the lab! 🚀</span>\n",
       "</pre>\n"
      ],
      "text/plain": [
       "\u001b[38;2;167;201;87mAll required models are accessible.🎉\u001b[0m\n",
       "\u001b[38;2;167;201;87mYou may proceed with the lab! 🚀\u001b[0m\n"
      ]
     },
     "metadata": {},
     "output_type": "display_data"
    }
   ],
   "source": [
    "required_models = [\n",
    "    \"anthropic.claude-3-sonnet-20240229-v1:0\",\n",
    "    \"anthropic.claude-3-haiku-20240307-v1:0\",\n",
    "]\n",
    "validate_model_access(required_models)"
   ]
  },
  {
   "cell_type": "code",
   "execution_count": 3,
   "metadata": {},
   "outputs": [],
   "source": [
    "# delete any prior artifacts\n",
    "!rm -f chroma.sqlite3 credit_scoring.duckdb "
   ]
  },
  {
   "cell_type": "markdown",
   "metadata": {},
   "source": [
    "## Data Ingestion\n",
    "The first step is to obtain the dataset and load it into a database for querying. We'll download an [OpenML credit loans](https://www.openml.org/search?type=data&status=active&id=45938&sort=runs) and then load it into a [DuckDB database](https://duckdb.org/). "
   ]
  },
  {
   "cell_type": "code",
   "execution_count": 4,
   "metadata": {},
   "outputs": [],
   "source": [
    "from sklearn.datasets import fetch_openml\n",
    "import pandas as pd"
   ]
  },
  {
   "cell_type": "code",
   "execution_count": 5,
   "metadata": {},
   "outputs": [],
   "source": [
    "data = fetch_openml(data_id=45938)[\"data\"]"
   ]
  },
  {
   "cell_type": "code",
   "execution_count": 6,
   "metadata": {},
   "outputs": [
    {
     "data": {
      "text/html": [
       "<div>\n",
       "<style scoped>\n",
       "    .dataframe tbody tr th:only-of-type {\n",
       "        vertical-align: middle;\n",
       "    }\n",
       "\n",
       "    .dataframe tbody tr th {\n",
       "        vertical-align: top;\n",
       "    }\n",
       "\n",
       "    .dataframe thead th {\n",
       "        text-align: right;\n",
       "    }\n",
       "</style>\n",
       "<table border=\"1\" class=\"dataframe\">\n",
       "  <thead>\n",
       "    <tr style=\"text-align: right;\">\n",
       "      <th></th>\n",
       "      <th>ID</th>\n",
       "      <th>Customer_ID</th>\n",
       "      <th>Month</th>\n",
       "      <th>Name</th>\n",
       "      <th>Age</th>\n",
       "      <th>SSN</th>\n",
       "      <th>Occupation</th>\n",
       "      <th>Annual_Income</th>\n",
       "      <th>Monthly_Inhand_Salary</th>\n",
       "      <th>Num_Bank_Accounts</th>\n",
       "      <th>...</th>\n",
       "      <th>Num_Credit_Inquiries</th>\n",
       "      <th>Credit_Mix</th>\n",
       "      <th>Outstanding_Debt</th>\n",
       "      <th>Credit_Utilization_Ratio</th>\n",
       "      <th>Credit_History_Age</th>\n",
       "      <th>Payment_of_Min_Amount</th>\n",
       "      <th>Total_EMI_per_month</th>\n",
       "      <th>Amount_invested_monthly</th>\n",
       "      <th>Payment_Behaviour</th>\n",
       "      <th>Monthly_Balance</th>\n",
       "    </tr>\n",
       "  </thead>\n",
       "  <tbody>\n",
       "    <tr>\n",
       "      <th>0</th>\n",
       "      <td>0x1602</td>\n",
       "      <td>CUS_0xd40</td>\n",
       "      <td>January</td>\n",
       "      <td>Aaron Maashoh</td>\n",
       "      <td>23</td>\n",
       "      <td>821-00-0265</td>\n",
       "      <td>Scientist</td>\n",
       "      <td>19114.12</td>\n",
       "      <td>1824.843333</td>\n",
       "      <td>3</td>\n",
       "      <td>...</td>\n",
       "      <td>4.0</td>\n",
       "      <td>_</td>\n",
       "      <td>809.98</td>\n",
       "      <td>26.822620</td>\n",
       "      <td>22 Years and 1 Months</td>\n",
       "      <td>No</td>\n",
       "      <td>49.574949</td>\n",
       "      <td>80.415295</td>\n",
       "      <td>High_spent_Small_value_payments</td>\n",
       "      <td>312.494089</td>\n",
       "    </tr>\n",
       "    <tr>\n",
       "      <th>1</th>\n",
       "      <td>0x1603</td>\n",
       "      <td>CUS_0xd40</td>\n",
       "      <td>February</td>\n",
       "      <td>Aaron Maashoh</td>\n",
       "      <td>23</td>\n",
       "      <td>821-00-0265</td>\n",
       "      <td>Scientist</td>\n",
       "      <td>19114.12</td>\n",
       "      <td>NaN</td>\n",
       "      <td>3</td>\n",
       "      <td>...</td>\n",
       "      <td>4.0</td>\n",
       "      <td>Good</td>\n",
       "      <td>809.98</td>\n",
       "      <td>31.944960</td>\n",
       "      <td>NaN</td>\n",
       "      <td>No</td>\n",
       "      <td>49.574949</td>\n",
       "      <td>118.280222</td>\n",
       "      <td>Low_spent_Large_value_payments</td>\n",
       "      <td>284.629162</td>\n",
       "    </tr>\n",
       "    <tr>\n",
       "      <th>2</th>\n",
       "      <td>0x1604</td>\n",
       "      <td>CUS_0xd40</td>\n",
       "      <td>March</td>\n",
       "      <td>Aaron Maashoh</td>\n",
       "      <td>500</td>\n",
       "      <td>821-00-0265</td>\n",
       "      <td>Scientist</td>\n",
       "      <td>19114.12</td>\n",
       "      <td>NaN</td>\n",
       "      <td>3</td>\n",
       "      <td>...</td>\n",
       "      <td>4.0</td>\n",
       "      <td>Good</td>\n",
       "      <td>809.98</td>\n",
       "      <td>28.609352</td>\n",
       "      <td>22 Years and 3 Months</td>\n",
       "      <td>No</td>\n",
       "      <td>49.574949</td>\n",
       "      <td>81.699521</td>\n",
       "      <td>Low_spent_Medium_value_payments</td>\n",
       "      <td>331.209863</td>\n",
       "    </tr>\n",
       "    <tr>\n",
       "      <th>3</th>\n",
       "      <td>0x1605</td>\n",
       "      <td>CUS_0xd40</td>\n",
       "      <td>April</td>\n",
       "      <td>Aaron Maashoh</td>\n",
       "      <td>23</td>\n",
       "      <td>821-00-0265</td>\n",
       "      <td>Scientist</td>\n",
       "      <td>19114.12</td>\n",
       "      <td>NaN</td>\n",
       "      <td>3</td>\n",
       "      <td>...</td>\n",
       "      <td>4.0</td>\n",
       "      <td>Good</td>\n",
       "      <td>809.98</td>\n",
       "      <td>31.377862</td>\n",
       "      <td>22 Years and 4 Months</td>\n",
       "      <td>No</td>\n",
       "      <td>49.574949</td>\n",
       "      <td>199.458074</td>\n",
       "      <td>Low_spent_Small_value_payments</td>\n",
       "      <td>223.451310</td>\n",
       "    </tr>\n",
       "    <tr>\n",
       "      <th>4</th>\n",
       "      <td>0x1606</td>\n",
       "      <td>CUS_0xd40</td>\n",
       "      <td>May</td>\n",
       "      <td>Aaron Maashoh</td>\n",
       "      <td>23</td>\n",
       "      <td>821-00-0265</td>\n",
       "      <td>Scientist</td>\n",
       "      <td>19114.12</td>\n",
       "      <td>1824.843333</td>\n",
       "      <td>3</td>\n",
       "      <td>...</td>\n",
       "      <td>4.0</td>\n",
       "      <td>Good</td>\n",
       "      <td>809.98</td>\n",
       "      <td>24.797347</td>\n",
       "      <td>22 Years and 5 Months</td>\n",
       "      <td>No</td>\n",
       "      <td>49.574949</td>\n",
       "      <td>41.420153</td>\n",
       "      <td>High_spent_Medium_value_payments</td>\n",
       "      <td>341.489231</td>\n",
       "    </tr>\n",
       "  </tbody>\n",
       "</table>\n",
       "<p>5 rows × 27 columns</p>\n",
       "</div>"
      ],
      "text/plain": [
       "       ID Customer_ID     Month           Name  Age          SSN Occupation  \\\n",
       "0  0x1602   CUS_0xd40   January  Aaron Maashoh   23  821-00-0265  Scientist   \n",
       "1  0x1603   CUS_0xd40  February  Aaron Maashoh   23  821-00-0265  Scientist   \n",
       "2  0x1604   CUS_0xd40     March  Aaron Maashoh  500  821-00-0265  Scientist   \n",
       "3  0x1605   CUS_0xd40     April  Aaron Maashoh   23  821-00-0265  Scientist   \n",
       "4  0x1606   CUS_0xd40       May  Aaron Maashoh   23  821-00-0265  Scientist   \n",
       "\n",
       "   Annual_Income  Monthly_Inhand_Salary  Num_Bank_Accounts  ...  \\\n",
       "0       19114.12            1824.843333                  3  ...   \n",
       "1       19114.12                    NaN                  3  ...   \n",
       "2       19114.12                    NaN                  3  ...   \n",
       "3       19114.12                    NaN                  3  ...   \n",
       "4       19114.12            1824.843333                  3  ...   \n",
       "\n",
       "   Num_Credit_Inquiries  Credit_Mix  Outstanding_Debt  \\\n",
       "0                   4.0           _            809.98   \n",
       "1                   4.0        Good            809.98   \n",
       "2                   4.0        Good            809.98   \n",
       "3                   4.0        Good            809.98   \n",
       "4                   4.0        Good            809.98   \n",
       "\n",
       "  Credit_Utilization_Ratio     Credit_History_Age  Payment_of_Min_Amount  \\\n",
       "0                26.822620  22 Years and 1 Months                     No   \n",
       "1                31.944960                    NaN                     No   \n",
       "2                28.609352  22 Years and 3 Months                     No   \n",
       "3                31.377862  22 Years and 4 Months                     No   \n",
       "4                24.797347  22 Years and 5 Months                     No   \n",
       "\n",
       "   Total_EMI_per_month  Amount_invested_monthly  \\\n",
       "0            49.574949                80.415295   \n",
       "1            49.574949               118.280222   \n",
       "2            49.574949                81.699521   \n",
       "3            49.574949               199.458074   \n",
       "4            49.574949                41.420153   \n",
       "\n",
       "                  Payment_Behaviour  Monthly_Balance  \n",
       "0   High_spent_Small_value_payments       312.494089  \n",
       "1    Low_spent_Large_value_payments       284.629162  \n",
       "2   Low_spent_Medium_value_payments       331.209863  \n",
       "3    Low_spent_Small_value_payments       223.451310  \n",
       "4  High_spent_Medium_value_payments       341.489231  \n",
       "\n",
       "[5 rows x 27 columns]"
      ]
     },
     "execution_count": 6,
     "metadata": {},
     "output_type": "execute_result"
    }
   ],
   "source": [
    "# preview the dataset\n",
    "data.head()"
   ]
  },
  {
   "cell_type": "markdown",
   "metadata": {},
   "source": [
    "The dataset comes as a single table which contains the customer, accounts, and monthly payment information. To make this more realistic, we will break the dataset into 3 tables one for each entity (customer, account, and monthly payment) and then create a foreign key relationship between them."
   ]
  },
  {
   "cell_type": "code",
   "execution_count": 7,
   "metadata": {},
   "outputs": [],
   "source": [
    "def extract_customers(df):\n",
    "    customers = (\n",
    "        df[[\"Customer_ID\", \"Name\", \"Age\", \"SSN\", \"Occupation\", \"Annual_Income\"]]\n",
    "        .drop_duplicates(\"Customer_ID\")\n",
    "        .reset_index(drop=True)\n",
    "    )\n",
    "    return customers\n",
    "\n",
    "\n",
    "def extract_accounts(df):\n",
    "    accounts = (\n",
    "        df[\n",
    "            [\n",
    "                \"Customer_ID\",\n",
    "                \"Num_Bank_Accounts\",\n",
    "                \"Num_Credit_Card\",\n",
    "                \"Num_of_Loan\",\n",
    "                \"Type_of_Loan\",\n",
    "            ]\n",
    "        ]\n",
    "        .drop_duplicates(\"Customer_ID\")\n",
    "        .reset_index(drop=True)\n",
    "    )\n",
    "    return accounts\n",
    "\n",
    "\n",
    "def extract_monthly_records(df):\n",
    "    monthly_records = df[\n",
    "        [\n",
    "            \"ID\",\n",
    "            \"Customer_ID\",\n",
    "            \"Month\",\n",
    "            \"Monthly_Inhand_Salary\",\n",
    "            \"Delay_from_due_date\",\n",
    "            \"Num_of_Delayed_Payment\",\n",
    "            \"Changed_Credit_Limit\",\n",
    "            \"Num_Credit_Inquiries\",\n",
    "            \"Credit_Mix\",\n",
    "            \"Outstanding_Debt\",\n",
    "            \"Credit_Utilization_Ratio\",\n",
    "            \"Credit_History_Age\",\n",
    "            \"Payment_of_Min_Amount\",\n",
    "            \"Total_EMI_per_month\",\n",
    "            \"Amount_invested_monthly\",\n",
    "            \"Payment_Behaviour\",\n",
    "            \"Monthly_Balance\",\n",
    "        ]\n",
    "    ]\n",
    "    return monthly_records\n",
    "\n",
    "\n",
    "customers_table = extract_customers(data)\n",
    "accounts_table = extract_accounts(data)\n",
    "monthly_records_table = extract_monthly_records(data)"
   ]
  },
  {
   "cell_type": "markdown",
   "metadata": {},
   "source": [
    "Now that we have the dataset split into 3 tables, we can create a database and load the data into it. We will use DuckDB, a lightweight in-memory database that is easy to use and has good support for SQL queries.\n",
    "\n",
    "We do this by running DDL commands and ingesting the pandas dataframes into the database."
   ]
  },
  {
   "cell_type": "code",
   "execution_count": 8,
   "metadata": {},
   "outputs": [],
   "source": [
    "import duckdb\n",
    "\n",
    "\n",
    "# Create or connect to a DuckDB database\n",
    "conn = duckdb.connect(\"credit_scoring.duckdb\")\n",
    "\n",
    "# Create tables and insert data into DuckDB\n",
    "\n",
    "# Customers Table\n",
    "customers_ddl = \"CREATE TABLE IF NOT EXISTS customers (Customer_ID VARCHAR, Name VARCHAR, Age INTEGER, SSN VARCHAR, Occupation VARCHAR, Annual_Income FLOAT)\"\n",
    "conn.execute(customers_ddl)\n",
    "conn.register(\"customers_df\", customers_table)\n",
    "conn.execute(\"INSERT INTO customers SELECT * FROM customers_df\")\n",
    "\n",
    "# Accounts Table\n",
    "accounts_ddl = \"CREATE TABLE IF NOT EXISTS accounts (Customer_ID VARCHAR, Num_Bank_Accounts INTEGER, Num_Credit_Card INTEGER, Num_of_Loan INTEGER, Type_of_Loan VARCHAR)\"\n",
    "conn.execute(accounts_ddl)\n",
    "conn.register(\"accounts_df\", accounts_table)\n",
    "conn.execute(\"INSERT INTO accounts SELECT * FROM accounts_df\")\n",
    "\n",
    "# Monthly Records Table\n",
    "records_ddl = \"CREATE TABLE IF NOT EXISTS monthly_records (ID VARCHAR, Customer_ID VARCHAR, Month VARCHAR, Monthly_Inhand_Salary FLOAT, Delay_from_due_date INTEGER, Num_of_Delayed_Payment INTEGER, Changed_Credit_Limit FLOAT, Num_Credit_Inquiries INTEGER, Credit_Mix VARCHAR, Outstanding_Debt FLOAT, Credit_Utilization_Ratio FLOAT, Credit_History_Age VARCHAR, Payment_of_Min_Amount VARCHAR, Total_EMI_per_month FLOAT, Amount_invested_monthly FLOAT, Payment_Behaviour VARCHAR, Monthly_Balance FLOAT)\"\n",
    "conn.execute(records_ddl)\n",
    "conn.register(\"monthly_records_df\", monthly_records_table)\n",
    "conn.execute(\"INSERT INTO monthly_records SELECT * FROM monthly_records_df\")\n",
    "\n",
    "# Close the connection\n",
    "conn.close()"
   ]
  },
  {
   "cell_type": "markdown",
   "metadata": {},
   "source": [
    "Let's test the connection to the database and run a simple query to check if the data was loaded correctly."
   ]
  },
  {
   "cell_type": "code",
   "execution_count": 9,
   "metadata": {},
   "outputs": [
    {
     "data": {
      "text/html": [
       "<div>\n",
       "<style scoped>\n",
       "    .dataframe tbody tr th:only-of-type {\n",
       "        vertical-align: middle;\n",
       "    }\n",
       "\n",
       "    .dataframe tbody tr th {\n",
       "        vertical-align: top;\n",
       "    }\n",
       "\n",
       "    .dataframe thead th {\n",
       "        text-align: right;\n",
       "    }\n",
       "</style>\n",
       "<table border=\"1\" class=\"dataframe\">\n",
       "  <thead>\n",
       "    <tr style=\"text-align: right;\">\n",
       "      <th></th>\n",
       "      <th>Customer_ID</th>\n",
       "      <th>Name</th>\n",
       "      <th>Age</th>\n",
       "      <th>SSN</th>\n",
       "      <th>Occupation</th>\n",
       "      <th>Annual_Income</th>\n",
       "    </tr>\n",
       "  </thead>\n",
       "  <tbody>\n",
       "    <tr>\n",
       "      <th>0</th>\n",
       "      <td>CUS_0x2dbc</td>\n",
       "      <td>Langep</td>\n",
       "      <td>34</td>\n",
       "      <td>486-85-3974</td>\n",
       "      <td>_______</td>\n",
       "      <td>143162.640625</td>\n",
       "    </tr>\n",
       "    <tr>\n",
       "      <th>1</th>\n",
       "      <td>CUS_0xb891</td>\n",
       "      <td>Jasond</td>\n",
       "      <td>54</td>\n",
       "      <td>072-31-6145</td>\n",
       "      <td>Entrepreneur</td>\n",
       "      <td>30689.890625</td>\n",
       "    </tr>\n",
       "    <tr>\n",
       "      <th>2</th>\n",
       "      <td>CUS_0x95ee</td>\n",
       "      <td>Np</td>\n",
       "      <td>31</td>\n",
       "      <td>612-70-8987</td>\n",
       "      <td>Lawyer</td>\n",
       "      <td>73928.460938</td>\n",
       "    </tr>\n",
       "    <tr>\n",
       "      <th>3</th>\n",
       "      <td>CUS_0x284a</td>\n",
       "      <td>Nadiaq</td>\n",
       "      <td>33</td>\n",
       "      <td>411-51-0676</td>\n",
       "      <td>Lawyer</td>\n",
       "      <td>131313.406250</td>\n",
       "    </tr>\n",
       "    <tr>\n",
       "      <th>4</th>\n",
       "      <td>CUS_0x5407</td>\n",
       "      <td>Annk</td>\n",
       "      <td>7580</td>\n",
       "      <td>500-92-6408</td>\n",
       "      <td>Media_Manager</td>\n",
       "      <td>34081.378906</td>\n",
       "    </tr>\n",
       "  </tbody>\n",
       "</table>\n",
       "</div>"
      ],
      "text/plain": [
       "  Customer_ID    Name   Age          SSN     Occupation  Annual_Income\n",
       "0  CUS_0x2dbc  Langep    34  486-85-3974        _______  143162.640625\n",
       "1  CUS_0xb891  Jasond    54  072-31-6145   Entrepreneur   30689.890625\n",
       "2  CUS_0x95ee      Np    31  612-70-8987         Lawyer   73928.460938\n",
       "3  CUS_0x284a  Nadiaq    33  411-51-0676         Lawyer  131313.406250\n",
       "4  CUS_0x5407    Annk  7580  500-92-6408  Media_Manager   34081.378906"
      ]
     },
     "execution_count": 9,
     "metadata": {},
     "output_type": "execute_result"
    }
   ],
   "source": [
    "conn = duckdb.connect('credit_scoring.duckdb')\n",
    "query_result = conn.execute(\"SELECT * FROM customers WHERE Age > 30\").df()\n",
    "conn.close()\n",
    "\n",
    "query_result.head()"
   ]
  },
  {
   "cell_type": "markdown",
   "metadata": {},
   "source": [
    "## Text to SQL pipeline\n",
    "The next step is to build our Text to SQL pipeline. One of the easiest ways to do this is to leverage the [Vanna](https://github.com/vanna-ai/vanna) library. This library abstracts many of the patterns and best practices for building a Text to SQL pipeline and allows us to focus on the data and the model.\n",
    "\n",
    "Behind the scenes, Vanna uses Retrieval Augmented Generation (RAG) to generate the SQL query. It utilizes a vector database to store information about our data such as the schema, table names, and column names, example SQL statements, data documentation, and others. This information is then used to retrieve the most relevant information when generating the SQL query.\n",
    "\n",
    "Let's see how we can create a custom pipeline that leverages Bedrock and our DuckDB database."
   ]
  },
  {
   "cell_type": "code",
   "execution_count": 10,
   "metadata": {},
   "outputs": [],
   "source": [
    "from vanna.chromadb import ChromaDB_VectorStore\n",
    "from vanna.bedrock.bedrock_converse import Bedrock_Converse\n",
    "import boto3\n",
    "import re"
   ]
  },
  {
   "cell_type": "markdown",
   "metadata": {},
   "source": [
    "Bellow is where we configure our Vanna text to sql pipeline. We'll use Claude 3 models from Bedrock, a local [ChromaDB](https://www.trychroma.com/) vector database that is natively supported by Vanna, and our DuckDB database.\n",
    "\n",
    "There are a few modifications to get the best results with Claude3 models. First is the default `initial_prompt` is modified to instruct Claude to output the generated sql inot `<sql></sql>` xml tags. Secondly a custom `extract_sql` function is implemented to extract the generated sql from the xml tags."
   ]
  },
  {
   "cell_type": "code",
   "execution_count": 11,
   "metadata": {},
   "outputs": [],
   "source": [
    "bedrock_runtime = boto3.client(\"bedrock-runtime\")\n",
    "config = {\n",
    "    \"modelId\": \"anthropic.claude-3-sonnet-20240229-v1:0\",\n",
    "    \"temperature\": 0.4,\n",
    "    \"max_tokens\": 2048,\n",
    "    \"initial_prompt\": f\"You are an ANSI SQL expert.\\n\"\n",
    "    + \"Please help to generate a SQL query to answer the question. Your response should ONLY be based on the given context and follow the response guidelines and format instructions.\\n\"\n",
    "    + \"Always place the generated SQL into <sql></sql> tags.\",\n",
    "}\n",
    "\n",
    "\n",
    "class MyVanna(ChromaDB_VectorStore, Bedrock_Converse):\n",
    "    def __init__(self, config=None):\n",
    "        ChromaDB_VectorStore.__init__(self, config=config)\n",
    "        Bedrock_Converse.__init__(self, client=bedrock_runtime, config=config)\n",
    "\n",
    "    def extract_sql(self, llm_response: str) -> str:\n",
    "        sql_text = re.search(r\"<sql>(.*?)</sql>\", llm_response, re.DOTALL)\n",
    "        if sql_text:\n",
    "            return sql_text.group(1)\n",
    "        else:\n",
    "            return llm_response\n",
    "\n",
    "\n",
    "vn = MyVanna(config)"
   ]
  },
  {
   "cell_type": "code",
   "execution_count": 12,
   "metadata": {},
   "outputs": [
    {
     "name": "stdout",
     "output_type": "stream",
     "text": [
      "False\n"
     ]
    }
   ],
   "source": [
    "# connect to the DuckDB database\n",
    "vn.connect_to_duckdb(url='duckdb:///credit_scoring.duckdb')"
   ]
  },
  {
   "cell_type": "markdown",
   "metadata": {},
   "source": [
    "### \"Training\" the RAG model\n",
    "We can now begin to \"train\" the model by ingesting information into the ChromaDB vector database. First, Vanna can generate some basic documentation for the tables in the database using a built-in template. "
   ]
  },
  {
   "cell_type": "code",
   "execution_count": 13,
   "metadata": {},
   "outputs": [
    {
     "data": {
      "text/plain": [
       "Train on Information Schema: credit_scoring.main accounts\n",
       "Train on Information Schema: credit_scoring.main customers\n",
       "Train on Information Schema: credit_scoring.main monthly_records"
      ]
     },
     "execution_count": 13,
     "metadata": {},
     "output_type": "execute_result"
    }
   ],
   "source": [
    "df_information_schema = vn.run_sql(\"SELECT * FROM INFORMATION_SCHEMA.COLUMNS\")\n",
    "\n",
    "# This will break up the information schema into bite-sized chunks that can be referenced by the LLM\n",
    "plan = vn.get_training_plan_generic(df_information_schema)\n",
    "plan"
   ]
  },
  {
   "cell_type": "code",
   "execution_count": 14,
   "metadata": {},
   "outputs": [
    {
     "name": "stderr",
     "output_type": "stream",
     "text": [
      "/home/sagemaker-user/.cache/chroma/onnx_models/all-MiniLM-L6-v2/onnx.tar.gz: 100%|██████████| 79.3M/79.3M [00:01<00:00, 81.6MiB/s]\n"
     ]
    }
   ],
   "source": [
    "# train on the plan\n",
    "vn.train(plan=plan)"
   ]
  },
  {
   "cell_type": "code",
   "execution_count": 15,
   "metadata": {},
   "outputs": [
    {
     "name": "stdout",
     "output_type": "stream",
     "text": [
      "The following columns are in the customers table in the credit_scoring database:\n",
      "\n",
      "|    | table_catalog   | table_schema   | table_name   | column_name   | data_type   | COLUMN_COMMENT   |\n",
      "|---:|:----------------|:---------------|:-------------|:--------------|:------------|:-----------------|\n",
      "|  5 | credit_scoring  | main           | customers    | Customer_ID   | VARCHAR     |                  |\n",
      "|  6 | credit_scoring  | main           | customers    | Name          | VARCHAR     |                  |\n",
      "|  7 | credit_scoring  | main           | customers    | Age           | INTEGER     |                  |\n",
      "|  8 | credit_scoring  | main           | customers    | SSN           | VARCHAR     |                  |\n",
      "|  9 | credit_scoring  | main           | customers    | Occupation    | VARCHAR     |                  |\n",
      "| 10 | credit_scoring  | main           | customers    | Annual_Income | FLOAT       |                  |\n"
     ]
    }
   ],
   "source": [
    "# Let's see what the generated documentation looks like\n",
    "training_data = vn.get_training_data()\n",
    "print(training_data.query(\"training_data_type == 'documentation'\").iloc[0][\"content\"])"
   ]
  },
  {
   "cell_type": "code",
   "execution_count": 16,
   "metadata": {},
   "outputs": [
    {
     "data": {
      "text/html": [
       "<div>\n",
       "<style scoped>\n",
       "    .dataframe tbody tr th:only-of-type {\n",
       "        vertical-align: middle;\n",
       "    }\n",
       "\n",
       "    .dataframe tbody tr th {\n",
       "        vertical-align: top;\n",
       "    }\n",
       "\n",
       "    .dataframe thead th {\n",
       "        text-align: right;\n",
       "    }\n",
       "</style>\n",
       "<table border=\"1\" class=\"dataframe\">\n",
       "  <thead>\n",
       "    <tr style=\"text-align: right;\">\n",
       "      <th></th>\n",
       "      <th>id</th>\n",
       "      <th>question</th>\n",
       "      <th>content</th>\n",
       "      <th>training_data_type</th>\n",
       "    </tr>\n",
       "  </thead>\n",
       "  <tbody>\n",
       "    <tr>\n",
       "      <th>0</th>\n",
       "      <td>4b95dde7-b023-5e4f-b08f-1ee41d1d4ae1-doc</td>\n",
       "      <td>None</td>\n",
       "      <td>The following columns are in the customers tab...</td>\n",
       "      <td>documentation</td>\n",
       "    </tr>\n",
       "    <tr>\n",
       "      <th>1</th>\n",
       "      <td>6f70c71b-c4f7-5160-826b-c12c576f0e28-doc</td>\n",
       "      <td>None</td>\n",
       "      <td>The following columns are in the accounts tabl...</td>\n",
       "      <td>documentation</td>\n",
       "    </tr>\n",
       "    <tr>\n",
       "      <th>2</th>\n",
       "      <td>9c59a30a-a8fb-5219-88d5-258e69691fa0-doc</td>\n",
       "      <td>None</td>\n",
       "      <td>The following columns are in the monthly_recor...</td>\n",
       "      <td>documentation</td>\n",
       "    </tr>\n",
       "  </tbody>\n",
       "</table>\n",
       "</div>"
      ],
      "text/plain": [
       "                                         id question  \\\n",
       "0  4b95dde7-b023-5e4f-b08f-1ee41d1d4ae1-doc     None   \n",
       "1  6f70c71b-c4f7-5160-826b-c12c576f0e28-doc     None   \n",
       "2  9c59a30a-a8fb-5219-88d5-258e69691fa0-doc     None   \n",
       "\n",
       "                                             content training_data_type  \n",
       "0  The following columns are in the customers tab...      documentation  \n",
       "1  The following columns are in the accounts tabl...      documentation  \n",
       "2  The following columns are in the monthly_recor...      documentation  "
      ]
     },
     "execution_count": 16,
     "metadata": {},
     "output_type": "execute_result"
    }
   ],
   "source": [
    "training_data"
   ]
  },
  {
   "cell_type": "markdown",
   "metadata": {},
   "source": [
    "Let's add a few more examples of training data using the DDL statements from earlier"
   ]
  },
  {
   "cell_type": "code",
   "execution_count": 17,
   "metadata": {},
   "outputs": [
    {
     "name": "stdout",
     "output_type": "stream",
     "text": [
      "Adding ddl: CREATE TABLE IF NOT EXISTS customers (Customer_ID VARCHAR, Name VARCHAR, Age INTEGER, SSN VARCHAR, Occupation VARCHAR, Annual_Income FLOAT)\n",
      "Adding ddl: CREATE TABLE IF NOT EXISTS accounts (Customer_ID VARCHAR, Num_Bank_Accounts INTEGER, Num_Credit_Card INTEGER, Num_of_Loan INTEGER, Type_of_Loan VARCHAR)\n",
      "Adding ddl: CREATE TABLE IF NOT EXISTS monthly_records (ID VARCHAR, Customer_ID VARCHAR, Month VARCHAR, Monthly_Inhand_Salary FLOAT, Delay_from_due_date INTEGER, Num_of_Delayed_Payment INTEGER, Changed_Credit_Limit FLOAT, Num_Credit_Inquiries INTEGER, Credit_Mix VARCHAR, Outstanding_Debt FLOAT, Credit_Utilization_Ratio FLOAT, Credit_History_Age VARCHAR, Payment_of_Min_Amount VARCHAR, Total_EMI_per_month FLOAT, Amount_invested_monthly FLOAT, Payment_Behaviour VARCHAR, Monthly_Balance FLOAT)\n"
     ]
    },
    {
     "data": {
      "text/plain": [
       "'d4aded77-8e96-5bc1-8313-5bd98b6c5578-ddl'"
      ]
     },
     "execution_count": 17,
     "metadata": {},
     "output_type": "execute_result"
    }
   ],
   "source": [
    "vn.train(ddl=customers_ddl)\n",
    "vn.train(ddl=accounts_ddl)\n",
    "vn.train(ddl=records_ddl)"
   ]
  },
  {
   "cell_type": "markdown",
   "metadata": {},
   "source": [
    "We can add additional documentation as well. For example, the only thing the LLM would know about the `Month` field is that it is a `VARCHAR`, but the month could be represented in any number of ways for example `January`, `Jan`, `01`, `01/24`, etc. We can add this information to the vector database to help the LLM generate the correct SQL query when it needs to filter by month."
   ]
  },
  {
   "cell_type": "code",
   "execution_count": 18,
   "metadata": {},
   "outputs": [
    {
     "name": "stdout",
     "output_type": "stream",
     "text": [
      "Adding documentation....\n"
     ]
    },
    {
     "data": {
      "text/plain": [
       "'b0e5b997-6557-5732-b2f9-2173a5d70bb1-doc'"
      ]
     },
     "execution_count": 18,
     "metadata": {},
     "output_type": "execute_result"
    }
   ],
   "source": [
    "vn.train(documentation=\"In the records table, the column Month has the following values: January, February, March, April, May, June, July, August\")"
   ]
  },
  {
   "cell_type": "code",
   "execution_count": 19,
   "metadata": {},
   "outputs": [
    {
     "data": {
      "text/html": [
       "<div>\n",
       "<style scoped>\n",
       "    .dataframe tbody tr th:only-of-type {\n",
       "        vertical-align: middle;\n",
       "    }\n",
       "\n",
       "    .dataframe tbody tr th {\n",
       "        vertical-align: top;\n",
       "    }\n",
       "\n",
       "    .dataframe thead th {\n",
       "        text-align: right;\n",
       "    }\n",
       "</style>\n",
       "<table border=\"1\" class=\"dataframe\">\n",
       "  <thead>\n",
       "    <tr style=\"text-align: right;\">\n",
       "      <th></th>\n",
       "      <th>id</th>\n",
       "      <th>question</th>\n",
       "      <th>content</th>\n",
       "      <th>training_data_type</th>\n",
       "    </tr>\n",
       "  </thead>\n",
       "  <tbody>\n",
       "    <tr>\n",
       "      <th>0</th>\n",
       "      <td>376ae67a-43de-562f-8b3e-62037c44e029-ddl</td>\n",
       "      <td>None</td>\n",
       "      <td>CREATE TABLE IF NOT EXISTS customers (Customer...</td>\n",
       "      <td>ddl</td>\n",
       "    </tr>\n",
       "    <tr>\n",
       "      <th>1</th>\n",
       "      <td>d4aded77-8e96-5bc1-8313-5bd98b6c5578-ddl</td>\n",
       "      <td>None</td>\n",
       "      <td>CREATE TABLE IF NOT EXISTS monthly_records (ID...</td>\n",
       "      <td>ddl</td>\n",
       "    </tr>\n",
       "    <tr>\n",
       "      <th>2</th>\n",
       "      <td>d8d5bdb1-64ea-5b59-afe6-6fcebc3a439b-ddl</td>\n",
       "      <td>None</td>\n",
       "      <td>CREATE TABLE IF NOT EXISTS accounts (Customer_...</td>\n",
       "      <td>ddl</td>\n",
       "    </tr>\n",
       "    <tr>\n",
       "      <th>0</th>\n",
       "      <td>4b95dde7-b023-5e4f-b08f-1ee41d1d4ae1-doc</td>\n",
       "      <td>None</td>\n",
       "      <td>The following columns are in the customers tab...</td>\n",
       "      <td>documentation</td>\n",
       "    </tr>\n",
       "    <tr>\n",
       "      <th>1</th>\n",
       "      <td>6f70c71b-c4f7-5160-826b-c12c576f0e28-doc</td>\n",
       "      <td>None</td>\n",
       "      <td>The following columns are in the accounts tabl...</td>\n",
       "      <td>documentation</td>\n",
       "    </tr>\n",
       "    <tr>\n",
       "      <th>2</th>\n",
       "      <td>9c59a30a-a8fb-5219-88d5-258e69691fa0-doc</td>\n",
       "      <td>None</td>\n",
       "      <td>The following columns are in the monthly_recor...</td>\n",
       "      <td>documentation</td>\n",
       "    </tr>\n",
       "    <tr>\n",
       "      <th>3</th>\n",
       "      <td>b0e5b997-6557-5732-b2f9-2173a5d70bb1-doc</td>\n",
       "      <td>None</td>\n",
       "      <td>In the records table, the column Month has the...</td>\n",
       "      <td>documentation</td>\n",
       "    </tr>\n",
       "  </tbody>\n",
       "</table>\n",
       "</div>"
      ],
      "text/plain": [
       "                                         id question  \\\n",
       "0  376ae67a-43de-562f-8b3e-62037c44e029-ddl     None   \n",
       "1  d4aded77-8e96-5bc1-8313-5bd98b6c5578-ddl     None   \n",
       "2  d8d5bdb1-64ea-5b59-afe6-6fcebc3a439b-ddl     None   \n",
       "0  4b95dde7-b023-5e4f-b08f-1ee41d1d4ae1-doc     None   \n",
       "1  6f70c71b-c4f7-5160-826b-c12c576f0e28-doc     None   \n",
       "2  9c59a30a-a8fb-5219-88d5-258e69691fa0-doc     None   \n",
       "3  b0e5b997-6557-5732-b2f9-2173a5d70bb1-doc     None   \n",
       "\n",
       "                                             content training_data_type  \n",
       "0  CREATE TABLE IF NOT EXISTS customers (Customer...                ddl  \n",
       "1  CREATE TABLE IF NOT EXISTS monthly_records (ID...                ddl  \n",
       "2  CREATE TABLE IF NOT EXISTS accounts (Customer_...                ddl  \n",
       "0  The following columns are in the customers tab...      documentation  \n",
       "1  The following columns are in the accounts tabl...      documentation  \n",
       "2  The following columns are in the monthly_recor...      documentation  \n",
       "3  In the records table, the column Month has the...      documentation  "
      ]
     },
     "execution_count": 19,
     "metadata": {},
     "output_type": "execute_result"
    }
   ],
   "source": [
    "training_data = vn.get_training_data()\n",
    "training_data"
   ]
  },
  {
   "cell_type": "markdown",
   "metadata": {},
   "source": [
    "### Query the database with natural language"
   ]
  },
  {
   "cell_type": "code",
   "execution_count": 20,
   "metadata": {},
   "outputs": [
    {
     "name": "stderr",
     "output_type": "stream",
     "text": [
      "Number of requested results 10 is greater than number of elements in index 3, updating n_results = 3\n",
      "Number of requested results 10 is greater than number of elements in index 4, updating n_results = 4\n"
     ]
    },
    {
     "name": "stdout",
     "output_type": "stream",
     "text": [
      "SQL Prompt: [{'role': 'system', 'content': \"You are an ANSI SQL expert.\\nPlease help to generate a SQL query to answer the question. Your response should ONLY be based on the given context and follow the response guidelines and format instructions.\\nAlways place the generated SQL into <sql></sql> tags.\\n===Tables \\nCREATE TABLE IF NOT EXISTS customers (Customer_ID VARCHAR, Name VARCHAR, Age INTEGER, SSN VARCHAR, Occupation VARCHAR, Annual_Income FLOAT)\\n\\nCREATE TABLE IF NOT EXISTS accounts (Customer_ID VARCHAR, Num_Bank_Accounts INTEGER, Num_Credit_Card INTEGER, Num_of_Loan INTEGER, Type_of_Loan VARCHAR)\\n\\nCREATE TABLE IF NOT EXISTS monthly_records (ID VARCHAR, Customer_ID VARCHAR, Month VARCHAR, Monthly_Inhand_Salary FLOAT, Delay_from_due_date INTEGER, Num_of_Delayed_Payment INTEGER, Changed_Credit_Limit FLOAT, Num_Credit_Inquiries INTEGER, Credit_Mix VARCHAR, Outstanding_Debt FLOAT, Credit_Utilization_Ratio FLOAT, Credit_History_Age VARCHAR, Payment_of_Min_Amount VARCHAR, Total_EMI_per_month FLOAT, Amount_invested_monthly FLOAT, Payment_Behaviour VARCHAR, Monthly_Balance FLOAT)\\n\\n\\n===Additional Context \\n\\nThe following columns are in the customers table in the credit_scoring database:\\n\\n|    | table_catalog   | table_schema   | table_name   | column_name   | data_type   | COLUMN_COMMENT   |\\n|---:|:----------------|:---------------|:-------------|:--------------|:------------|:-----------------|\\n|  5 | credit_scoring  | main           | customers    | Customer_ID   | VARCHAR     |                  |\\n|  6 | credit_scoring  | main           | customers    | Name          | VARCHAR     |                  |\\n|  7 | credit_scoring  | main           | customers    | Age           | INTEGER     |                  |\\n|  8 | credit_scoring  | main           | customers    | SSN           | VARCHAR     |                  |\\n|  9 | credit_scoring  | main           | customers    | Occupation    | VARCHAR     |                  |\\n| 10 | credit_scoring  | main           | customers    | Annual_Income | FLOAT       |                  |\\n\\nThe following columns are in the monthly_records table in the credit_scoring database:\\n\\n|    | table_catalog   | table_schema   | table_name      | column_name              | data_type   | COLUMN_COMMENT   |\\n|---:|:----------------|:---------------|:----------------|:-------------------------|:------------|:-----------------|\\n| 11 | credit_scoring  | main           | monthly_records | ID                       | VARCHAR     |                  |\\n| 12 | credit_scoring  | main           | monthly_records | Customer_ID              | VARCHAR     |                  |\\n| 13 | credit_scoring  | main           | monthly_records | Month                    | VARCHAR     |                  |\\n| 14 | credit_scoring  | main           | monthly_records | Monthly_Inhand_Salary    | FLOAT       |                  |\\n| 15 | credit_scoring  | main           | monthly_records | Delay_from_due_date      | INTEGER     |                  |\\n| 16 | credit_scoring  | main           | monthly_records | Num_of_Delayed_Payment   | INTEGER     |                  |\\n| 17 | credit_scoring  | main           | monthly_records | Changed_Credit_Limit     | FLOAT       |                  |\\n| 18 | credit_scoring  | main           | monthly_records | Num_Credit_Inquiries     | INTEGER     |                  |\\n| 19 | credit_scoring  | main           | monthly_records | Credit_Mix               | VARCHAR     |                  |\\n| 20 | credit_scoring  | main           | monthly_records | Outstanding_Debt         | FLOAT       |                  |\\n| 21 | credit_scoring  | main           | monthly_records | Credit_Utilization_Ratio | FLOAT       |                  |\\n| 22 | credit_scoring  | main           | monthly_records | Credit_History_Age       | VARCHAR     |                  |\\n| 23 | credit_scoring  | main           | monthly_records | Payment_of_Min_Amount    | VARCHAR     |                  |\\n| 24 | credit_scoring  | main           | monthly_records | Total_EMI_per_month      | FLOAT       |                  |\\n| 25 | credit_scoring  | main           | monthly_records | Amount_invested_monthly  | FLOAT       |                  |\\n| 26 | credit_scoring  | main           | monthly_records | Payment_Behaviour        | VARCHAR     |                  |\\n| 27 | credit_scoring  | main           | monthly_records | Monthly_Balance          | FLOAT       |                  |\\n\\nThe following columns are in the accounts table in the credit_scoring database:\\n\\n|    | table_catalog   | table_schema   | table_name   | column_name       | data_type   | COLUMN_COMMENT   |\\n|---:|:----------------|:---------------|:-------------|:------------------|:------------|:-----------------|\\n|  0 | credit_scoring  | main           | accounts     | Customer_ID       | VARCHAR     |                  |\\n|  1 | credit_scoring  | main           | accounts     | Num_Bank_Accounts | INTEGER     |                  |\\n|  2 | credit_scoring  | main           | accounts     | Num_Credit_Card   | INTEGER     |                  |\\n|  3 | credit_scoring  | main           | accounts     | Num_of_Loan       | INTEGER     |                  |\\n|  4 | credit_scoring  | main           | accounts     | Type_of_Loan      | VARCHAR     |                  |\\n\\nIn the records table, the column Month has the following values: January, February, March, April, May, June, July, August\\n\\n===Response Guidelines \\n1. If the provided context is sufficient, please generate a valid SQL query without any explanations for the question. \\n2. If the provided context is almost sufficient but requires knowledge of a specific string in a particular column, please generate an intermediate SQL query to find the distinct strings in that column. Prepend the query with a comment saying intermediate_sql \\n3. If the provided context is insufficient, please explain why it can't be generated. \\n4. Please use the most relevant table(s). \\n5. If the question has been asked and answered before, please repeat the answer exactly as it was given before. \\n6. Ensure that the output SQL is DuckDB SQL-compliant and executable, and free of syntax errors. \\n\"}, {'role': 'user', 'content': 'What is the average age of the customers?'}]\n",
      "LLM Response: <sql>\n",
      "SELECT AVG(Age) AS average_age\n",
      "FROM customers;\n",
      "</sql>\n",
      "\n",
      "SELECT AVG(Age) AS average_age\n",
      "FROM customers;\n",
      "\n",
      "   average_age\n",
      "0    122.57128\n"
     ]
    },
    {
     "data": {
      "text/html": [
       "<div>\n",
       "<style scoped>\n",
       "    .dataframe tbody tr th:only-of-type {\n",
       "        vertical-align: middle;\n",
       "    }\n",
       "\n",
       "    .dataframe tbody tr th {\n",
       "        vertical-align: top;\n",
       "    }\n",
       "\n",
       "    .dataframe thead th {\n",
       "        text-align: right;\n",
       "    }\n",
       "</style>\n",
       "<table border=\"1\" class=\"dataframe\">\n",
       "  <thead>\n",
       "    <tr style=\"text-align: right;\">\n",
       "      <th></th>\n",
       "      <th>average_age</th>\n",
       "    </tr>\n",
       "  </thead>\n",
       "  <tbody>\n",
       "    <tr>\n",
       "      <th>0</th>\n",
       "      <td>122.57128</td>\n",
       "    </tr>\n",
       "  </tbody>\n",
       "</table>\n",
       "</div>"
      ],
      "text/plain": [
       "   average_age\n",
       "0    122.57128"
      ]
     },
     "execution_count": 20,
     "metadata": {},
     "output_type": "execute_result"
    }
   ],
   "source": [
    "# Let's start with a simple question\n",
    "sql, result, _ = vn.ask(question=\"What is the average age of the customers?\", visualize=False)\n",
    "result"
   ]
  },
  {
   "cell_type": "code",
   "execution_count": 21,
   "metadata": {},
   "outputs": [
    {
     "name": "stderr",
     "output_type": "stream",
     "text": [
      "Number of requested results 10 is greater than number of elements in index 1, updating n_results = 1\n",
      "Number of requested results 10 is greater than number of elements in index 3, updating n_results = 3\n",
      "Number of requested results 10 is greater than number of elements in index 4, updating n_results = 4\n"
     ]
    },
    {
     "name": "stdout",
     "output_type": "stream",
     "text": [
      "SQL Prompt: [{'role': 'system', 'content': \"You are an ANSI SQL expert.\\nPlease help to generate a SQL query to answer the question. Your response should ONLY be based on the given context and follow the response guidelines and format instructions.\\nAlways place the generated SQL into <sql></sql> tags.\\n===Tables \\nCREATE TABLE IF NOT EXISTS customers (Customer_ID VARCHAR, Name VARCHAR, Age INTEGER, SSN VARCHAR, Occupation VARCHAR, Annual_Income FLOAT)\\n\\nCREATE TABLE IF NOT EXISTS accounts (Customer_ID VARCHAR, Num_Bank_Accounts INTEGER, Num_Credit_Card INTEGER, Num_of_Loan INTEGER, Type_of_Loan VARCHAR)\\n\\nCREATE TABLE IF NOT EXISTS monthly_records (ID VARCHAR, Customer_ID VARCHAR, Month VARCHAR, Monthly_Inhand_Salary FLOAT, Delay_from_due_date INTEGER, Num_of_Delayed_Payment INTEGER, Changed_Credit_Limit FLOAT, Num_Credit_Inquiries INTEGER, Credit_Mix VARCHAR, Outstanding_Debt FLOAT, Credit_Utilization_Ratio FLOAT, Credit_History_Age VARCHAR, Payment_of_Min_Amount VARCHAR, Total_EMI_per_month FLOAT, Amount_invested_monthly FLOAT, Payment_Behaviour VARCHAR, Monthly_Balance FLOAT)\\n\\n\\n===Additional Context \\n\\nThe following columns are in the customers table in the credit_scoring database:\\n\\n|    | table_catalog   | table_schema   | table_name   | column_name   | data_type   | COLUMN_COMMENT   |\\n|---:|:----------------|:---------------|:-------------|:--------------|:------------|:-----------------|\\n|  5 | credit_scoring  | main           | customers    | Customer_ID   | VARCHAR     |                  |\\n|  6 | credit_scoring  | main           | customers    | Name          | VARCHAR     |                  |\\n|  7 | credit_scoring  | main           | customers    | Age           | INTEGER     |                  |\\n|  8 | credit_scoring  | main           | customers    | SSN           | VARCHAR     |                  |\\n|  9 | credit_scoring  | main           | customers    | Occupation    | VARCHAR     |                  |\\n| 10 | credit_scoring  | main           | customers    | Annual_Income | FLOAT       |                  |\\n\\nThe following columns are in the accounts table in the credit_scoring database:\\n\\n|    | table_catalog   | table_schema   | table_name   | column_name       | data_type   | COLUMN_COMMENT   |\\n|---:|:----------------|:---------------|:-------------|:------------------|:------------|:-----------------|\\n|  0 | credit_scoring  | main           | accounts     | Customer_ID       | VARCHAR     |                  |\\n|  1 | credit_scoring  | main           | accounts     | Num_Bank_Accounts | INTEGER     |                  |\\n|  2 | credit_scoring  | main           | accounts     | Num_Credit_Card   | INTEGER     |                  |\\n|  3 | credit_scoring  | main           | accounts     | Num_of_Loan       | INTEGER     |                  |\\n|  4 | credit_scoring  | main           | accounts     | Type_of_Loan      | VARCHAR     |                  |\\n\\nThe following columns are in the monthly_records table in the credit_scoring database:\\n\\n|    | table_catalog   | table_schema   | table_name      | column_name              | data_type   | COLUMN_COMMENT   |\\n|---:|:----------------|:---------------|:----------------|:-------------------------|:------------|:-----------------|\\n| 11 | credit_scoring  | main           | monthly_records | ID                       | VARCHAR     |                  |\\n| 12 | credit_scoring  | main           | monthly_records | Customer_ID              | VARCHAR     |                  |\\n| 13 | credit_scoring  | main           | monthly_records | Month                    | VARCHAR     |                  |\\n| 14 | credit_scoring  | main           | monthly_records | Monthly_Inhand_Salary    | FLOAT       |                  |\\n| 15 | credit_scoring  | main           | monthly_records | Delay_from_due_date      | INTEGER     |                  |\\n| 16 | credit_scoring  | main           | monthly_records | Num_of_Delayed_Payment   | INTEGER     |                  |\\n| 17 | credit_scoring  | main           | monthly_records | Changed_Credit_Limit     | FLOAT       |                  |\\n| 18 | credit_scoring  | main           | monthly_records | Num_Credit_Inquiries     | INTEGER     |                  |\\n| 19 | credit_scoring  | main           | monthly_records | Credit_Mix               | VARCHAR     |                  |\\n| 20 | credit_scoring  | main           | monthly_records | Outstanding_Debt         | FLOAT       |                  |\\n| 21 | credit_scoring  | main           | monthly_records | Credit_Utilization_Ratio | FLOAT       |                  |\\n| 22 | credit_scoring  | main           | monthly_records | Credit_History_Age       | VARCHAR     |                  |\\n| 23 | credit_scoring  | main           | monthly_records | Payment_of_Min_Amount    | VARCHAR     |                  |\\n| 24 | credit_scoring  | main           | monthly_records | Total_EMI_per_month      | FLOAT       |                  |\\n| 25 | credit_scoring  | main           | monthly_records | Amount_invested_monthly  | FLOAT       |                  |\\n| 26 | credit_scoring  | main           | monthly_records | Payment_Behaviour        | VARCHAR     |                  |\\n| 27 | credit_scoring  | main           | monthly_records | Monthly_Balance          | FLOAT       |                  |\\n\\nIn the records table, the column Month has the following values: January, February, March, April, May, June, July, August\\n\\n===Response Guidelines \\n1. If the provided context is sufficient, please generate a valid SQL query without any explanations for the question. \\n2. If the provided context is almost sufficient but requires knowledge of a specific string in a particular column, please generate an intermediate SQL query to find the distinct strings in that column. Prepend the query with a comment saying intermediate_sql \\n3. If the provided context is insufficient, please explain why it can't be generated. \\n4. Please use the most relevant table(s). \\n5. If the question has been asked and answered before, please repeat the answer exactly as it was given before. \\n6. Ensure that the output SQL is DuckDB SQL-compliant and executable, and free of syntax errors. \\n\"}, {'role': 'user', 'content': 'What is the average age of the customers?'}, {'role': 'assistant', 'content': '\\nSELECT AVG(Age) AS average_age\\nFROM customers;\\n'}, {'role': 'user', 'content': 'Who are the top 5 oldest customers?'}]\n",
      "LLM Response: <sql>\n",
      "SELECT Name, Age\n",
      "FROM customers\n",
      "ORDER BY Age DESC\n",
      "LIMIT 5;\n",
      "</sql>\n",
      "\n",
      "SELECT Name, Age\n",
      "FROM customers\n",
      "ORDER BY Age DESC\n",
      "LIMIT 5;\n",
      "\n",
      "              Name   Age\n",
      "0  Tim McLaughlinz  8592\n",
      "1        Sarah N.y  8587\n",
      "2             None  8490\n",
      "3        Scuffhamf  8481\n",
      "4     Mihir Dalald  8425\n"
     ]
    },
    {
     "data": {
      "text/html": [
       "<div>\n",
       "<style scoped>\n",
       "    .dataframe tbody tr th:only-of-type {\n",
       "        vertical-align: middle;\n",
       "    }\n",
       "\n",
       "    .dataframe tbody tr th {\n",
       "        vertical-align: top;\n",
       "    }\n",
       "\n",
       "    .dataframe thead th {\n",
       "        text-align: right;\n",
       "    }\n",
       "</style>\n",
       "<table border=\"1\" class=\"dataframe\">\n",
       "  <thead>\n",
       "    <tr style=\"text-align: right;\">\n",
       "      <th></th>\n",
       "      <th>Name</th>\n",
       "      <th>Age</th>\n",
       "    </tr>\n",
       "  </thead>\n",
       "  <tbody>\n",
       "    <tr>\n",
       "      <th>0</th>\n",
       "      <td>Tim McLaughlinz</td>\n",
       "      <td>8592</td>\n",
       "    </tr>\n",
       "    <tr>\n",
       "      <th>1</th>\n",
       "      <td>Sarah N.y</td>\n",
       "      <td>8587</td>\n",
       "    </tr>\n",
       "    <tr>\n",
       "      <th>2</th>\n",
       "      <td>None</td>\n",
       "      <td>8490</td>\n",
       "    </tr>\n",
       "    <tr>\n",
       "      <th>3</th>\n",
       "      <td>Scuffhamf</td>\n",
       "      <td>8481</td>\n",
       "    </tr>\n",
       "    <tr>\n",
       "      <th>4</th>\n",
       "      <td>Mihir Dalald</td>\n",
       "      <td>8425</td>\n",
       "    </tr>\n",
       "  </tbody>\n",
       "</table>\n",
       "</div>"
      ],
      "text/plain": [
       "              Name   Age\n",
       "0  Tim McLaughlinz  8592\n",
       "1        Sarah N.y  8587\n",
       "2             None  8490\n",
       "3        Scuffhamf  8481\n",
       "4     Mihir Dalald  8425"
      ]
     },
     "execution_count": 21,
     "metadata": {},
     "output_type": "execute_result"
    }
   ],
   "source": [
    "# Average age seems high, let's find out why\n",
    "sql, result, _ = vn.ask(question=\"Who are the top 5 oldest customers?\", visualize=False)\n",
    "result"
   ]
  },
  {
   "cell_type": "code",
   "execution_count": 22,
   "metadata": {},
   "outputs": [
    {
     "name": "stderr",
     "output_type": "stream",
     "text": [
      "Number of requested results 10 is greater than number of elements in index 2, updating n_results = 2\n",
      "Number of requested results 10 is greater than number of elements in index 3, updating n_results = 3\n",
      "Number of requested results 10 is greater than number of elements in index 4, updating n_results = 4\n"
     ]
    },
    {
     "name": "stdout",
     "output_type": "stream",
     "text": [
      "SQL Prompt: [{'role': 'system', 'content': \"You are an ANSI SQL expert.\\nPlease help to generate a SQL query to answer the question. Your response should ONLY be based on the given context and follow the response guidelines and format instructions.\\nAlways place the generated SQL into <sql></sql> tags.\\n===Tables \\nCREATE TABLE IF NOT EXISTS monthly_records (ID VARCHAR, Customer_ID VARCHAR, Month VARCHAR, Monthly_Inhand_Salary FLOAT, Delay_from_due_date INTEGER, Num_of_Delayed_Payment INTEGER, Changed_Credit_Limit FLOAT, Num_Credit_Inquiries INTEGER, Credit_Mix VARCHAR, Outstanding_Debt FLOAT, Credit_Utilization_Ratio FLOAT, Credit_History_Age VARCHAR, Payment_of_Min_Amount VARCHAR, Total_EMI_per_month FLOAT, Amount_invested_monthly FLOAT, Payment_Behaviour VARCHAR, Monthly_Balance FLOAT)\\n\\nCREATE TABLE IF NOT EXISTS customers (Customer_ID VARCHAR, Name VARCHAR, Age INTEGER, SSN VARCHAR, Occupation VARCHAR, Annual_Income FLOAT)\\n\\nCREATE TABLE IF NOT EXISTS accounts (Customer_ID VARCHAR, Num_Bank_Accounts INTEGER, Num_Credit_Card INTEGER, Num_of_Loan INTEGER, Type_of_Loan VARCHAR)\\n\\n\\n===Additional Context \\n\\nThe following columns are in the monthly_records table in the credit_scoring database:\\n\\n|    | table_catalog   | table_schema   | table_name      | column_name              | data_type   | COLUMN_COMMENT   |\\n|---:|:----------------|:---------------|:----------------|:-------------------------|:------------|:-----------------|\\n| 11 | credit_scoring  | main           | monthly_records | ID                       | VARCHAR     |                  |\\n| 12 | credit_scoring  | main           | monthly_records | Customer_ID              | VARCHAR     |                  |\\n| 13 | credit_scoring  | main           | monthly_records | Month                    | VARCHAR     |                  |\\n| 14 | credit_scoring  | main           | monthly_records | Monthly_Inhand_Salary    | FLOAT       |                  |\\n| 15 | credit_scoring  | main           | monthly_records | Delay_from_due_date      | INTEGER     |                  |\\n| 16 | credit_scoring  | main           | monthly_records | Num_of_Delayed_Payment   | INTEGER     |                  |\\n| 17 | credit_scoring  | main           | monthly_records | Changed_Credit_Limit     | FLOAT       |                  |\\n| 18 | credit_scoring  | main           | monthly_records | Num_Credit_Inquiries     | INTEGER     |                  |\\n| 19 | credit_scoring  | main           | monthly_records | Credit_Mix               | VARCHAR     |                  |\\n| 20 | credit_scoring  | main           | monthly_records | Outstanding_Debt         | FLOAT       |                  |\\n| 21 | credit_scoring  | main           | monthly_records | Credit_Utilization_Ratio | FLOAT       |                  |\\n| 22 | credit_scoring  | main           | monthly_records | Credit_History_Age       | VARCHAR     |                  |\\n| 23 | credit_scoring  | main           | monthly_records | Payment_of_Min_Amount    | VARCHAR     |                  |\\n| 24 | credit_scoring  | main           | monthly_records | Total_EMI_per_month      | FLOAT       |                  |\\n| 25 | credit_scoring  | main           | monthly_records | Amount_invested_monthly  | FLOAT       |                  |\\n| 26 | credit_scoring  | main           | monthly_records | Payment_Behaviour        | VARCHAR     |                  |\\n| 27 | credit_scoring  | main           | monthly_records | Monthly_Balance          | FLOAT       |                  |\\n\\nThe following columns are in the customers table in the credit_scoring database:\\n\\n|    | table_catalog   | table_schema   | table_name   | column_name   | data_type   | COLUMN_COMMENT   |\\n|---:|:----------------|:---------------|:-------------|:--------------|:------------|:-----------------|\\n|  5 | credit_scoring  | main           | customers    | Customer_ID   | VARCHAR     |                  |\\n|  6 | credit_scoring  | main           | customers    | Name          | VARCHAR     |                  |\\n|  7 | credit_scoring  | main           | customers    | Age           | INTEGER     |                  |\\n|  8 | credit_scoring  | main           | customers    | SSN           | VARCHAR     |                  |\\n|  9 | credit_scoring  | main           | customers    | Occupation    | VARCHAR     |                  |\\n| 10 | credit_scoring  | main           | customers    | Annual_Income | FLOAT       |                  |\\n\\nThe following columns are in the accounts table in the credit_scoring database:\\n\\n|    | table_catalog   | table_schema   | table_name   | column_name       | data_type   | COLUMN_COMMENT   |\\n|---:|:----------------|:---------------|:-------------|:------------------|:------------|:-----------------|\\n|  0 | credit_scoring  | main           | accounts     | Customer_ID       | VARCHAR     |                  |\\n|  1 | credit_scoring  | main           | accounts     | Num_Bank_Accounts | INTEGER     |                  |\\n|  2 | credit_scoring  | main           | accounts     | Num_Credit_Card   | INTEGER     |                  |\\n|  3 | credit_scoring  | main           | accounts     | Num_of_Loan       | INTEGER     |                  |\\n|  4 | credit_scoring  | main           | accounts     | Type_of_Loan      | VARCHAR     |                  |\\n\\nIn the records table, the column Month has the following values: January, February, March, April, May, June, July, August\\n\\n===Response Guidelines \\n1. If the provided context is sufficient, please generate a valid SQL query without any explanations for the question. \\n2. If the provided context is almost sufficient but requires knowledge of a specific string in a particular column, please generate an intermediate SQL query to find the distinct strings in that column. Prepend the query with a comment saying intermediate_sql \\n3. If the provided context is insufficient, please explain why it can't be generated. \\n4. Please use the most relevant table(s). \\n5. If the question has been asked and answered before, please repeat the answer exactly as it was given before. \\n6. Ensure that the output SQL is DuckDB SQL-compliant and executable, and free of syntax errors. \\n\"}, {'role': 'user', 'content': 'Who are the top 5 oldest customers?'}, {'role': 'assistant', 'content': '\\nSELECT Name, Age\\nFROM customers\\nORDER BY Age DESC\\nLIMIT 5;\\n'}, {'role': 'user', 'content': 'What is the average age of the customers?'}, {'role': 'assistant', 'content': '\\nSELECT AVG(Age) AS average_age\\nFROM customers;\\n'}, {'role': 'user', 'content': 'Which customer makes the largest average monthly payment?'}]\n",
      "LLM Response: <sql>\n",
      "SELECT c.Name, AVG(mr.Total_EMI_per_month) AS avg_monthly_payment\n",
      "FROM customers c\n",
      "JOIN monthly_records mr ON c.Customer_ID = mr.Customer_ID\n",
      "GROUP BY c.Name\n",
      "ORDER BY avg_monthly_payment DESC\n",
      "LIMIT 1;\n",
      "</sql>\n",
      "\n",
      "SELECT c.Name, AVG(mr.Total_EMI_per_month) AS avg_monthly_payment\n",
      "FROM customers c\n",
      "JOIN monthly_records mr ON c.Customer_ID = mr.Customer_ID\n",
      "GROUP BY c.Name\n",
      "ORDER BY avg_monthly_payment DESC\n",
      "LIMIT 1;\n",
      "\n",
      "        Name  avg_monthly_payment\n",
      "0  Bhaswatit         29986.742104\n"
     ]
    },
    {
     "data": {
      "text/html": [
       "<div>\n",
       "<style scoped>\n",
       "    .dataframe tbody tr th:only-of-type {\n",
       "        vertical-align: middle;\n",
       "    }\n",
       "\n",
       "    .dataframe tbody tr th {\n",
       "        vertical-align: top;\n",
       "    }\n",
       "\n",
       "    .dataframe thead th {\n",
       "        text-align: right;\n",
       "    }\n",
       "</style>\n",
       "<table border=\"1\" class=\"dataframe\">\n",
       "  <thead>\n",
       "    <tr style=\"text-align: right;\">\n",
       "      <th></th>\n",
       "      <th>Name</th>\n",
       "      <th>avg_monthly_payment</th>\n",
       "    </tr>\n",
       "  </thead>\n",
       "  <tbody>\n",
       "    <tr>\n",
       "      <th>0</th>\n",
       "      <td>Bhaswatit</td>\n",
       "      <td>29986.742104</td>\n",
       "    </tr>\n",
       "  </tbody>\n",
       "</table>\n",
       "</div>"
      ],
      "text/plain": [
       "        Name  avg_monthly_payment\n",
       "0  Bhaswatit         29986.742104"
      ]
     },
     "execution_count": 22,
     "metadata": {},
     "output_type": "execute_result"
    }
   ],
   "source": [
    "# Let's try another question\n",
    "sql, result, _ = vn.ask(question=\"Which customer makes the largest average monthly payment?\", visualize=False)\n",
    "result "
   ]
  },
  {
   "cell_type": "code",
   "execution_count": 23,
   "metadata": {},
   "outputs": [
    {
     "name": "stderr",
     "output_type": "stream",
     "text": [
      "Number of requested results 10 is greater than number of elements in index 3, updating n_results = 3\n",
      "Number of requested results 10 is greater than number of elements in index 3, updating n_results = 3\n",
      "Number of requested results 10 is greater than number of elements in index 4, updating n_results = 4\n"
     ]
    },
    {
     "name": "stdout",
     "output_type": "stream",
     "text": [
      "SQL Prompt: [{'role': 'system', 'content': \"You are an ANSI SQL expert.\\nPlease help to generate a SQL query to answer the question. Your response should ONLY be based on the given context and follow the response guidelines and format instructions.\\nAlways place the generated SQL into <sql></sql> tags.\\n===Tables \\nCREATE TABLE IF NOT EXISTS monthly_records (ID VARCHAR, Customer_ID VARCHAR, Month VARCHAR, Monthly_Inhand_Salary FLOAT, Delay_from_due_date INTEGER, Num_of_Delayed_Payment INTEGER, Changed_Credit_Limit FLOAT, Num_Credit_Inquiries INTEGER, Credit_Mix VARCHAR, Outstanding_Debt FLOAT, Credit_Utilization_Ratio FLOAT, Credit_History_Age VARCHAR, Payment_of_Min_Amount VARCHAR, Total_EMI_per_month FLOAT, Amount_invested_monthly FLOAT, Payment_Behaviour VARCHAR, Monthly_Balance FLOAT)\\n\\nCREATE TABLE IF NOT EXISTS customers (Customer_ID VARCHAR, Name VARCHAR, Age INTEGER, SSN VARCHAR, Occupation VARCHAR, Annual_Income FLOAT)\\n\\nCREATE TABLE IF NOT EXISTS accounts (Customer_ID VARCHAR, Num_Bank_Accounts INTEGER, Num_Credit_Card INTEGER, Num_of_Loan INTEGER, Type_of_Loan VARCHAR)\\n\\n\\n===Additional Context \\n\\nThe following columns are in the monthly_records table in the credit_scoring database:\\n\\n|    | table_catalog   | table_schema   | table_name      | column_name              | data_type   | COLUMN_COMMENT   |\\n|---:|:----------------|:---------------|:----------------|:-------------------------|:------------|:-----------------|\\n| 11 | credit_scoring  | main           | monthly_records | ID                       | VARCHAR     |                  |\\n| 12 | credit_scoring  | main           | monthly_records | Customer_ID              | VARCHAR     |                  |\\n| 13 | credit_scoring  | main           | monthly_records | Month                    | VARCHAR     |                  |\\n| 14 | credit_scoring  | main           | monthly_records | Monthly_Inhand_Salary    | FLOAT       |                  |\\n| 15 | credit_scoring  | main           | monthly_records | Delay_from_due_date      | INTEGER     |                  |\\n| 16 | credit_scoring  | main           | monthly_records | Num_of_Delayed_Payment   | INTEGER     |                  |\\n| 17 | credit_scoring  | main           | monthly_records | Changed_Credit_Limit     | FLOAT       |                  |\\n| 18 | credit_scoring  | main           | monthly_records | Num_Credit_Inquiries     | INTEGER     |                  |\\n| 19 | credit_scoring  | main           | monthly_records | Credit_Mix               | VARCHAR     |                  |\\n| 20 | credit_scoring  | main           | monthly_records | Outstanding_Debt         | FLOAT       |                  |\\n| 21 | credit_scoring  | main           | monthly_records | Credit_Utilization_Ratio | FLOAT       |                  |\\n| 22 | credit_scoring  | main           | monthly_records | Credit_History_Age       | VARCHAR     |                  |\\n| 23 | credit_scoring  | main           | monthly_records | Payment_of_Min_Amount    | VARCHAR     |                  |\\n| 24 | credit_scoring  | main           | monthly_records | Total_EMI_per_month      | FLOAT       |                  |\\n| 25 | credit_scoring  | main           | monthly_records | Amount_invested_monthly  | FLOAT       |                  |\\n| 26 | credit_scoring  | main           | monthly_records | Payment_Behaviour        | VARCHAR     |                  |\\n| 27 | credit_scoring  | main           | monthly_records | Monthly_Balance          | FLOAT       |                  |\\n\\nThe following columns are in the customers table in the credit_scoring database:\\n\\n|    | table_catalog   | table_schema   | table_name   | column_name   | data_type   | COLUMN_COMMENT   |\\n|---:|:----------------|:---------------|:-------------|:--------------|:------------|:-----------------|\\n|  5 | credit_scoring  | main           | customers    | Customer_ID   | VARCHAR     |                  |\\n|  6 | credit_scoring  | main           | customers    | Name          | VARCHAR     |                  |\\n|  7 | credit_scoring  | main           | customers    | Age           | INTEGER     |                  |\\n|  8 | credit_scoring  | main           | customers    | SSN           | VARCHAR     |                  |\\n|  9 | credit_scoring  | main           | customers    | Occupation    | VARCHAR     |                  |\\n| 10 | credit_scoring  | main           | customers    | Annual_Income | FLOAT       |                  |\\n\\nIn the records table, the column Month has the following values: January, February, March, April, May, June, July, August\\n\\nThe following columns are in the accounts table in the credit_scoring database:\\n\\n|    | table_catalog   | table_schema   | table_name   | column_name       | data_type   | COLUMN_COMMENT   |\\n|---:|:----------------|:---------------|:-------------|:------------------|:------------|:-----------------|\\n|  0 | credit_scoring  | main           | accounts     | Customer_ID       | VARCHAR     |                  |\\n|  1 | credit_scoring  | main           | accounts     | Num_Bank_Accounts | INTEGER     |                  |\\n|  2 | credit_scoring  | main           | accounts     | Num_Credit_Card   | INTEGER     |                  |\\n|  3 | credit_scoring  | main           | accounts     | Num_of_Loan       | INTEGER     |                  |\\n|  4 | credit_scoring  | main           | accounts     | Type_of_Loan      | VARCHAR     |                  |\\n\\n===Response Guidelines \\n1. If the provided context is sufficient, please generate a valid SQL query without any explanations for the question. \\n2. If the provided context is almost sufficient but requires knowledge of a specific string in a particular column, please generate an intermediate SQL query to find the distinct strings in that column. Prepend the query with a comment saying intermediate_sql \\n3. If the provided context is insufficient, please explain why it can't be generated. \\n4. Please use the most relevant table(s). \\n5. If the question has been asked and answered before, please repeat the answer exactly as it was given before. \\n6. Ensure that the output SQL is DuckDB SQL-compliant and executable, and free of syntax errors. \\n\"}, {'role': 'user', 'content': 'Which customer makes the largest average monthly payment?'}, {'role': 'assistant', 'content': '\\nSELECT c.Name, AVG(mr.Total_EMI_per_month) AS avg_monthly_payment\\nFROM customers c\\nJOIN monthly_records mr ON c.Customer_ID = mr.Customer_ID\\nGROUP BY c.Name\\nORDER BY avg_monthly_payment DESC\\nLIMIT 1;\\n'}, {'role': 'user', 'content': 'Who are the top 5 oldest customers?'}, {'role': 'assistant', 'content': '\\nSELECT Name, Age\\nFROM customers\\nORDER BY Age DESC\\nLIMIT 5;\\n'}, {'role': 'user', 'content': 'What is the average age of the customers?'}, {'role': 'assistant', 'content': '\\nSELECT AVG(Age) AS average_age\\nFROM customers;\\n'}, {'role': 'user', 'content': 'Which customer had the largest increase in monthly salary from 01 to 08? '}]\n",
      "LLM Response: <sql>\n",
      "WITH monthly_salaries AS (\n",
      "  SELECT \n",
      "    Customer_ID,\n",
      "    Month,\n",
      "    Monthly_Inhand_Salary,\n",
      "    LEAD(Monthly_Inhand_Salary, 7) OVER (PARTITION BY Customer_ID ORDER BY Month) - Monthly_Inhand_Salary AS salary_increase\n",
      "  FROM monthly_records\n",
      "  WHERE Month IN ('January', 'August')\n",
      ")\n",
      "SELECT \n",
      "  c.Name,\n",
      "  ms.salary_increase AS largest_salary_increase\n",
      "FROM monthly_salaries ms\n",
      "JOIN customers c ON ms.Customer_ID = c.Customer_ID\n",
      "WHERE ms.Month = 'January'\n",
      "ORDER BY ms.salary_increase DESC\n",
      "LIMIT 1;\n",
      "</sql>\n",
      "\n",
      "WITH monthly_salaries AS (\n",
      "  SELECT \n",
      "    Customer_ID,\n",
      "    Month,\n",
      "    Monthly_Inhand_Salary,\n",
      "    LEAD(Monthly_Inhand_Salary, 7) OVER (PARTITION BY Customer_ID ORDER BY Month) - Monthly_Inhand_Salary AS salary_increase\n",
      "  FROM monthly_records\n",
      "  WHERE Month IN ('January', 'August')\n",
      ")\n",
      "SELECT \n",
      "  c.Name,\n",
      "  ms.salary_increase AS largest_salary_increase\n",
      "FROM monthly_salaries ms\n",
      "JOIN customers c ON ms.Customer_ID = c.Customer_ID\n",
      "WHERE ms.Month = 'January'\n",
      "ORDER BY ms.salary_increase DESC\n",
      "LIMIT 1;\n",
      "\n",
      "            Name  largest_salary_increase\n",
      "0  Aaron Maashoh                      NaN\n"
     ]
    },
    {
     "data": {
      "text/html": [
       "<div>\n",
       "<style scoped>\n",
       "    .dataframe tbody tr th:only-of-type {\n",
       "        vertical-align: middle;\n",
       "    }\n",
       "\n",
       "    .dataframe tbody tr th {\n",
       "        vertical-align: top;\n",
       "    }\n",
       "\n",
       "    .dataframe thead th {\n",
       "        text-align: right;\n",
       "    }\n",
       "</style>\n",
       "<table border=\"1\" class=\"dataframe\">\n",
       "  <thead>\n",
       "    <tr style=\"text-align: right;\">\n",
       "      <th></th>\n",
       "      <th>Name</th>\n",
       "      <th>largest_salary_increase</th>\n",
       "    </tr>\n",
       "  </thead>\n",
       "  <tbody>\n",
       "    <tr>\n",
       "      <th>0</th>\n",
       "      <td>Aaron Maashoh</td>\n",
       "      <td>NaN</td>\n",
       "    </tr>\n",
       "  </tbody>\n",
       "</table>\n",
       "</div>"
      ],
      "text/plain": [
       "            Name  largest_salary_increase\n",
       "0  Aaron Maashoh                      NaN"
      ]
     },
     "execution_count": 23,
     "metadata": {},
     "output_type": "execute_result"
    }
   ],
   "source": [
    "# This question would have failed if we did not provide the additional documentation about the values in the Month column\n",
    "sql, result, _ = vn.ask(question=\"Which customer had the largest increase in monthly salary from 01 to 08? \", visualize=False, print_results=True)\n",
    "result"
   ]
  },
  {
   "cell_type": "code",
   "execution_count": 24,
   "metadata": {},
   "outputs": [
    {
     "name": "stderr",
     "output_type": "stream",
     "text": [
      "Number of requested results 10 is greater than number of elements in index 4, updating n_results = 4\n",
      "Number of requested results 10 is greater than number of elements in index 3, updating n_results = 3\n",
      "Number of requested results 10 is greater than number of elements in index 4, updating n_results = 4\n"
     ]
    },
    {
     "name": "stdout",
     "output_type": "stream",
     "text": [
      "SQL Prompt: [{'role': 'system', 'content': \"You are an ANSI SQL expert.\\nPlease help to generate a SQL query to answer the question. Your response should ONLY be based on the given context and follow the response guidelines and format instructions.\\nAlways place the generated SQL into <sql></sql> tags.\\n===Tables \\nCREATE TABLE IF NOT EXISTS monthly_records (ID VARCHAR, Customer_ID VARCHAR, Month VARCHAR, Monthly_Inhand_Salary FLOAT, Delay_from_due_date INTEGER, Num_of_Delayed_Payment INTEGER, Changed_Credit_Limit FLOAT, Num_Credit_Inquiries INTEGER, Credit_Mix VARCHAR, Outstanding_Debt FLOAT, Credit_Utilization_Ratio FLOAT, Credit_History_Age VARCHAR, Payment_of_Min_Amount VARCHAR, Total_EMI_per_month FLOAT, Amount_invested_monthly FLOAT, Payment_Behaviour VARCHAR, Monthly_Balance FLOAT)\\n\\nCREATE TABLE IF NOT EXISTS customers (Customer_ID VARCHAR, Name VARCHAR, Age INTEGER, SSN VARCHAR, Occupation VARCHAR, Annual_Income FLOAT)\\n\\nCREATE TABLE IF NOT EXISTS accounts (Customer_ID VARCHAR, Num_Bank_Accounts INTEGER, Num_Credit_Card INTEGER, Num_of_Loan INTEGER, Type_of_Loan VARCHAR)\\n\\n\\n===Additional Context \\n\\nThe following columns are in the customers table in the credit_scoring database:\\n\\n|    | table_catalog   | table_schema   | table_name   | column_name   | data_type   | COLUMN_COMMENT   |\\n|---:|:----------------|:---------------|:-------------|:--------------|:------------|:-----------------|\\n|  5 | credit_scoring  | main           | customers    | Customer_ID   | VARCHAR     |                  |\\n|  6 | credit_scoring  | main           | customers    | Name          | VARCHAR     |                  |\\n|  7 | credit_scoring  | main           | customers    | Age           | INTEGER     |                  |\\n|  8 | credit_scoring  | main           | customers    | SSN           | VARCHAR     |                  |\\n|  9 | credit_scoring  | main           | customers    | Occupation    | VARCHAR     |                  |\\n| 10 | credit_scoring  | main           | customers    | Annual_Income | FLOAT       |                  |\\n\\nThe following columns are in the monthly_records table in the credit_scoring database:\\n\\n|    | table_catalog   | table_schema   | table_name      | column_name              | data_type   | COLUMN_COMMENT   |\\n|---:|:----------------|:---------------|:----------------|:-------------------------|:------------|:-----------------|\\n| 11 | credit_scoring  | main           | monthly_records | ID                       | VARCHAR     |                  |\\n| 12 | credit_scoring  | main           | monthly_records | Customer_ID              | VARCHAR     |                  |\\n| 13 | credit_scoring  | main           | monthly_records | Month                    | VARCHAR     |                  |\\n| 14 | credit_scoring  | main           | monthly_records | Monthly_Inhand_Salary    | FLOAT       |                  |\\n| 15 | credit_scoring  | main           | monthly_records | Delay_from_due_date      | INTEGER     |                  |\\n| 16 | credit_scoring  | main           | monthly_records | Num_of_Delayed_Payment   | INTEGER     |                  |\\n| 17 | credit_scoring  | main           | monthly_records | Changed_Credit_Limit     | FLOAT       |                  |\\n| 18 | credit_scoring  | main           | monthly_records | Num_Credit_Inquiries     | INTEGER     |                  |\\n| 19 | credit_scoring  | main           | monthly_records | Credit_Mix               | VARCHAR     |                  |\\n| 20 | credit_scoring  | main           | monthly_records | Outstanding_Debt         | FLOAT       |                  |\\n| 21 | credit_scoring  | main           | monthly_records | Credit_Utilization_Ratio | FLOAT       |                  |\\n| 22 | credit_scoring  | main           | monthly_records | Credit_History_Age       | VARCHAR     |                  |\\n| 23 | credit_scoring  | main           | monthly_records | Payment_of_Min_Amount    | VARCHAR     |                  |\\n| 24 | credit_scoring  | main           | monthly_records | Total_EMI_per_month      | FLOAT       |                  |\\n| 25 | credit_scoring  | main           | monthly_records | Amount_invested_monthly  | FLOAT       |                  |\\n| 26 | credit_scoring  | main           | monthly_records | Payment_Behaviour        | VARCHAR     |                  |\\n| 27 | credit_scoring  | main           | monthly_records | Monthly_Balance          | FLOAT       |                  |\\n\\nThe following columns are in the accounts table in the credit_scoring database:\\n\\n|    | table_catalog   | table_schema   | table_name   | column_name       | data_type   | COLUMN_COMMENT   |\\n|---:|:----------------|:---------------|:-------------|:------------------|:------------|:-----------------|\\n|  0 | credit_scoring  | main           | accounts     | Customer_ID       | VARCHAR     |                  |\\n|  1 | credit_scoring  | main           | accounts     | Num_Bank_Accounts | INTEGER     |                  |\\n|  2 | credit_scoring  | main           | accounts     | Num_Credit_Card   | INTEGER     |                  |\\n|  3 | credit_scoring  | main           | accounts     | Num_of_Loan       | INTEGER     |                  |\\n|  4 | credit_scoring  | main           | accounts     | Type_of_Loan      | VARCHAR     |                  |\\n\\nIn the records table, the column Month has the following values: January, February, March, April, May, June, July, August\\n\\n===Response Guidelines \\n1. If the provided context is sufficient, please generate a valid SQL query without any explanations for the question. \\n2. If the provided context is almost sufficient but requires knowledge of a specific string in a particular column, please generate an intermediate SQL query to find the distinct strings in that column. Prepend the query with a comment saying intermediate_sql \\n3. If the provided context is insufficient, please explain why it can't be generated. \\n4. Please use the most relevant table(s). \\n5. If the question has been asked and answered before, please repeat the answer exactly as it was given before. \\n6. Ensure that the output SQL is DuckDB SQL-compliant and executable, and free of syntax errors. \\n\"}, {'role': 'user', 'content': 'Which customer makes the largest average monthly payment?'}, {'role': 'assistant', 'content': '\\nSELECT c.Name, AVG(mr.Total_EMI_per_month) AS avg_monthly_payment\\nFROM customers c\\nJOIN monthly_records mr ON c.Customer_ID = mr.Customer_ID\\nGROUP BY c.Name\\nORDER BY avg_monthly_payment DESC\\nLIMIT 1;\\n'}, {'role': 'user', 'content': 'Which customer had the largest increase in monthly salary from 01 to 08? '}, {'role': 'assistant', 'content': \"\\nWITH monthly_salaries AS (\\n  SELECT \\n    Customer_ID,\\n    Month,\\n    Monthly_Inhand_Salary,\\n    LEAD(Monthly_Inhand_Salary, 7) OVER (PARTITION BY Customer_ID ORDER BY Month) - Monthly_Inhand_Salary AS salary_increase\\n  FROM monthly_records\\n  WHERE Month IN ('January', 'August')\\n)\\nSELECT \\n  c.Name,\\n  ms.salary_increase AS largest_salary_increase\\nFROM monthly_salaries ms\\nJOIN customers c ON ms.Customer_ID = c.Customer_ID\\nWHERE ms.Month = 'January'\\nORDER BY ms.salary_increase DESC\\nLIMIT 1;\\n\"}, {'role': 'user', 'content': 'What is the average age of the customers?'}, {'role': 'assistant', 'content': '\\nSELECT AVG(Age) AS average_age\\nFROM customers;\\n'}, {'role': 'user', 'content': 'Who are the top 5 oldest customers?'}, {'role': 'assistant', 'content': '\\nSELECT Name, Age\\nFROM customers\\nORDER BY Age DESC\\nLIMIT 5;\\n'}, {'role': 'user', 'content': 'Create a binning of annual salary and analyze that against the average number of credit cards '}]\n",
      "LLM Response: \n",
      "<sql>\n",
      "WITH salary_bins AS (\n",
      "  SELECT \n",
      "    Customer_ID,\n",
      "    Annual_Income,\n",
      "    CASE\n",
      "      WHEN Annual_Income < 25000 THEN 'Less than 25K'\n",
      "      WHEN Annual_Income >= 25000 AND Annual_Income < 50000 THEN '25K - 50K'\n",
      "      WHEN Annual_Income >= 50000 AND Annual_Income < 75000 THEN '50K - 75K' \n",
      "      WHEN Annual_Income >= 75000 AND Annual_Income < 100000 THEN '75K - 100K'\n",
      "      ELSE 'Greater than 100K'\n",
      "    END AS salary_bin\n",
      "  FROM customers\n",
      ")\n",
      "SELECT \n",
      "  salary_bin,\n",
      "  AVG(a.Num_Credit_Card) AS avg_num_credit_cards\n",
      "FROM salary_bins sb\n",
      "JOIN accounts a ON sb.Customer_ID = a.Customer_ID\n",
      "GROUP BY salary_bin\n",
      "ORDER BY avg_num_credit_cards DESC;\n",
      "</sql>\n",
      "\n",
      "WITH salary_bins AS (\n",
      "  SELECT \n",
      "    Customer_ID,\n",
      "    Annual_Income,\n",
      "    CASE\n",
      "      WHEN Annual_Income < 25000 THEN 'Less than 25K'\n",
      "      WHEN Annual_Income >= 25000 AND Annual_Income < 50000 THEN '25K - 50K'\n",
      "      WHEN Annual_Income >= 50000 AND Annual_Income < 75000 THEN '50K - 75K' \n",
      "      WHEN Annual_Income >= 75000 AND Annual_Income < 100000 THEN '75K - 100K'\n",
      "      ELSE 'Greater than 100K'\n",
      "    END AS salary_bin\n",
      "  FROM customers\n",
      ")\n",
      "SELECT \n",
      "  salary_bin,\n",
      "  AVG(a.Num_Credit_Card) AS avg_num_credit_cards\n",
      "FROM salary_bins sb\n",
      "JOIN accounts a ON sb.Customer_ID = a.Customer_ID\n",
      "GROUP BY salary_bin\n",
      "ORDER BY avg_num_credit_cards DESC;\n",
      "\n",
      "          salary_bin  avg_num_credit_cards\n",
      "0      Less than 25K             23.868020\n",
      "1         75K - 100K             22.752389\n",
      "2  Greater than 100K             22.159370\n",
      "3          50K - 75K             21.273178\n",
      "4          25K - 50K             18.480900\n"
     ]
    },
    {
     "data": {
      "text/html": [
       "<div>\n",
       "<style scoped>\n",
       "    .dataframe tbody tr th:only-of-type {\n",
       "        vertical-align: middle;\n",
       "    }\n",
       "\n",
       "    .dataframe tbody tr th {\n",
       "        vertical-align: top;\n",
       "    }\n",
       "\n",
       "    .dataframe thead th {\n",
       "        text-align: right;\n",
       "    }\n",
       "</style>\n",
       "<table border=\"1\" class=\"dataframe\">\n",
       "  <thead>\n",
       "    <tr style=\"text-align: right;\">\n",
       "      <th></th>\n",
       "      <th>salary_bin</th>\n",
       "      <th>avg_num_credit_cards</th>\n",
       "    </tr>\n",
       "  </thead>\n",
       "  <tbody>\n",
       "    <tr>\n",
       "      <th>0</th>\n",
       "      <td>Less than 25K</td>\n",
       "      <td>23.868020</td>\n",
       "    </tr>\n",
       "    <tr>\n",
       "      <th>1</th>\n",
       "      <td>75K - 100K</td>\n",
       "      <td>22.752389</td>\n",
       "    </tr>\n",
       "    <tr>\n",
       "      <th>2</th>\n",
       "      <td>Greater than 100K</td>\n",
       "      <td>22.159370</td>\n",
       "    </tr>\n",
       "    <tr>\n",
       "      <th>3</th>\n",
       "      <td>50K - 75K</td>\n",
       "      <td>21.273178</td>\n",
       "    </tr>\n",
       "    <tr>\n",
       "      <th>4</th>\n",
       "      <td>25K - 50K</td>\n",
       "      <td>18.480900</td>\n",
       "    </tr>\n",
       "  </tbody>\n",
       "</table>\n",
       "</div>"
      ],
      "text/plain": [
       "          salary_bin  avg_num_credit_cards\n",
       "0      Less than 25K             23.868020\n",
       "1         75K - 100K             22.752389\n",
       "2  Greater than 100K             22.159370\n",
       "3          50K - 75K             21.273178\n",
       "4          25K - 50K             18.480900"
      ]
     },
     "execution_count": 24,
     "metadata": {},
     "output_type": "execute_result"
    }
   ],
   "source": [
    "# let's try a more complex query\n",
    "sql, result, _ = vn.ask(question=\"Create a binning of annual salary and analyze that against the average number of credit cards \", visualize=False, print_results=True)\n",
    "result"
   ]
  },
  {
   "cell_type": "markdown",
   "metadata": {},
   "source": [
    "## Conclusion\n",
    "In this notebook, we have seen how to extract insights from structured data using Text to SQL. We have loaded a dataset into a database, created a Text to SQL pipeline using Vanna, and queried the database using natural language. This is a powerful tool that can be used to extract insights from structured data in a more intuitive way."
   ]
  },
  {
   "cell_type": "markdown",
   "metadata": {},
   "source": []
  }
 ],
 "metadata": {
  "kernelspec": {
   "display_name": "Python 3 (ipykernel)",
   "language": "python",
   "name": "python3"
  },
  "language_info": {
   "codemirror_mode": {
    "name": "ipython",
    "version": 3
   },
   "file_extension": ".py",
   "mimetype": "text/x-python",
   "name": "python",
   "nbconvert_exporter": "python",
   "pygments_lexer": "ipython3",
   "version": "3.10.14"
  }
 },
 "nbformat": 4,
 "nbformat_minor": 4
}
