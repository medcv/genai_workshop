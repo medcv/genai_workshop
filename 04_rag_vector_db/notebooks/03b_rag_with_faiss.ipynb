{
 "cells": [
  {
   "cell_type": "markdown",
   "metadata": {},
   "source": [
    "# Retrieval Augmented Question & Answering with Amazon Bedrock using LangChain & Vector Search\n",
    "> *This notebook should work well with the **`Data Science 3.0`** kernel in SageMaker Studio*\n",
    "\n",
    "---\n",
    "\n",
    "Previously, we used the Anthropic Claude model in Amazon Bedrock to demonstrate a basic Question Answering (QA) system, and learned the value of grounding a model with additional context before generating a response. In the previous notebook, we had to manually provide the model with relevant data and context ourselves. However, this approach is not fit for enterprise-level QA systems where there could be hundreds of thousands of large documents.\n",
    "\n",
    "## Retrieval Augmented Generation (RAG)\n",
    "\n",
    "We can improve upon this process by implementing an architecture called retrieval augmented generation (RAG). RAG retrieves data from outside the LLM's training data sources and augments the prompts by adding the relevant retrieved data as context. RAG extends the already powerful capabilities of LLMs to specific domains or an organization's internal knowledge base, without needing to retrain the model. It is a cost-effective approach to improving LLM output so it remains relevant, accurate, and useful in various contexts.\n",
    "\n",
    "## Solution\n",
    "\n",
    "In this notebook, we augment LLM responses to user queries by implementing RAG using context from external documents. First, we process documents and store these into a vector store. Next, we search the vector store using the user's question, and return relevant data as external context to the LLM. Finally, the LLM generates an answer to the user's question based on the new context provided.\n",
    "\n",
    "We will walk through implementing the following two patterns: Question Answering (QA) and Conversational AI with conversation memory. \n",
    "\n",
    "Let’s break down the solution a little further. \n",
    "\n",
    "### Prepare documents for search\n",
    "![Documents](./images/embeddings_lang.png)\n",
    "\n",
    "First, the documents must be processed and then indexed in a vector store.\n",
    "- Load the documents from our directory\n",
    "- Process the documents by splitting them into smaller chunks\n",
    "- Create a numerical vector representation of each chunk using an embeddings model\n",
    "- Create an index using the chunks and the corresponding embeddings\n",
    "\n",
    "### Respond to the user’s question\n",
    "![Question](./images/chatbot_lang.png)\n",
    "\n",
    "Once the vector store is indexed with documents and embeddings, we can search for text relevant to the question being asked. The relevant chunks are sent to the model as additional context, where the model will then generate the answer.\n",
    "- Create an embedding of the input question\n",
    "- Compare the question embedding with the embeddings in the index\n",
    "- Fetch the (top N) relevant document chunks\n",
    "- Add those chunks as part of the context in the prompt\n",
    "- Send the prompt to the model under Amazon Bedrock\n",
    "- Get the contextual answer based on the documents retrieved\n",
    "\n",
    "Let's get started!"
   ]
  },
  {
   "cell_type": "markdown",
   "metadata": {},
   "source": [
    "## Setup"
   ]
  },
  {
   "cell_type": "code",
   "execution_count": 1,
   "metadata": {},
   "outputs": [
    {
     "name": "stdout",
     "output_type": "stream",
     "text": [
      "Validating base environment\n",
      "Base environment validated successfully\n"
     ]
    },
    {
     "data": {
      "text/html": [
       "<pre style=\"white-space:pre;overflow-x:auto;line-height:normal;font-family:Menlo,'DejaVu Sans Mono',consolas,'Courier New',monospace\"><span style=\"color: #4cc9f0; text-decoration-color: #4cc9f0; font-weight: bold\">Validating lab environment from requirements.txt</span> ✨\n",
       "</pre>\n"
      ],
      "text/plain": [
       "\u001b[1;38;2;76;201;240mValidating lab environment from requirements.txt\u001b[0m ✨\n"
      ]
     },
     "metadata": {},
     "output_type": "display_data"
    },
    {
     "data": {
      "text/html": [
       "<pre style=\"white-space:pre;overflow-x:auto;line-height:normal;font-family:Menlo,'DejaVu Sans Mono',consolas,'Courier New',monospace\"><span style=\"color: #e85d04; text-decoration-color: #e85d04; font-weight: bold; text-decoration: underline\">ENVIRONMENT STATUS</span>\n",
       "✅ <span style=\"color: #008000; text-decoration-color: #008000\"> </span><span style=\"color: #008000; text-decoration-color: #008000\">pillow</span><span style=\"color: #008000; text-decoration-color: #008000\">==</span><span style=\"color: #008000; text-decoration-color: #008000; font-weight: bold\">9.4</span><span style=\"color: #008000; text-decoration-color: #008000\">.</span><span style=\"color: #008000; text-decoration-color: #008000; font-weight: bold\">0</span><span style=\"color: #008000; text-decoration-color: #008000\"> is installed</span>\n",
       "✅ <span style=\"color: #008000; text-decoration-color: #008000\"> </span><span style=\"color: #008000; text-decoration-color: #008000\">streamlit</span><span style=\"color: #008000; text-decoration-color: #008000\">==</span><span style=\"color: #008000; text-decoration-color: #008000; font-weight: bold\">1.27</span><span style=\"color: #008000; text-decoration-color: #008000\">.</span><span style=\"color: #008000; text-decoration-color: #008000; font-weight: bold\">0</span><span style=\"color: #008000; text-decoration-color: #008000\"> is installed</span>\n",
       "✅ <span style=\"color: #008000; text-decoration-color: #008000\"> streamlit-</span><span style=\"color: #008000; text-decoration-color: #008000\">chat</span><span style=\"color: #008000; text-decoration-color: #008000\">==</span><span style=\"color: #008000; text-decoration-color: #008000; font-weight: bold\">0.1</span><span style=\"color: #008000; text-decoration-color: #008000\">.</span><span style=\"color: #008000; text-decoration-color: #008000; font-weight: bold\">1</span><span style=\"color: #008000; text-decoration-color: #008000\"> is installed</span>\n",
       "✅ <span style=\"color: #008000; text-decoration-color: #008000\"> </span><span style=\"color: #008000; text-decoration-color: #008000\">langchain</span><span style=\"color: #008000; text-decoration-color: #008000\">==</span><span style=\"color: #008000; text-decoration-color: #008000; font-weight: bold\">0.1</span><span style=\"color: #008000; text-decoration-color: #008000\">.</span><span style=\"color: #008000; text-decoration-color: #008000; font-weight: bold\">14</span><span style=\"color: #008000; text-decoration-color: #008000\"> is installed</span>\n",
       "✅ <span style=\"color: #008000; text-decoration-color: #008000\"> langchain-aws is installed</span>\n",
       "✅ <span style=\"color: #008000; text-decoration-color: #008000\"> faiss-cpu&gt;=</span><span style=\"color: #008000; text-decoration-color: #008000; font-weight: bold\">1.7</span><span style=\"color: #008000; text-decoration-color: #008000\">,</span><span style=\"color: #008000; text-decoration-color: #008000; font-weight: bold\">&lt;</span><span style=\"color: #008000; text-decoration-color: #008000; font-weight: bold\">2</span><span style=\"color: #008000; text-decoration-color: #008000\"> is installed</span>\n",
       "<span style=\"color: #000000; text-decoration-color: #000000\">✅ </span><span style=\"color: #008000; text-decoration-color: #008000\"> </span><span style=\"color: #008000; text-decoration-color: #008000\">unstructured</span><span style=\"color: #008000; text-decoration-color: #008000\">==</span><span style=\"color: #008000; text-decoration-color: #008000; font-weight: bold\">0.10</span><span style=\"color: #008000; text-decoration-color: #008000\">.</span><span style=\"color: #008000; text-decoration-color: #008000; font-weight: bold\">16</span><span style=\"color: #008000; text-decoration-color: #008000\"> is installed</span>\n",
       "<span style=\"color: #000000; text-decoration-color: #000000\">✅ </span><span style=\"color: #008000; text-decoration-color: #008000\"> </span><span style=\"color: #008000; text-decoration-color: #008000\">sqlalchemy</span><span style=\"color: #008000; text-decoration-color: #008000\">==</span><span style=\"color: #008000; text-decoration-color: #008000; font-weight: bold\">2.0</span><span style=\"color: #008000; text-decoration-color: #008000\">.</span><span style=\"color: #008000; text-decoration-color: #008000; font-weight: bold\">21</span><span style=\"color: #008000; text-decoration-color: #008000\"> is installed</span>\n",
       "<span style=\"color: #000000; text-decoration-color: #000000\">✅ </span><span style=\"color: #008000; text-decoration-color: #008000\"> </span><span style=\"color: #008000; text-decoration-color: #008000\">xmltodict</span><span style=\"color: #008000; text-decoration-color: #008000\">==</span><span style=\"color: #008000; text-decoration-color: #008000; font-weight: bold\">0.13</span><span style=\"color: #008000; text-decoration-color: #008000\">.</span><span style=\"color: #008000; text-decoration-color: #008000; font-weight: bold\">0</span><span style=\"color: #008000; text-decoration-color: #008000\"> is installed</span>\n",
       "<span style=\"color: #000000; text-decoration-color: #000000\">✅ </span><span style=\"color: #008000; text-decoration-color: #008000\"> pypdf</span><span style=\"color: #008000; text-decoration-color: #008000; font-weight: bold\">&gt;</span><span style=\"color: #008000; text-decoration-color: #008000\">=</span><span style=\"color: #008000; text-decoration-color: #008000; font-weight: bold\">3.8</span><span style=\"color: #008000; text-decoration-color: #008000\">,&lt;</span><span style=\"color: #008000; text-decoration-color: #008000; font-weight: bold\">4</span><span style=\"color: #008000; text-decoration-color: #008000\"> is installed</span>\n",
       "✅ <span style=\"color: #008000; text-decoration-color: #008000\"> opensearch-</span><span style=\"color: #008000; text-decoration-color: #008000\">py</span><span style=\"color: #008000; text-decoration-color: #008000\">==</span><span style=\"color: #008000; text-decoration-color: #008000; font-weight: bold\">2.3</span><span style=\"color: #008000; text-decoration-color: #008000\">.</span><span style=\"color: #008000; text-decoration-color: #008000; font-weight: bold\">1</span><span style=\"color: #008000; text-decoration-color: #008000\"> is installed</span>\n",
       "✅ <span style=\"color: #008000; text-decoration-color: #008000\"> tiktoken is installed</span>\n",
       "\n",
       "</pre>\n"
      ],
      "text/plain": [
       "\u001b[1;4;38;2;232;93;4mENVIRONMENT STATUS\u001b[0m\n",
       "✅ \u001b[32m \u001b[0m\u001b[32mpillow\u001b[0m\u001b[32m==\u001b[0m\u001b[1;32m9.4\u001b[0m\u001b[32m.\u001b[0m\u001b[1;32m0\u001b[0m\u001b[32m is installed\u001b[0m\n",
       "✅ \u001b[32m \u001b[0m\u001b[32mstreamlit\u001b[0m\u001b[32m==\u001b[0m\u001b[1;32m1.27\u001b[0m\u001b[32m.\u001b[0m\u001b[1;32m0\u001b[0m\u001b[32m is installed\u001b[0m\n",
       "✅ \u001b[32m streamlit-\u001b[0m\u001b[32mchat\u001b[0m\u001b[32m==\u001b[0m\u001b[1;32m0.1\u001b[0m\u001b[32m.\u001b[0m\u001b[1;32m1\u001b[0m\u001b[32m is installed\u001b[0m\n",
       "✅ \u001b[32m \u001b[0m\u001b[32mlangchain\u001b[0m\u001b[32m==\u001b[0m\u001b[1;32m0.1\u001b[0m\u001b[32m.\u001b[0m\u001b[1;32m14\u001b[0m\u001b[32m is installed\u001b[0m\n",
       "✅ \u001b[32m langchain-aws is installed\u001b[0m\n",
       "✅ \u001b[32m faiss-cpu>=\u001b[0m\u001b[1;32m1.7\u001b[0m\u001b[32m,\u001b[0m\u001b[1;32m<\u001b[0m\u001b[1;32m2\u001b[0m\u001b[32m is installed\u001b[0m\n",
       "\u001b[39m✅ \u001b[0m\u001b[32m \u001b[0m\u001b[32munstructured\u001b[0m\u001b[32m==\u001b[0m\u001b[1;32m0.10\u001b[0m\u001b[32m.\u001b[0m\u001b[1;32m16\u001b[0m\u001b[32m is installed\u001b[0m\n",
       "\u001b[39m✅ \u001b[0m\u001b[32m \u001b[0m\u001b[32msqlalchemy\u001b[0m\u001b[32m==\u001b[0m\u001b[1;32m2.0\u001b[0m\u001b[32m.\u001b[0m\u001b[1;32m21\u001b[0m\u001b[32m is installed\u001b[0m\n",
       "\u001b[39m✅ \u001b[0m\u001b[32m \u001b[0m\u001b[32mxmltodict\u001b[0m\u001b[32m==\u001b[0m\u001b[1;32m0.13\u001b[0m\u001b[32m.\u001b[0m\u001b[1;32m0\u001b[0m\u001b[32m is installed\u001b[0m\n",
       "\u001b[39m✅ \u001b[0m\u001b[32m pypdf\u001b[0m\u001b[1;32m>\u001b[0m\u001b[32m=\u001b[0m\u001b[1;32m3.8\u001b[0m\u001b[32m,<\u001b[0m\u001b[1;32m4\u001b[0m\u001b[32m is installed\u001b[0m\n",
       "✅ \u001b[32m opensearch-\u001b[0m\u001b[32mpy\u001b[0m\u001b[32m==\u001b[0m\u001b[1;32m2.3\u001b[0m\u001b[32m.\u001b[0m\u001b[1;32m1\u001b[0m\u001b[32m is installed\u001b[0m\n",
       "✅ \u001b[32m tiktoken is installed\u001b[0m\n",
       "\n"
      ]
     },
     "metadata": {},
     "output_type": "display_data"
    },
    {
     "data": {
      "text/html": [
       "<pre style=\"white-space:pre;overflow-x:auto;line-height:normal;font-family:Menlo,'DejaVu Sans Mono',consolas,'Courier New',monospace\"><span style=\"color: #a7c957; text-decoration-color: #a7c957\">All required libraries are installed.🎉</span>\n",
       "<span style=\"color: #a7c957; text-decoration-color: #a7c957\">You may proceed with the lab! 🚀</span>\n",
       "</pre>\n"
      ],
      "text/plain": [
       "\u001b[38;2;167;201;87mAll required libraries are installed.🎉\u001b[0m\n",
       "\u001b[38;2;167;201;87mYou may proceed with the lab! 🚀\u001b[0m\n"
      ]
     },
     "metadata": {},
     "output_type": "display_data"
    }
   ],
   "source": [
    "import sys\n",
    "import os\n",
    "module_path = \"../..\"\n",
    "sys.path.append(os.path.abspath(module_path))\n",
    "from utils.environment_validation import validate_environment, validate_model_access\n",
    "validate_environment()"
   ]
  },
  {
   "cell_type": "code",
   "execution_count": 2,
   "metadata": {},
   "outputs": [
    {
     "data": {
      "text/html": [
       "<pre style=\"white-space:pre;overflow-x:auto;line-height:normal;font-family:Menlo,'DejaVu Sans Mono',consolas,'Courier New',monospace\"><span style=\"color: #e85d04; text-decoration-color: #e85d04; font-weight: bold; text-decoration: underline\">MODEL ACCESS STATUS</span>\n",
       "✅ <span style=\"color: #008000; text-decoration-color: #008000\"> amazon.titan-embed-text-v1 is accessible</span>\n",
       "✅ <span style=\"color: #008000; text-decoration-color: #008000\"> anthropic.claude-</span><span style=\"color: #008000; text-decoration-color: #008000; font-weight: bold\">3</span><span style=\"color: #008000; text-decoration-color: #008000\">-sonnet-</span><span style=\"color: #008000; text-decoration-color: #008000; font-weight: bold\">20240229</span><span style=\"color: #008000; text-decoration-color: #008000\">-v</span><span style=\"color: #008000; text-decoration-color: #008000; font-weight: bold\">1:0</span><span style=\"color: #008000; text-decoration-color: #008000\"> is accessible</span>\n",
       "✅ <span style=\"color: #008000; text-decoration-color: #008000\"> anthropic.claude-</span><span style=\"color: #008000; text-decoration-color: #008000; font-weight: bold\">3</span><span style=\"color: #008000; text-decoration-color: #008000\">-haiku-</span><span style=\"color: #008000; text-decoration-color: #008000; font-weight: bold\">20240307</span><span style=\"color: #008000; text-decoration-color: #008000\">-v</span><span style=\"color: #008000; text-decoration-color: #008000; font-weight: bold\">1:0</span><span style=\"color: #008000; text-decoration-color: #008000\"> is accessible</span>\n",
       "\n",
       "</pre>\n"
      ],
      "text/plain": [
       "\u001b[1;4;38;2;232;93;4mMODEL ACCESS STATUS\u001b[0m\n",
       "✅ \u001b[32m amazon.titan-embed-text-v1 is accessible\u001b[0m\n",
       "✅ \u001b[32m anthropic.claude-\u001b[0m\u001b[1;32m3\u001b[0m\u001b[32m-sonnet-\u001b[0m\u001b[1;32m20240229\u001b[0m\u001b[32m-v\u001b[0m\u001b[1;32m1:0\u001b[0m\u001b[32m is accessible\u001b[0m\n",
       "✅ \u001b[32m anthropic.claude-\u001b[0m\u001b[1;32m3\u001b[0m\u001b[32m-haiku-\u001b[0m\u001b[1;32m20240307\u001b[0m\u001b[32m-v\u001b[0m\u001b[1;32m1:0\u001b[0m\u001b[32m is accessible\u001b[0m\n",
       "\n"
      ]
     },
     "metadata": {},
     "output_type": "display_data"
    },
    {
     "data": {
      "text/html": [
       "<pre style=\"white-space:pre;overflow-x:auto;line-height:normal;font-family:Menlo,'DejaVu Sans Mono',consolas,'Courier New',monospace\"><span style=\"color: #a7c957; text-decoration-color: #a7c957\">All required models are accessible.🎉</span>\n",
       "<span style=\"color: #a7c957; text-decoration-color: #a7c957\">You may proceed with the lab! 🚀</span>\n",
       "</pre>\n"
      ],
      "text/plain": [
       "\u001b[38;2;167;201;87mAll required models are accessible.🎉\u001b[0m\n",
       "\u001b[38;2;167;201;87mYou may proceed with the lab! 🚀\u001b[0m\n"
      ]
     },
     "metadata": {},
     "output_type": "display_data"
    }
   ],
   "source": [
    "required_models = [\n",
    "    \"amazon.titan-embed-text-v1\",\n",
    "    \"anthropic.claude-3-sonnet-20240229-v1:0\",\n",
    "    \"anthropic.claude-3-haiku-20240307-v1:0\",\n",
    "]\n",
    "validate_model_access(required_models)"
   ]
  },
  {
   "cell_type": "code",
   "execution_count": 3,
   "metadata": {
    "tags": []
   },
   "outputs": [
    {
     "name": "stdout",
     "output_type": "stream",
     "text": [
      "Create new client\n",
      "  Using region: us-east-1\n",
      "boto3 Bedrock client successfully created!\n",
      "bedrock-runtime(https://bedrock-runtime.us-east-1.amazonaws.com)\n"
     ]
    }
   ],
   "source": [
    "import json\n",
    "import warnings\n",
    "from pathlib import Path\n",
    "from rich import print as rprint\n",
    "warnings.filterwarnings('ignore')\n",
    "\n",
    "\n",
    "from utils import bedrock\n",
    "\n",
    "boto3_bedrock = bedrock.get_bedrock_client(\n",
    "    assumed_role=os.environ.get(\"BEDROCK_ASSUME_ROLE\", None),\n",
    "    region=os.environ.get(\"AWS_DEFAULT_REGION\", None)\n",
    ")"
   ]
  },
  {
   "cell_type": "markdown",
   "metadata": {},
   "source": [
    "## Configure LangChain\n",
    "\n",
    "LangChain provides convenient integrations with Amazon Bedrock and other services like vector stores and retrievers. We begin with instantiating the large language model (LLM) and the embeddings model. We are using Anthropic Claude models for text generation and Amazon Titan Embeddings G1 - Text for text embedding.\n",
    "\n",
    "Note: Amazon Bedrock offers a choice of high-performing foundation models (FMs). You can replace the value for `model_id` with one of the available [model IDs](https://docs.aws.amazon.com/bedrock/latest/userguide/model-ids.html) as follows. Some models have different requirements for inputs such as prompt format. As of this writing, all models are supported in the US West (Oregon, us-west-2) Region. If you are using another AWS Region, check the latest [model support by AWS Region](https://docs.aws.amazon.com/bedrock/latest/userguide/models-regions.html).\n",
    "\n",
    "```python\n",
    "llm = BedrockChat(model_id=\"anthropic.claude-3-haiku-20240307-v1:0\", ...)\n",
    "```\n"
   ]
  },
  {
   "cell_type": "code",
   "execution_count": 4,
   "metadata": {
    "tags": []
   },
   "outputs": [],
   "source": [
    "from langchain_aws.embeddings import BedrockEmbeddings\n",
    "from langchain_aws.chat_models import ChatBedrock\n",
    "from langchain.load.dump import dumps\n",
    "\n",
    "# Instantiate the LLM\n",
    "\n",
    "model_id = \"anthropic.claude-3-haiku-20240307-v1:0\"\n",
    "\n",
    "llm = ChatBedrock(\n",
    "    model_id=model_id,\n",
    "    model_kwargs={\"max_tokens\": 500}\n",
    ")\n",
    "\n",
    "# Instantiate the Amazon Titan Embeddings G1 - Text embeddings model\n",
    "bedrock_embeddings = BedrockEmbeddings(\n",
    "    client=boto3_bedrock,\n",
    "    model_id=\"amazon.titan-embed-text-v1\" # change this model ID to use another embeddings model\n",
    ")"
   ]
  },
  {
   "cell_type": "markdown",
   "metadata": {},
   "source": [
    "## Usecase Introduction - Model Risk and Model Governance Assistant\n",
    "In this notebook we will learn the application of RAG through a practical example. The use case we will be working on is a Model Risk and Model Governance Assistant. This assistant will help users understand the risks associated with deploying machine learning models in production. The assistant will provide information on the following topics:\n",
    "- Model Risk Management\n",
    "- Model Governance\n",
    "- Regulatory Compliance\n",
    "- Model Monitoring\n",
    "- Model Validation\n",
    "- And more\n",
    "\n",
    "We will use some publicly available regulatory guideline documents to serve as the source for our RAG solution. You can vew the documents in the `../data/model_risk` directory."
   ]
  },
  {
   "cell_type": "markdown",
   "metadata": {},
   "source": [
    "## Data Preparation\n",
    "We will load the documents with the help of [PyPDF in LangChain](https://python.langchain.com/docs/modules/data_connection/document_loaders/pdf).\n",
    "\n",
    "We will utilize a few different techniques when loading the documents that will help improve the retrieval quality.\n",
    "\n",
    "#### Outline based splitting\n",
    "By default LangChain's `PyPDFLoader` will break each document up into pages. We could then potentially use a chunking strategy such as `RecursiveCharacterTextSplitter` to further break down the pages into smaller chunks. \n",
    "However, this could lead to suboptimal results if the most relevant information we are looking for is split across multiple pages. Instead, we will split the documents into sections based on the documents own table of contents. The implementation for this approach is provided in the rag_utils.outline_parser module [(source)](./rag_utils/outline_parser.py).\n",
    "Note that this approach only works on PDFs that contain a table of contents.\n",
    "\n",
    "\n",
    "#### Parent Document Retriever\n",
    "After we've loaded the document as individual sections, we will further split these sections by paragraphs using the [RecursiveCharacterTextSplitter](https://python.langchain.com/docs/modules/data_connection/document_transformers/recursive_text_splitter/). These are the chunks that will be used for embeddings, however during retrieval we'll utilize the [ParentDocumentRetriever](https://python.langchain.com/docs/modules/data_connection/retrievers/parent_document_retriever/) to retrieve the entire section that the chunk belongs to. This is done to ensure that the context provided to the model is as complete as possible.\n"
   ]
  },
  {
   "cell_type": "code",
   "execution_count": 7,
   "metadata": {
    "tags": []
   },
   "outputs": [],
   "source": [
    "from langchain.document_loaders import PyPDFLoader\n",
    "from rag_utils.outline_parser import PyPDFOutlineParser\n",
    "\n",
    "docs_path = Path(\"../data/model_risk\")\n",
    "doc_files = list(docs_path.glob(\"*.pdf\"))\n",
    "\n",
    "section_chunks = []\n",
    "\n",
    "for doc_path in doc_files:\n",
    "    loader = PyPDFLoader(file_path=doc_path.as_posix())\n",
    "    loader.parser = PyPDFOutlineParser()\n",
    "    sections = loader.load()\n",
    "    for sec in sections:\n",
    "        sec.metadata.update({\"file\": doc_path.name})\n",
    "    \n",
    "    section_chunks += sections\n",
    "    "
   ]
  },
  {
   "cell_type": "markdown",
   "metadata": {},
   "source": [
    "Each section chunk now contains a the contents and metadata associated with that section"
   ]
  },
  {
   "cell_type": "code",
   "execution_count": 29,
   "metadata": {
    "tags": []
   },
   "outputs": [
    {
     "data": {
      "text/html": [
       "<pre style=\"white-space:pre;overflow-x:auto;line-height:normal;font-family:Menlo,'DejaVu Sans Mono',consolas,'Courier New',monospace\"><span style=\"color: #800080; text-decoration-color: #800080; font-weight: bold\">Document</span><span style=\"font-weight: bold\">(</span>\n",
       "    <span style=\"color: #808000; text-decoration-color: #808000\">page_content</span>=<span style=\"color: #008000; text-decoration-color: #008000\">'\\n \\n       \\n \\n  \\n   \\n   \\n   \\n   \\n   \\n   \\n   \\n   \\n   \\n   \\n \\n  \\n   \\n   \\n   \\n   </span>\n",
       "<span style=\"color: #008000; text-decoration-color: #008000\">\\n   \\n   \\n   \\n   \\n   \\n  \\n   \\n   \\n   \\n   \\n   \\n   \\n   \\n   \\n   \\n   \\n   \\n   \\n   \\n   \\n   \\n   \\n    </span>\n",
       "<span style=\"color: #008000; text-decoration-color: #008000\">\\n  \\n    \\n   \\n Version 1.0 \\n'</span>,\n",
       "    <span style=\"color: #808000; text-decoration-color: #808000\">metadata</span>=<span style=\"font-weight: bold\">{</span>\n",
       "        <span style=\"color: #008000; text-decoration-color: #008000\">'section_title'</span>: <span style=\"color: #008000; text-decoration-color: #008000\">\"Comptroller's Handbook, Model Risk Management\"</span>,\n",
       "        <span style=\"color: #008000; text-decoration-color: #008000\">'page_label'</span>: <span style=\"color: #008000; text-decoration-color: #008000\">'I'</span>,\n",
       "        <span style=\"color: #008000; text-decoration-color: #008000\">'page_index'</span>: <span style=\"color: #008080; text-decoration-color: #008080; font-weight: bold\">0</span>,\n",
       "        <span style=\"color: #008000; text-decoration-color: #008000\">'parent_section'</span>: <span style=\"color: #008000; text-decoration-color: #008000\">''</span>,\n",
       "        <span style=\"color: #008000; text-decoration-color: #008000\">'file'</span>: <span style=\"color: #008000; text-decoration-color: #008000\">'pub-ch-model-risk.pdf'</span>\n",
       "    <span style=\"font-weight: bold\">}</span>\n",
       "<span style=\"font-weight: bold\">)</span>\n",
       "</pre>\n"
      ],
      "text/plain": [
       "\u001b[1;35mDocument\u001b[0m\u001b[1m(\u001b[0m\n",
       "    \u001b[33mpage_content\u001b[0m=\u001b[32m'\\n \\n       \\n \\n  \\n   \\n   \\n   \\n   \\n   \\n   \\n   \\n   \\n   \\n   \\n \\n  \\n   \\n   \\n   \\n   \u001b[0m\n",
       "\u001b[32m\\n   \\n   \\n   \\n   \\n   \\n  \\n   \\n   \\n   \\n   \\n   \\n   \\n   \\n   \\n   \\n   \\n   \\n   \\n   \\n   \\n   \\n   \\n    \u001b[0m\n",
       "\u001b[32m\\n  \\n    \\n   \\n Version 1.0 \\n'\u001b[0m,\n",
       "    \u001b[33mmetadata\u001b[0m=\u001b[1m{\u001b[0m\n",
       "        \u001b[32m'section_title'\u001b[0m: \u001b[32m\"Comptroller's Handbook, Model Risk Management\"\u001b[0m,\n",
       "        \u001b[32m'page_label'\u001b[0m: \u001b[32m'I'\u001b[0m,\n",
       "        \u001b[32m'page_index'\u001b[0m: \u001b[1;36m0\u001b[0m,\n",
       "        \u001b[32m'parent_section'\u001b[0m: \u001b[32m''\u001b[0m,\n",
       "        \u001b[32m'file'\u001b[0m: \u001b[32m'pub-ch-model-risk.pdf'\u001b[0m\n",
       "    \u001b[1m}\u001b[0m\n",
       "\u001b[1m)\u001b[0m\n"
      ]
     },
     "metadata": {},
     "output_type": "display_data"
    }
   ],
   "source": [
    "rprint(section_chunks[0])"
   ]
  },
  {
   "cell_type": "markdown",
   "metadata": {},
   "source": [
    "Now let's test out our embedding model on a single section to see what an embedding looks like below. These embeddings could be generated for the entire corpus of documents and stored in a vector store for easy retrieval."
   ]
  },
  {
   "cell_type": "code",
   "execution_count": 9,
   "metadata": {
    "tags": []
   },
   "outputs": [
    {
     "data": {
      "text/html": [
       "<pre style=\"white-space:pre;overflow-x:auto;line-height:normal;font-family:Menlo,'DejaVu Sans Mono',consolas,'Courier New',monospace\">Embedding model Id : amazon.titan-embed-text-v1\n",
       "</pre>\n"
      ],
      "text/plain": [
       "Embedding model Id : amazon.titan-embed-text-v1\n"
      ]
     },
     "metadata": {},
     "output_type": "display_data"
    },
    {
     "data": {
      "text/html": [
       "<pre style=\"white-space:pre;overflow-x:auto;line-height:normal;font-family:Menlo,'DejaVu Sans Mono',consolas,'Courier New',monospace\">Sample embedding of a document chunk: \n",
       "<span style=\"font-weight: bold\">[</span>\n",
       "    <span style=\"color: #008080; text-decoration-color: #008080; font-weight: bold\">1.0859375</span>,\n",
       "    <span style=\"color: #008080; text-decoration-color: #008080; font-weight: bold\">0.36132812</span>,\n",
       "    <span style=\"color: #008080; text-decoration-color: #008080; font-weight: bold\">0.071777344</span>,\n",
       "    <span style=\"color: #008080; text-decoration-color: #008080; font-weight: bold\">-0.6796875</span>,\n",
       "    <span style=\"color: #008080; text-decoration-color: #008080; font-weight: bold\">-0.49414062</span>,\n",
       "    <span style=\"color: #008080; text-decoration-color: #008080; font-weight: bold\">-0.18066406</span>,\n",
       "    <span style=\"color: #008080; text-decoration-color: #008080; font-weight: bold\">0.23144531</span>,\n",
       "    <span style=\"color: #008080; text-decoration-color: #008080; font-weight: bold\">-0.00042915344</span>,\n",
       "    <span style=\"color: #008080; text-decoration-color: #008080; font-weight: bold\">0.62890625</span>,\n",
       "    <span style=\"color: #008080; text-decoration-color: #008080; font-weight: bold\">-0.33007812</span>\n",
       "<span style=\"font-weight: bold\">]</span>\n",
       "</pre>\n"
      ],
      "text/plain": [
       "Sample embedding of a document chunk: \n",
       "\u001b[1m[\u001b[0m\n",
       "    \u001b[1;36m1.0859375\u001b[0m,\n",
       "    \u001b[1;36m0.36132812\u001b[0m,\n",
       "    \u001b[1;36m0.071777344\u001b[0m,\n",
       "    \u001b[1;36m-0.6796875\u001b[0m,\n",
       "    \u001b[1;36m-0.49414062\u001b[0m,\n",
       "    \u001b[1;36m-0.18066406\u001b[0m,\n",
       "    \u001b[1;36m0.23144531\u001b[0m,\n",
       "    \u001b[1;36m-0.00042915344\u001b[0m,\n",
       "    \u001b[1;36m0.62890625\u001b[0m,\n",
       "    \u001b[1;36m-0.33007812\u001b[0m\n",
       "\u001b[1m]\u001b[0m\n"
      ]
     },
     "metadata": {},
     "output_type": "display_data"
    },
    {
     "data": {
      "text/html": [
       "<pre style=\"white-space:pre;overflow-x:auto;line-height:normal;font-family:Menlo,'DejaVu Sans Mono',consolas,'Courier New',monospace\">Size of the embedding:  <span style=\"color: #008080; text-decoration-color: #008080; font-weight: bold\">1536</span>\n",
       "</pre>\n"
      ],
      "text/plain": [
       "Size of the embedding:  \u001b[1;36m1536\u001b[0m\n"
      ]
     },
     "metadata": {},
     "output_type": "display_data"
    }
   ],
   "source": [
    "try:\n",
    "    sample_embedding = bedrock_embeddings.embed_query(section_chunks[0].page_content)\n",
    "    modelId = bedrock_embeddings.model_id\n",
    "    rprint(\"Embedding model Id :\", modelId)\n",
    "    rprint(\"Sample embedding of a document chunk: \", sample_embedding[:10])\n",
    "    rprint(\"Size of the embedding: \", len(sample_embedding))\n",
    "\n",
    "except ValueError as error:\n",
    "    if  \"AccessDeniedException\" in str(error):\n",
    "        print(f\"\\x1b[41m{error}\\\n",
    "        \\nTo troubleshoot this issue please refer to the following resources.\\\n",
    "        \\nhttps://docs.aws.amazon.com/bedrock/latest/userguide/setting-up.html\\\n",
    "        \\nhttps://docs.aws.amazon.com/bedrock/latest/userguide/security-iam.html\\\n",
    "        \\nhttps://docs.aws.amazon.com/IAM/latest/UserGuide/troubleshoot_access-denied.html\\\n",
    "              \\x1b[0m\")\n",
    "        class StopExecution(ValueError):\n",
    "            def _render_traceback_(self):\n",
    "                pass\n",
    "        raise StopExecution        \n",
    "    else:\n",
    "        raise error"
   ]
  },
  {
   "cell_type": "markdown",
   "metadata": {
    "tags": []
   },
   "source": [
    "## Create the vector store\n",
    "In this workshop we will use aa local vector store powered by [FAISS](https://faiss.ai/index.html) an open source library for efficient similarity search and clustering of vectors."
   ]
  },
  {
   "cell_type": "code",
   "execution_count": 10,
   "metadata": {
    "tags": []
   },
   "outputs": [],
   "source": [
    "from langchain_community.vectorstores import FAISS, DistanceStrategy\n",
    "from langchain_community.docstore.in_memory import InMemoryDocstore\n",
    "import faiss\n",
    "import datetime as dt"
   ]
  },
  {
   "cell_type": "markdown",
   "metadata": {},
   "source": [
    "Now we are ready to ingest the documents into the vector store. This can be done easily using the [LangChain FAISS integration](https://python.langchain.com/docs/integrations/vectorstores/faiss/) which takes in the embeddings model and the documents to create the entire vector store."
   ]
  },
  {
   "cell_type": "code",
   "execution_count": 11,
   "metadata": {
    "tags": []
   },
   "outputs": [],
   "source": [
    "vec_store_time_stamp = dt.datetime.now().strftime(\"%Y%m%d%H%M%S\")\n",
    "\n",
    "docstore = InMemoryDocstore()\n",
    "index = faiss.IndexFlatL2(len(sample_embedding))\n",
    "vector_db = FAISS(embedding_function=bedrock_embeddings, \n",
    "                  index=index, \n",
    "                  index_to_docstore_id={},\n",
    "                  docstore=docstore, \n",
    "                  distance_strategy=DistanceStrategy.COSINE)"
   ]
  },
  {
   "cell_type": "markdown",
   "metadata": {},
   "source": [
    "Next we build the `ParentDocumentRetriever` combining an FAISSbased vector store and key-value based `InMemoryStore`. The vector store will be used to find section segments that were generated using through splitting with the `RecursiveCharacterSplitter`. Each section segment will contain a key reference to the full section document. The key reference will be used to retrieve the entire section text. Note that the `InMemoryStore` is essentially a python dictionary, in production you would want to use a persistent store such as [DynamoDB](https://aws.amazon.com/dynamodb/)."
   ]
  },
  {
   "cell_type": "code",
   "execution_count": 12,
   "metadata": {
    "tags": []
   },
   "outputs": [],
   "source": [
    "from langchain.storage import InMemoryStore\n",
    "from langchain.text_splitter import RecursiveCharacterTextSplitter\n",
    "from langchain.retrievers import ParentDocumentRetriever\n",
    "from io import BytesIO\n",
    "import pickle\n",
    "import time\n",
    "\n",
    "\n",
    "child_splitter = RecursiveCharacterTextSplitter(\n",
    "    separators=[\"\\n\", \"\\n\\n\"],\n",
    "    chunk_size=2000,\n",
    "    chunk_overlap=250\n",
    ")\n",
    "\n",
    "in_memory_store_file = f\"section_doc_store_{vec_store_time_stamp}.pkl\"\n",
    "vector_store_file = f\"section_vector_store_{vec_store_time_stamp}.pkl\"\n",
    "local_vector_config = \"local_config.json\"\n",
    "\n",
    "# if we previously ingested the docs we can reuse the existing index\n",
    "if Path(local_vector_config).exists():\n",
    "    in_memory_store_file = json.load(open(local_vector_config))[\"in_memory_store_file\"]\n",
    "    vector_store_file = json.load(open(local_vector_config))[\"vector_store_file\"]\n",
    "    \n",
    "    store = pickle.load(open(in_memory_store_file, \"rb\"))\n",
    "    vector_db_buff = BytesIO(pickle.load(open(vector_store_file, \"rb\")))\n",
    "    vector_db = FAISS.deserialize_from_bytes(serialized=vector_db_buff.read(), embeddings=bedrock_embeddings, allow_dangerous_deserialization=True)\n",
    "    \n",
    "    retriever = ParentDocumentRetriever(\n",
    "        vectorstore=vector_db,\n",
    "        docstore=store,\n",
    "        child_splitter=child_splitter,\n",
    "    )\n",
    "\n",
    "# ingest the document into the index\n",
    "else:\n",
    "    store = InMemoryStore()\n",
    "    \n",
    "    retriever = ParentDocumentRetriever(\n",
    "        vectorstore=vector_db,\n",
    "        docstore=store,\n",
    "        child_splitter=child_splitter,\n",
    "    )\n",
    "    \n",
    "    retriever.add_documents(section_chunks, ids=None)\n",
    "    pickle.dump(store, open(in_memory_store_file, \"wb\"))\n",
    "    pickle.dump(vector_db.serialize_to_bytes(), open(vector_store_file, \"wb\"))\n",
    "    \n",
    "    with open(local_vector_config, \"w\") as f:\n",
    "        json.dump({\"in_memory_store_file\": in_memory_store_file, \"vector_store_file\": vector_store_file}, f)"
   ]
  },
  {
   "cell_type": "markdown",
   "metadata": {
    "tags": []
   },
   "source": [
    "## Searching the vector store\n",
    "Before we get into the parent document retrieval, let's first explore the various ways that we can query the vector store exclusively."
   ]
  },
  {
   "cell_type": "markdown",
   "metadata": {},
   "source": [
    "### Semantic search methods\n",
    "[Semantic search](https://www.elastic.co/what-is/semantic-search) considers the context and intent of a query. Unlike traditional keyword based searches, semantic search utilize embedding that capture the meaning of the text. This allows for more relevant results to be returned. "
   ]
  },
  {
   "cell_type": "markdown",
   "metadata": {},
   "source": [
    "#### Approximate k-NN search\n",
    "Standard k-NN search methods compute similarity using a brute-force approach that measures the nearest distance between a query and a number of points, which produces exact results. This works well in many applications. However, in the case of extremely large datasets with high dimensionality, this creates a scaling problem that reduces the efficiency of the search. Approximate k-NN search methods can overcome this by employing tools that restructure indexes more efficiently and reduce the dimensionality of searchable vectors. Using this approach requires a sacrifice in accuracy but increases search processing speeds appreciably.\n",
    "\n",
    "Let's see a few examples of a semantic similarity search using FAISS"
   ]
  },
  {
   "cell_type": "code",
   "execution_count": 13,
   "metadata": {
    "tags": []
   },
   "outputs": [
    {
     "data": {
      "text/html": [
       "<pre style=\"white-space:pre;overflow-x:auto;line-height:normal;font-family:Menlo,'DejaVu Sans Mono',consolas,'Courier New',monospace\"><span style=\"font-weight: bold\">[</span>\n",
       "  <span style=\"font-weight: bold\">{</span>\n",
       "    <span style=\"color: #008000; text-decoration-color: #008000\">\"lc\"</span>: <span style=\"color: #008080; text-decoration-color: #008080; font-weight: bold\">1</span>,\n",
       "    <span style=\"color: #008000; text-decoration-color: #008000\">\"type\"</span>: <span style=\"color: #008000; text-decoration-color: #008000\">\"constructor\"</span>,\n",
       "    <span style=\"color: #008000; text-decoration-color: #008000\">\"id\"</span>: <span style=\"font-weight: bold\">[</span>\n",
       "      <span style=\"color: #008000; text-decoration-color: #008000\">\"langchain\"</span>,\n",
       "      <span style=\"color: #008000; text-decoration-color: #008000\">\"schema\"</span>,\n",
       "      <span style=\"color: #008000; text-decoration-color: #008000\">\"document\"</span>,\n",
       "      <span style=\"color: #008000; text-decoration-color: #008000\">\"Document\"</span>\n",
       "    <span style=\"font-weight: bold\">]</span>,\n",
       "    <span style=\"color: #008000; text-decoration-color: #008000\">\"kwargs\"</span>: <span style=\"font-weight: bold\">{</span>\n",
       "      <span style=\"color: #008000; text-decoration-color: #008000\">\"page_content\"</span>: <span style=\"color: #008000; text-decoration-color: #008000\">\"Page 3 III. OVERVIEW OF MODEL RISK MANAGEMENT \\nFor the purposes of this document, the term </span>\n",
       "<span style=\"color: #008000; text-decoration-color: #008000\">model refers to a quantitative method, \\nsystem, or approach that applies statistical, economic, financial, or </span>\n",
       "<span style=\"color: #008000; text-decoration-color: #008000\">mathematical theories, \\ntechniques, and assumptions to process input data into quantitative estimates. A model </span>\n",
       "<span style=\"color: #008000; text-decoration-color: #008000\">\\nconsists of three components: an information input component, which delivers \\nassumptions and data to the model;</span>\n",
       "<span style=\"color: #008000; text-decoration-color: #008000\">a processing component, which transforms inputs into \\nestimates; and a reporting component, which translates the </span>\n",
       "<span style=\"color: #008000; text-decoration-color: #008000\">estimates into useful business \\ninformation. Models meeting this definition might be used for analyzing business </span>\n",
       "<span style=\"color: #008000; text-decoration-color: #008000\">\\nstrategies, informing business decisions, identifying and measuring risks, valuing \\nexposures, instruments or </span>\n",
       "<span style=\"color: #008000; text-decoration-color: #008000\">positions, conducting stress testing, assessing adequacy of \\ncapital, managing client assets, measuring compliance</span>\n",
       "<span style=\"color: #008000; text-decoration-color: #008000\">with internal limits, maintaining \\nthe formal control apparatus of the bank, or meeting financial or regulatory </span>\n",
       "<span style=\"color: #008000; text-decoration-color: #008000\">reporting \\nrequirements and issuing public disclosures. The definition of model also covers \\nquantitative </span>\n",
       "<span style=\"color: #008000; text-decoration-color: #008000\">approaches whose inputs are partially or wholly qualitative or based on \\nexpert judgment, provided that the output</span>\n",
       "<span style=\"color: #008000; text-decoration-color: #008000\">is quantitative in nature.  [Footnote 3 \\n- While outside the scope of this guidance, more qualitative approaches </span>\n",
       "<span style=\"color: #008000; text-decoration-color: #008000\">used by banking organizations\\u2014 \\ni.e., those not defined as models according to this guidance\\u2014should also</span>\n",
       "<span style=\"color: #008000; text-decoration-color: #008000\">be subject to a rigorous control \\nprocess. End of Footnote 3.] Models are simplified representations of real-world</span>\n",
       "<span style=\"color: #008000; text-decoration-color: #008000\">relationships among observed \\ncharacteristics, values, and events. Simplification is inevitable, due to the </span>\n",
       "<span style=\"color: #008000; text-decoration-color: #008000\">inherent \\ncomplexity of those relationships, but also intentional, to focus attention on particular \\naspects </span>\n",
       "<span style=\"color: #008000; text-decoration-color: #008000\">considered to be most important for a given model application. Model quality can \\nbe measured in many ways: </span>\n",
       "<span style=\"color: #008000; text-decoration-color: #008000\">precision, accuracy, discriminatory power, robustness,\"</span>,\n",
       "      <span style=\"color: #008000; text-decoration-color: #008000\">\"metadata\"</span>: <span style=\"font-weight: bold\">{</span>\n",
       "        <span style=\"color: #008000; text-decoration-color: #008000\">\"section_title\"</span>: <span style=\"color: #008000; text-decoration-color: #008000\">\"II. Purpose and Scope\"</span>,\n",
       "        <span style=\"color: #008000; text-decoration-color: #008000\">\"page_label\"</span>: <span style=\"color: #008000; text-decoration-color: #008000\">\"2\"</span>,\n",
       "        <span style=\"color: #008000; text-decoration-color: #008000\">\"page_index\"</span>: <span style=\"color: #008080; text-decoration-color: #008080; font-weight: bold\">1</span>,\n",
       "        <span style=\"color: #008000; text-decoration-color: #008000\">\"parent_section\"</span>: <span style=\"color: #008000; text-decoration-color: #008000\">\"Contents\"</span>,\n",
       "        <span style=\"color: #008000; text-decoration-color: #008000\">\"file\"</span>: <span style=\"color: #008000; text-decoration-color: #008000\">\"sr1107a1.pdf\"</span>,\n",
       "        <span style=\"color: #008000; text-decoration-color: #008000\">\"doc_id\"</span>: <span style=\"color: #008000; text-decoration-color: #008000\">\"2f89a7bd-2fbe-4638-9896-3ca5667a7c48\"</span>\n",
       "      <span style=\"font-weight: bold\">}</span>,\n",
       "      <span style=\"color: #008000; text-decoration-color: #008000\">\"type\"</span>: <span style=\"color: #008000; text-decoration-color: #008000\">\"Document\"</span>\n",
       "    <span style=\"font-weight: bold\">}</span>\n",
       "  <span style=\"font-weight: bold\">}</span>,\n",
       "  <span style=\"font-weight: bold\">{</span>\n",
       "    <span style=\"color: #008000; text-decoration-color: #008000\">\"lc\"</span>: <span style=\"color: #008080; text-decoration-color: #008080; font-weight: bold\">1</span>,\n",
       "    <span style=\"color: #008000; text-decoration-color: #008000\">\"type\"</span>: <span style=\"color: #008000; text-decoration-color: #008000\">\"constructor\"</span>,\n",
       "    <span style=\"color: #008000; text-decoration-color: #008000\">\"id\"</span>: <span style=\"font-weight: bold\">[</span>\n",
       "      <span style=\"color: #008000; text-decoration-color: #008000\">\"langchain\"</span>,\n",
       "      <span style=\"color: #008000; text-decoration-color: #008000\">\"schema\"</span>,\n",
       "      <span style=\"color: #008000; text-decoration-color: #008000\">\"document\"</span>,\n",
       "      <span style=\"color: #008000; text-decoration-color: #008000\">\"Document\"</span>\n",
       "    <span style=\"font-weight: bold\">]</span>,\n",
       "    <span style=\"color: #008000; text-decoration-color: #008000\">\"kwargs\"</span>: <span style=\"font-weight: bold\">{</span>\n",
       "      <span style=\"color: #008000; text-decoration-color: #008000\">\"page_content\"</span>: <span style=\"color: #008000; text-decoration-color: #008000\">\"in nature . (See note 1.) \\nNote 1: While outside the scope of this guidance, more </span>\n",
       "<span style=\"color: #008000; text-decoration-color: #008000\">qualitative approaches used by banking organizations \\u2014 i.e., those \\nnot defined as models according to this </span>\n",
       "<span style=\"color: #008000; text-decoration-color: #008000\">guidance \\u2014should also be subject to a rigorous control process. \\nA model may combine assumptions, data, and </span>\n",
       "<span style=\"color: #008000; text-decoration-color: #008000\">hypotheses about the behavior of markets or \\nindividuals, and process these inputs into quantitative estimates , </span>\n",
       "<span style=\"color: #008000; text-decoration-color: #008000\">forecasted outcomes, or \\npredictions. \\nSupervisory Guidance on Model Risk Management \\nModels are simplified </span>\n",
       "<span style=\"color: #008000; text-decoration-color: #008000\">representations of real-world relationships among observed characteristics, \\nvalues, and events. Simplification is</span>\n",
       "<span style=\"color: #008000; text-decoration-color: #008000\">inevitable, due to the inherent complexity of those \\nrelationships, but also intentional, to focus attention on </span>\n",
       "<span style=\"color: #008000; text-decoration-color: #008000\">particular aspects considered to be most important for a given model application. Model quality can be measured in </span>\n",
       "<span style=\"color: #008000; text-decoration-color: #008000\">many ways : precision, \\naccuracy, discriminatory power, robustness, stability, and reliability , to name a few. </span>\n",
       "<span style=\"color: #008000; text-decoration-color: #008000\">Models are \\nnever perfect, and the appropriate metrics of quality, and the effort that should be put into </span>\n",
       "<span style=\"color: #008000; text-decoration-color: #008000\">\\nimproving quality, depend on the situation. For example, precision and accuracy are relevant for \\nmodels that </span>\n",
       "<span style=\"color: #008000; text-decoration-color: #008000\">forecast future values, while discriminatory power applies to models that rank order risks. In all situations, it </span>\n",
       "<span style=\"color: #008000; text-decoration-color: #008000\">is important to understand a model \\u2019s capabilities and limitations given its \\nsimplifications and </span>\n",
       "<span style=\"color: #008000; text-decoration-color: #008000\">assumptions. \\nBecause assumptions are typically simplifications of the actual relationships between inputs \\nand </span>\n",
       "<span style=\"color: #008000; text-decoration-color: #008000\">outputs, and hypotheses about behavior are imprecise, there is some uncertainty \\nassociated with a model\\u2019s </span>\n",
       "<span style=\"color: #008000; text-decoration-color: #008000\">estimate of the outputs, resulting in prediction errors. \\nVarious models may focus on discriminatory power or </span>\n",
       "<span style=\"color: #008000; text-decoration-color: #008000\">predictive power as measures of model accuracy. Discriminatory power assesses a model\\u2019s rank-ordering </span>\n",
       "<span style=\"color: #008000; text-decoration-color: #008000\">property, while \\npredictive power focuses on the model output\\u2019s prediction accuracy. A model focusing on\"</span>,\n",
       "      <span style=\"color: #008000; text-decoration-color: #008000\">\"metadata\"</span>: <span style=\"font-weight: bold\">{</span>\n",
       "        <span style=\"color: #008000; text-decoration-color: #008000\">\"section_title\"</span>: <span style=\"color: #008000; text-decoration-color: #008000\">\"Background\"</span>,\n",
       "        <span style=\"color: #008000; text-decoration-color: #008000\">\"page_label\"</span>: <span style=\"color: #008000; text-decoration-color: #008000\">\"1\"</span>,\n",
       "        <span style=\"color: #008000; text-decoration-color: #008000\">\"page_index\"</span>: <span style=\"color: #008080; text-decoration-color: #008080; font-weight: bold\">3</span>,\n",
       "        <span style=\"color: #008000; text-decoration-color: #008000\">\"parent_section\"</span>: <span style=\"color: #008000; text-decoration-color: #008000\">\"Introduction\"</span>,\n",
       "        <span style=\"color: #008000; text-decoration-color: #008000\">\"file\"</span>: <span style=\"color: #008000; text-decoration-color: #008000\">\"pub-ch-model-risk.pdf\"</span>,\n",
       "        <span style=\"color: #008000; text-decoration-color: #008000\">\"doc_id\"</span>: <span style=\"color: #008000; text-decoration-color: #008000\">\"7586d369-5159-47d2-8602-4eb651179e9a\"</span>\n",
       "      <span style=\"font-weight: bold\">}</span>,\n",
       "      <span style=\"color: #008000; text-decoration-color: #008000\">\"type\"</span>: <span style=\"color: #008000; text-decoration-color: #008000\">\"Document\"</span>\n",
       "    <span style=\"font-weight: bold\">}</span>\n",
       "  <span style=\"font-weight: bold\">}</span>,\n",
       "  <span style=\"font-weight: bold\">{</span>\n",
       "    <span style=\"color: #008000; text-decoration-color: #008000\">\"lc\"</span>: <span style=\"color: #008080; text-decoration-color: #008080; font-weight: bold\">1</span>,\n",
       "    <span style=\"color: #008000; text-decoration-color: #008000\">\"type\"</span>: <span style=\"color: #008000; text-decoration-color: #008000\">\"constructor\"</span>,\n",
       "    <span style=\"color: #008000; text-decoration-color: #008000\">\"id\"</span>: <span style=\"font-weight: bold\">[</span>\n",
       "      <span style=\"color: #008000; text-decoration-color: #008000\">\"langchain\"</span>,\n",
       "      <span style=\"color: #008000; text-decoration-color: #008000\">\"schema\"</span>,\n",
       "      <span style=\"color: #008000; text-decoration-color: #008000\">\"document\"</span>,\n",
       "      <span style=\"color: #008000; text-decoration-color: #008000\">\"Document\"</span>\n",
       "    <span style=\"font-weight: bold\">]</span>,\n",
       "    <span style=\"color: #008000; text-decoration-color: #008000\">\"kwargs\"</span>: <span style=\"font-weight: bold\">{</span>\n",
       "      <span style=\"color: #008000; text-decoration-color: #008000\">\"page_content\"</span>: <span style=\"color: #008000; text-decoration-color: #008000\">\"Supervisory Guidance on Model Risk Management \\nFor the purposes of this document, the term </span>\n",
       "<span style=\"color: #008000; text-decoration-color: #008000\">model refers to a quantitative method, system, or \\napproach that applies statistical, economic, financial, or </span>\n",
       "<span style=\"color: #008000; text-decoration-color: #008000\">mathematical theories, t echniques, and \\nassumptions to process input data into quantitative estimates. A model </span>\n",
       "<span style=\"color: #008000; text-decoration-color: #008000\">consists of three \\n1 For example, certain banks must comply with ongoing model review, approval, and validation </span>\n",
       "<span style=\"color: #008000; text-decoration-color: #008000\">requirements as \\npart of the advanced approaches risk -based capital rules, set forth at 12 CFR 3 , subpart E, and</span>\n",
       "<span style=\"color: #008000; text-decoration-color: #008000\">the market risk \\nrule, set forth at 12 CFR 3, subpart F. Terms that are boldfaced upon first mention in this </span>\n",
       "<span style=\"color: #008000; text-decoration-color: #008000\">booklet are defined in \\nappendix A of this booklet. \\nComptroller\\u2019s Handbook 1 Model Risk Management \\n \\n   </span>\n",
       "<span style=\"color: #008000; text-decoration-color: #008000\">\\n  \\n  \\n \\n \\n  \\n \\n  \\n \\n     \\n \\n \\n     \\n   \\n \\n \\n  \\n \\n \\n  \\n \\n    \\n \\n  \\n \\n   \\n \\n \\n  \\n  \\n  </span>\n",
       "<span style=\"color: #008000; text-decoration-color: #008000\">\\n \\n   \\n   \\n    \\n   \\n   \\n \\n    \\n       \\n    \\n \\n                   \\n            Version 1.0 </span>\n",
       "<span style=\"color: #008000; text-decoration-color: #008000\">\\ncomponents: an information input component, which delivers assumptions and data to the model; a \\nprocessing </span>\n",
       "<span style=\"color: #008000; text-decoration-color: #008000\">component, which transforms inputs into estimates; and a reporting component, which \\ntranslates the estimates into</span>\n",
       "<span style=\"color: #008000; text-decoration-color: #008000\">useful business information. Models meeting this definition might be \\nused for analyzing business strategies, </span>\n",
       "<span style=\"color: #008000; text-decoration-color: #008000\">informing business decisions, identifying and measuring \\nrisks, valuing exposur es, instruments or positions, </span>\n",
       "<span style=\"color: #008000; text-decoration-color: #008000\">conducting stress testing, assessing adequacy of \\ncapital, managing client assets, measuring compliance with </span>\n",
       "<span style=\"color: #008000; text-decoration-color: #008000\">internal limits, maintaining the formal \\ncontrol apparatus of the bank, or meeting financial or regulatory </span>\n",
       "<span style=\"color: #008000; text-decoration-color: #008000\">reporting requirements and issuing \\npublic disclosures. The definition of model also covers quantitative </span>\n",
       "<span style=\"color: #008000; text-decoration-color: #008000\">approaches whose inputs are \\npartially or wholly qualitative or based on expert judgment, provided that the output</span>\n",
       "<span style=\"color: #008000; text-decoration-color: #008000\">is quantitative \\nin nature . (See note 1.) \\nNote 1: While outside the scope of this guidance, more qualitative </span>\n",
       "<span style=\"color: #008000; text-decoration-color: #008000\">approaches used by banking organizations \\u2014 i.e., those\"</span>,\n",
       "      <span style=\"color: #008000; text-decoration-color: #008000\">\"metadata\"</span>: <span style=\"font-weight: bold\">{</span>\n",
       "        <span style=\"color: #008000; text-decoration-color: #008000\">\"section_title\"</span>: <span style=\"color: #008000; text-decoration-color: #008000\">\"Background\"</span>,\n",
       "        <span style=\"color: #008000; text-decoration-color: #008000\">\"page_label\"</span>: <span style=\"color: #008000; text-decoration-color: #008000\">\"1\"</span>,\n",
       "        <span style=\"color: #008000; text-decoration-color: #008000\">\"page_index\"</span>: <span style=\"color: #008080; text-decoration-color: #008080; font-weight: bold\">3</span>,\n",
       "        <span style=\"color: #008000; text-decoration-color: #008000\">\"parent_section\"</span>: <span style=\"color: #008000; text-decoration-color: #008000\">\"Introduction\"</span>,\n",
       "        <span style=\"color: #008000; text-decoration-color: #008000\">\"file\"</span>: <span style=\"color: #008000; text-decoration-color: #008000\">\"pub-ch-model-risk.pdf\"</span>,\n",
       "        <span style=\"color: #008000; text-decoration-color: #008000\">\"doc_id\"</span>: <span style=\"color: #008000; text-decoration-color: #008000\">\"7586d369-5159-47d2-8602-4eb651179e9a\"</span>\n",
       "      <span style=\"font-weight: bold\">}</span>,\n",
       "      <span style=\"color: #008000; text-decoration-color: #008000\">\"type\"</span>: <span style=\"color: #008000; text-decoration-color: #008000\">\"Document\"</span>\n",
       "    <span style=\"font-weight: bold\">}</span>\n",
       "  <span style=\"font-weight: bold\">}</span>\n",
       "<span style=\"font-weight: bold\">]</span>\n",
       "</pre>\n"
      ],
      "text/plain": [
       "\u001b[1m[\u001b[0m\n",
       "  \u001b[1m{\u001b[0m\n",
       "    \u001b[32m\"lc\"\u001b[0m: \u001b[1;36m1\u001b[0m,\n",
       "    \u001b[32m\"type\"\u001b[0m: \u001b[32m\"constructor\"\u001b[0m,\n",
       "    \u001b[32m\"id\"\u001b[0m: \u001b[1m[\u001b[0m\n",
       "      \u001b[32m\"langchain\"\u001b[0m,\n",
       "      \u001b[32m\"schema\"\u001b[0m,\n",
       "      \u001b[32m\"document\"\u001b[0m,\n",
       "      \u001b[32m\"Document\"\u001b[0m\n",
       "    \u001b[1m]\u001b[0m,\n",
       "    \u001b[32m\"kwargs\"\u001b[0m: \u001b[1m{\u001b[0m\n",
       "      \u001b[32m\"page_content\"\u001b[0m: \u001b[32m\"Page 3 III. OVERVIEW OF MODEL RISK MANAGEMENT \\nFor the purposes of this document, the term \u001b[0m\n",
       "\u001b[32mmodel refers to a quantitative method, \\nsystem, or approach that applies statistical, economic, financial, or \u001b[0m\n",
       "\u001b[32mmathematical theories, \\ntechniques, and assumptions to process input data into quantitative estimates. A model \u001b[0m\n",
       "\u001b[32m\\nconsists of three components: an information input component, which delivers \\nassumptions and data to the model;\u001b[0m\n",
       "\u001b[32ma processing component, which transforms inputs into \\nestimates; and a reporting component, which translates the \u001b[0m\n",
       "\u001b[32mestimates into useful business \\ninformation. Models meeting this definition might be used for analyzing business \u001b[0m\n",
       "\u001b[32m\\nstrategies, informing business decisions, identifying and measuring risks, valuing \\nexposures, instruments or \u001b[0m\n",
       "\u001b[32mpositions, conducting stress testing, assessing adequacy of \\ncapital, managing client assets, measuring compliance\u001b[0m\n",
       "\u001b[32mwith internal limits, maintaining \\nthe formal control apparatus of the bank, or meeting financial or regulatory \u001b[0m\n",
       "\u001b[32mreporting \\nrequirements and issuing public disclosures. The definition of model also covers \\nquantitative \u001b[0m\n",
       "\u001b[32mapproaches whose inputs are partially or wholly qualitative or based on \\nexpert judgment, provided that the output\u001b[0m\n",
       "\u001b[32mis quantitative in nature.  \u001b[0m\u001b[32m[\u001b[0m\u001b[32mFootnote 3 \\n- While outside the scope of this guidance, more qualitative approaches \u001b[0m\n",
       "\u001b[32mused by banking organizations\\u2014 \\ni.e., those not defined as models according to this guidance\\u2014should also\u001b[0m\n",
       "\u001b[32mbe subject to a rigorous control \\nprocess. End of Footnote 3.\u001b[0m\u001b[32m]\u001b[0m\u001b[32m Models are simplified representations of real-world\u001b[0m\n",
       "\u001b[32mrelationships among observed \\ncharacteristics, values, and events. Simplification is inevitable, due to the \u001b[0m\n",
       "\u001b[32minherent \\ncomplexity of those relationships, but also intentional, to focus attention on particular \\naspects \u001b[0m\n",
       "\u001b[32mconsidered to be most important for a given model application. Model quality can \\nbe measured in many ways: \u001b[0m\n",
       "\u001b[32mprecision, accuracy, discriminatory power, robustness,\"\u001b[0m,\n",
       "      \u001b[32m\"metadata\"\u001b[0m: \u001b[1m{\u001b[0m\n",
       "        \u001b[32m\"section_title\"\u001b[0m: \u001b[32m\"II. Purpose and Scope\"\u001b[0m,\n",
       "        \u001b[32m\"page_label\"\u001b[0m: \u001b[32m\"2\"\u001b[0m,\n",
       "        \u001b[32m\"page_index\"\u001b[0m: \u001b[1;36m1\u001b[0m,\n",
       "        \u001b[32m\"parent_section\"\u001b[0m: \u001b[32m\"Contents\"\u001b[0m,\n",
       "        \u001b[32m\"file\"\u001b[0m: \u001b[32m\"sr1107a1.pdf\"\u001b[0m,\n",
       "        \u001b[32m\"doc_id\"\u001b[0m: \u001b[32m\"2f89a7bd-2fbe-4638-9896-3ca5667a7c48\"\u001b[0m\n",
       "      \u001b[1m}\u001b[0m,\n",
       "      \u001b[32m\"type\"\u001b[0m: \u001b[32m\"Document\"\u001b[0m\n",
       "    \u001b[1m}\u001b[0m\n",
       "  \u001b[1m}\u001b[0m,\n",
       "  \u001b[1m{\u001b[0m\n",
       "    \u001b[32m\"lc\"\u001b[0m: \u001b[1;36m1\u001b[0m,\n",
       "    \u001b[32m\"type\"\u001b[0m: \u001b[32m\"constructor\"\u001b[0m,\n",
       "    \u001b[32m\"id\"\u001b[0m: \u001b[1m[\u001b[0m\n",
       "      \u001b[32m\"langchain\"\u001b[0m,\n",
       "      \u001b[32m\"schema\"\u001b[0m,\n",
       "      \u001b[32m\"document\"\u001b[0m,\n",
       "      \u001b[32m\"Document\"\u001b[0m\n",
       "    \u001b[1m]\u001b[0m,\n",
       "    \u001b[32m\"kwargs\"\u001b[0m: \u001b[1m{\u001b[0m\n",
       "      \u001b[32m\"page_content\"\u001b[0m: \u001b[32m\"in nature . \u001b[0m\u001b[32m(\u001b[0m\u001b[32mSee note 1.\u001b[0m\u001b[32m)\u001b[0m\u001b[32m \\nNote 1: While outside the scope of this guidance, more \u001b[0m\n",
       "\u001b[32mqualitative approaches used by banking organizations \\u2014 i.e., those \\nnot defined as models according to this \u001b[0m\n",
       "\u001b[32mguidance \\u2014should also be subject to a rigorous control process. \\nA model may combine assumptions, data, and \u001b[0m\n",
       "\u001b[32mhypotheses about the behavior of markets or \\nindividuals, and process these inputs into quantitative estimates , \u001b[0m\n",
       "\u001b[32mforecasted outcomes, or \\npredictions. \\nSupervisory Guidance on Model Risk Management \\nModels are simplified \u001b[0m\n",
       "\u001b[32mrepresentations of real-world relationships among observed characteristics, \\nvalues, and events. Simplification is\u001b[0m\n",
       "\u001b[32minevitable, due to the inherent complexity of those \\nrelationships, but also intentional, to focus attention on \u001b[0m\n",
       "\u001b[32mparticular aspects considered to be most important for a given model application. Model quality can be measured in \u001b[0m\n",
       "\u001b[32mmany ways : precision, \\naccuracy, discriminatory power, robustness, stability, and reliability , to name a few. \u001b[0m\n",
       "\u001b[32mModels are \\nnever perfect, and the appropriate metrics of quality, and the effort that should be put into \u001b[0m\n",
       "\u001b[32m\\nimproving quality, depend on the situation. For example, precision and accuracy are relevant for \\nmodels that \u001b[0m\n",
       "\u001b[32mforecast future values, while discriminatory power applies to models that rank order risks. In all situations, it \u001b[0m\n",
       "\u001b[32mis important to understand a model \\u2019s capabilities and limitations given its \\nsimplifications and \u001b[0m\n",
       "\u001b[32massumptions. \\nBecause assumptions are typically simplifications of the actual relationships between inputs \\nand \u001b[0m\n",
       "\u001b[32moutputs, and hypotheses about behavior are imprecise, there is some uncertainty \\nassociated with a model\\u2019s \u001b[0m\n",
       "\u001b[32mestimate of the outputs, resulting in prediction errors. \\nVarious models may focus on discriminatory power or \u001b[0m\n",
       "\u001b[32mpredictive power as measures of model accuracy. Discriminatory power assesses a model\\u2019s rank-ordering \u001b[0m\n",
       "\u001b[32mproperty, while \\npredictive power focuses on the model output\\u2019s prediction accuracy. A model focusing on\"\u001b[0m,\n",
       "      \u001b[32m\"metadata\"\u001b[0m: \u001b[1m{\u001b[0m\n",
       "        \u001b[32m\"section_title\"\u001b[0m: \u001b[32m\"Background\"\u001b[0m,\n",
       "        \u001b[32m\"page_label\"\u001b[0m: \u001b[32m\"1\"\u001b[0m,\n",
       "        \u001b[32m\"page_index\"\u001b[0m: \u001b[1;36m3\u001b[0m,\n",
       "        \u001b[32m\"parent_section\"\u001b[0m: \u001b[32m\"Introduction\"\u001b[0m,\n",
       "        \u001b[32m\"file\"\u001b[0m: \u001b[32m\"pub-ch-model-risk.pdf\"\u001b[0m,\n",
       "        \u001b[32m\"doc_id\"\u001b[0m: \u001b[32m\"7586d369-5159-47d2-8602-4eb651179e9a\"\u001b[0m\n",
       "      \u001b[1m}\u001b[0m,\n",
       "      \u001b[32m\"type\"\u001b[0m: \u001b[32m\"Document\"\u001b[0m\n",
       "    \u001b[1m}\u001b[0m\n",
       "  \u001b[1m}\u001b[0m,\n",
       "  \u001b[1m{\u001b[0m\n",
       "    \u001b[32m\"lc\"\u001b[0m: \u001b[1;36m1\u001b[0m,\n",
       "    \u001b[32m\"type\"\u001b[0m: \u001b[32m\"constructor\"\u001b[0m,\n",
       "    \u001b[32m\"id\"\u001b[0m: \u001b[1m[\u001b[0m\n",
       "      \u001b[32m\"langchain\"\u001b[0m,\n",
       "      \u001b[32m\"schema\"\u001b[0m,\n",
       "      \u001b[32m\"document\"\u001b[0m,\n",
       "      \u001b[32m\"Document\"\u001b[0m\n",
       "    \u001b[1m]\u001b[0m,\n",
       "    \u001b[32m\"kwargs\"\u001b[0m: \u001b[1m{\u001b[0m\n",
       "      \u001b[32m\"page_content\"\u001b[0m: \u001b[32m\"Supervisory Guidance on Model Risk Management \\nFor the purposes of this document, the term \u001b[0m\n",
       "\u001b[32mmodel refers to a quantitative method, system, or \\napproach that applies statistical, economic, financial, or \u001b[0m\n",
       "\u001b[32mmathematical theories, t echniques, and \\nassumptions to process input data into quantitative estimates. A model \u001b[0m\n",
       "\u001b[32mconsists of three \\n1 For example, certain banks must comply with ongoing model review, approval, and validation \u001b[0m\n",
       "\u001b[32mrequirements as \\npart of the advanced approaches risk -based capital rules, set forth at 12 CFR 3 , subpart E, and\u001b[0m\n",
       "\u001b[32mthe market risk \\nrule, set forth at 12 CFR 3, subpart F. Terms that are boldfaced upon first mention in this \u001b[0m\n",
       "\u001b[32mbooklet are defined in \\nappendix A of this booklet. \\nComptroller\\u2019s Handbook 1 Model Risk Management \\n \\n   \u001b[0m\n",
       "\u001b[32m\\n  \\n  \\n \\n \\n  \\n \\n  \\n \\n     \\n \\n \\n     \\n   \\n \\n \\n  \\n \\n \\n  \\n \\n    \\n \\n  \\n \\n   \\n \\n \\n  \\n  \\n  \u001b[0m\n",
       "\u001b[32m\\n \\n   \\n   \\n    \\n   \\n   \\n \\n    \\n       \\n    \\n \\n                   \\n            Version 1.0 \u001b[0m\n",
       "\u001b[32m\\ncomponents: an information input component, which delivers assumptions and data to the model; a \\nprocessing \u001b[0m\n",
       "\u001b[32mcomponent, which transforms inputs into estimates; and a reporting component, which \\ntranslates the estimates into\u001b[0m\n",
       "\u001b[32museful business information. Models meeting this definition might be \\nused for analyzing business strategies, \u001b[0m\n",
       "\u001b[32minforming business decisions, identifying and measuring \\nrisks, valuing exposur es, instruments or positions, \u001b[0m\n",
       "\u001b[32mconducting stress testing, assessing adequacy of \\ncapital, managing client assets, measuring compliance with \u001b[0m\n",
       "\u001b[32minternal limits, maintaining the formal \\ncontrol apparatus of the bank, or meeting financial or regulatory \u001b[0m\n",
       "\u001b[32mreporting requirements and issuing \\npublic disclosures. The definition of model also covers quantitative \u001b[0m\n",
       "\u001b[32mapproaches whose inputs are \\npartially or wholly qualitative or based on expert judgment, provided that the output\u001b[0m\n",
       "\u001b[32mis quantitative \\nin nature . \u001b[0m\u001b[32m(\u001b[0m\u001b[32mSee note 1.\u001b[0m\u001b[32m)\u001b[0m\u001b[32m \\nNote 1: While outside the scope of this guidance, more qualitative \u001b[0m\n",
       "\u001b[32mapproaches used by banking organizations \\u2014 i.e., those\"\u001b[0m,\n",
       "      \u001b[32m\"metadata\"\u001b[0m: \u001b[1m{\u001b[0m\n",
       "        \u001b[32m\"section_title\"\u001b[0m: \u001b[32m\"Background\"\u001b[0m,\n",
       "        \u001b[32m\"page_label\"\u001b[0m: \u001b[32m\"1\"\u001b[0m,\n",
       "        \u001b[32m\"page_index\"\u001b[0m: \u001b[1;36m3\u001b[0m,\n",
       "        \u001b[32m\"parent_section\"\u001b[0m: \u001b[32m\"Introduction\"\u001b[0m,\n",
       "        \u001b[32m\"file\"\u001b[0m: \u001b[32m\"pub-ch-model-risk.pdf\"\u001b[0m,\n",
       "        \u001b[32m\"doc_id\"\u001b[0m: \u001b[32m\"7586d369-5159-47d2-8602-4eb651179e9a\"\u001b[0m\n",
       "      \u001b[1m}\u001b[0m,\n",
       "      \u001b[32m\"type\"\u001b[0m: \u001b[32m\"Document\"\u001b[0m\n",
       "    \u001b[1m}\u001b[0m\n",
       "  \u001b[1m}\u001b[0m\n",
       "\u001b[1m]\u001b[0m\n"
      ]
     },
     "metadata": {},
     "output_type": "display_data"
    }
   ],
   "source": [
    "# Search query\n",
    "query = \"What can be considered a model?\"\n",
    "\n",
    "# Search for the 3 most relevant documents\n",
    "results = vector_db.similarity_search(query, k=3)\n",
    "\n",
    "rprint(dumps(results, pretty=True))"
   ]
  },
  {
   "cell_type": "markdown",
   "metadata": {},
   "source": [
    "#### k-NN search with filters\n",
    " Filters can greatly reduce the number of vectors to be searched. In the example below we can filter on a specific document before running the k-NN search. This can be useful when you know the document that you are looking for."
   ]
  },
  {
   "cell_type": "code",
   "execution_count": 14,
   "metadata": {
    "tags": []
   },
   "outputs": [
    {
     "data": {
      "text/html": [
       "<pre style=\"white-space:pre;overflow-x:auto;line-height:normal;font-family:Menlo,'DejaVu Sans Mono',consolas,'Courier New',monospace\"><span style=\"font-weight: bold\">[</span>\n",
       "  <span style=\"font-weight: bold\">{</span>\n",
       "    <span style=\"color: #008000; text-decoration-color: #008000\">\"lc\"</span>: <span style=\"color: #008080; text-decoration-color: #008080; font-weight: bold\">1</span>,\n",
       "    <span style=\"color: #008000; text-decoration-color: #008000\">\"type\"</span>: <span style=\"color: #008000; text-decoration-color: #008000\">\"constructor\"</span>,\n",
       "    <span style=\"color: #008000; text-decoration-color: #008000\">\"id\"</span>: <span style=\"font-weight: bold\">[</span>\n",
       "      <span style=\"color: #008000; text-decoration-color: #008000\">\"langchain\"</span>,\n",
       "      <span style=\"color: #008000; text-decoration-color: #008000\">\"schema\"</span>,\n",
       "      <span style=\"color: #008000; text-decoration-color: #008000\">\"document\"</span>,\n",
       "      <span style=\"color: #008000; text-decoration-color: #008000\">\"Document\"</span>\n",
       "    <span style=\"font-weight: bold\">]</span>,\n",
       "    <span style=\"color: #008000; text-decoration-color: #008000\">\"kwargs\"</span>: <span style=\"font-weight: bold\">{</span>\n",
       "      <span style=\"color: #008000; text-decoration-color: #008000\">\"page_content\"</span>: <span style=\"color: #008000; text-decoration-color: #008000\">\"necessarily indicate that the model is in error. The benchmark itself is an alternative </span>\n",
       "<span style=\"color: #008000; text-decoration-color: #008000\">\\nprediction, and the differences may be due to the different data or methods used. If the \\nmodel and the </span>\n",
       "<span style=\"color: #008000; text-decoration-color: #008000\">benchmark match well, that is evidence in favor of the model, but it should \\nbe interpreted with caution so the </span>\n",
       "<span style=\"color: #008000; text-decoration-color: #008000\">bank does not get a false degree of comfort. \\n3. Outcomes Analysis \\nThe third core element of the validation </span>\n",
       "<span style=\"color: #008000; text-decoration-color: #008000\">process is outcomes analysis, a comparison of \\nmodel outputs to corresponding actual outcomes. The precise nature </span>\n",
       "<span style=\"color: #008000; text-decoration-color: #008000\">of the comparison \\ndepends on the objectives of a model, and might include an assessment of the accuracy of </span>\n",
       "<span style=\"color: #008000; text-decoration-color: #008000\">\\nestimates or forecasts, an evaluation of rank-ordering ability, or other appropriate tests. In \\nall cases, such </span>\n",
       "<span style=\"color: #008000; text-decoration-color: #008000\">comparisons help to evaluate model performance, by establishing expected \\nranges for those actual outcomes in </span>\n",
       "<span style=\"color: #008000; text-decoration-color: #008000\">relation to the intended objectives and assessing the \\nreasons for observed variation between the two. If outcomes</span>\n",
       "<span style=\"color: #008000; text-decoration-color: #008000\">analysis produces evidence \\nof poor performance, the bank should take action to address those issues. Outcomes </span>\n",
       "<span style=\"color: #008000; text-decoration-color: #008000\">\\nanalysis typically relies on statistical tests or other quantitative measures. It can also [Page Break] \\n\\nPage </span>\n",
       "<span style=\"color: #008000; text-decoration-color: #008000\">14 include expert judgment to check the intuition behind the outcomes and confirm that the \\nresults make sense. </span>\n",
       "<span style=\"color: #008000; text-decoration-color: #008000\">When a model itself relies on expert judgment, quantitative outcomes \\nanalysis helps to evaluate the quality of </span>\n",
       "<span style=\"color: #008000; text-decoration-color: #008000\">that judgment. Outcomes analysis should be \\nconducted on an ongoing basis to test whether the model continues to </span>\n",
       "<span style=\"color: #008000; text-decoration-color: #008000\">perform in line \\nwith design objectives and business uses. \\nA variety of quantitative and qualitative testing and</span>\n",
       "<span style=\"color: #008000; text-decoration-color: #008000\">analytical techniques can be used in \\noutcomes analysis. The choice of technique should be based on the model's </span>\n",
       "<span style=\"color: #008000; text-decoration-color: #008000\">\\nmethodology, its complexity, data availability, and the magnitude of potential model risk \\nto the bank. Outcomes</span>\n",
       "<span style=\"color: #008000; text-decoration-color: #008000\">analysis should involve a range of tests because any individual test\"</span>,\n",
       "      <span style=\"color: #008000; text-decoration-color: #008000\">\"metadata\"</span>: <span style=\"font-weight: bold\">{</span>\n",
       "        <span style=\"color: #008000; text-decoration-color: #008000\">\"section_title\"</span>: <span style=\"color: #008000; text-decoration-color: #008000\">\"V. Model Validation\"</span>,\n",
       "        <span style=\"color: #008000; text-decoration-color: #008000\">\"page_label\"</span>: <span style=\"color: #008000; text-decoration-color: #008000\">\"9\"</span>,\n",
       "        <span style=\"color: #008000; text-decoration-color: #008000\">\"page_index\"</span>: <span style=\"color: #008080; text-decoration-color: #008080; font-weight: bold\">8</span>,\n",
       "        <span style=\"color: #008000; text-decoration-color: #008000\">\"parent_section\"</span>: <span style=\"color: #008000; text-decoration-color: #008000\">\"Contents\"</span>,\n",
       "        <span style=\"color: #008000; text-decoration-color: #008000\">\"file\"</span>: <span style=\"color: #008000; text-decoration-color: #008000\">\"sr1107a1.pdf\"</span>,\n",
       "        <span style=\"color: #008000; text-decoration-color: #008000\">\"doc_id\"</span>: <span style=\"color: #008000; text-decoration-color: #008000\">\"b69dc55f-91ec-4798-bd79-2ec28d30e17e\"</span>\n",
       "      <span style=\"font-weight: bold\">}</span>,\n",
       "      <span style=\"color: #008000; text-decoration-color: #008000\">\"type\"</span>: <span style=\"color: #008000; text-decoration-color: #008000\">\"Document\"</span>\n",
       "    <span style=\"font-weight: bold\">}</span>\n",
       "  <span style=\"font-weight: bold\">}</span>,\n",
       "  <span style=\"font-weight: bold\">{</span>\n",
       "    <span style=\"color: #008000; text-decoration-color: #008000\">\"lc\"</span>: <span style=\"color: #008080; text-decoration-color: #008080; font-weight: bold\">1</span>,\n",
       "    <span style=\"color: #008000; text-decoration-color: #008000\">\"type\"</span>: <span style=\"color: #008000; text-decoration-color: #008000\">\"constructor\"</span>,\n",
       "    <span style=\"color: #008000; text-decoration-color: #008000\">\"id\"</span>: <span style=\"font-weight: bold\">[</span>\n",
       "      <span style=\"color: #008000; text-decoration-color: #008000\">\"langchain\"</span>,\n",
       "      <span style=\"color: #008000; text-decoration-color: #008000\">\"schema\"</span>,\n",
       "      <span style=\"color: #008000; text-decoration-color: #008000\">\"document\"</span>,\n",
       "      <span style=\"color: #008000; text-decoration-color: #008000\">\"Document\"</span>\n",
       "    <span style=\"font-weight: bold\">]</span>,\n",
       "    <span style=\"color: #008000; text-decoration-color: #008000\">\"kwargs\"</span>: <span style=\"font-weight: bold\">{</span>\n",
       "      <span style=\"color: #008000; text-decoration-color: #008000\">\"page_content\"</span>: <span style=\"color: #008000; text-decoration-color: #008000\">\"\\u2022 Evaluation of conceptual soundness, including developmental evidence \\n\\u2022 Ongoing</span>\n",
       "<span style=\"color: #008000; text-decoration-color: #008000\">monitoring, including process verification and benchmarking \\n\\u2022 Outcomes analysis, including back-testing \\n1.</span>\n",
       "<span style=\"color: #008000; text-decoration-color: #008000\">Evaluation of Conceptual Soundness \\nThis element involves assessing the quality of the model design and </span>\n",
       "<span style=\"color: #008000; text-decoration-color: #008000\">construction. It \\nentails review of documentation and empirical evidence supporting the methods used and </span>\n",
       "<span style=\"color: #008000; text-decoration-color: #008000\">\\nvariables selected for the model. Documentation and testing should convey an \\nunderstanding of model limitations</span>\n",
       "<span style=\"color: #008000; text-decoration-color: #008000\">and assumptions. Validation should ensure that \\njudgment exercised in model design and construction is well </span>\n",
       "<span style=\"color: #008000; text-decoration-color: #008000\">informed, carefully \\nconsidered, and consistent with published research and with sound industry practice. </span>\n",
       "<span style=\"color: #008000; text-decoration-color: #008000\">\\nDevelopmental evidence should be reviewed before a model goes into use and also as \\npart of the ongoing </span>\n",
       "<span style=\"color: #008000; text-decoration-color: #008000\">validation process, in particular whenever there is a material change \\nin the model. \\nA sound development process</span>\n",
       "<span style=\"color: #008000; text-decoration-color: #008000\">will produce documented evidence in support of all model \\nchoices, including the overall theoretical construction,</span>\n",
       "<span style=\"color: #008000; text-decoration-color: #008000\">key assumptions, data, and \\nspecific mathematical calculations, as mentioned in Section IV. As part of model </span>\n",
       "<span style=\"color: #008000; text-decoration-color: #008000\">\\nvalidation, those model aspects should be subjected to critical analysis by both evaluating \\nthe quality and </span>\n",
       "<span style=\"color: #008000; text-decoration-color: #008000\">extent of developmental evidence and conducting additional analysis and \\ntesting as necessary. Comparison to </span>\n",
       "<span style=\"color: #008000; text-decoration-color: #008000\">alternative theories and approaches should be \\nincluded. Key assumptions and the choice of variables should be </span>\n",
       "<span style=\"color: #008000; text-decoration-color: #008000\">assessed, with analysis \\nof their impact on model outputs and particular focus on any potential limitations. The </span>\n",
       "<span style=\"color: #008000; text-decoration-color: #008000\">\\nrelevance of the data used to build the model should be evaluated to ensure that it is \\nreasonably </span>\n",
       "<span style=\"color: #008000; text-decoration-color: #008000\">representative of the bank's portfolio or market conditions, depending on the \\ntype of model. This is an </span>\n",
       "<span style=\"color: #008000; text-decoration-color: #008000\">especially important exercise when a bank uses external data or \\nthe model is used for new products or </span>\n",
       "<span style=\"color: #008000; text-decoration-color: #008000\">activities.\"</span>,\n",
       "      <span style=\"color: #008000; text-decoration-color: #008000\">\"metadata\"</span>: <span style=\"font-weight: bold\">{</span>\n",
       "        <span style=\"color: #008000; text-decoration-color: #008000\">\"section_title\"</span>: <span style=\"color: #008000; text-decoration-color: #008000\">\"V. Model Validation\"</span>,\n",
       "        <span style=\"color: #008000; text-decoration-color: #008000\">\"page_label\"</span>: <span style=\"color: #008000; text-decoration-color: #008000\">\"9\"</span>,\n",
       "        <span style=\"color: #008000; text-decoration-color: #008000\">\"page_index\"</span>: <span style=\"color: #008080; text-decoration-color: #008080; font-weight: bold\">8</span>,\n",
       "        <span style=\"color: #008000; text-decoration-color: #008000\">\"parent_section\"</span>: <span style=\"color: #008000; text-decoration-color: #008000\">\"Contents\"</span>,\n",
       "        <span style=\"color: #008000; text-decoration-color: #008000\">\"file\"</span>: <span style=\"color: #008000; text-decoration-color: #008000\">\"sr1107a1.pdf\"</span>,\n",
       "        <span style=\"color: #008000; text-decoration-color: #008000\">\"doc_id\"</span>: <span style=\"color: #008000; text-decoration-color: #008000\">\"b69dc55f-91ec-4798-bd79-2ec28d30e17e\"</span>\n",
       "      <span style=\"font-weight: bold\">}</span>,\n",
       "      <span style=\"color: #008000; text-decoration-color: #008000\">\"type\"</span>: <span style=\"color: #008000; text-decoration-color: #008000\">\"Document\"</span>\n",
       "    <span style=\"font-weight: bold\">}</span>\n",
       "  <span style=\"font-weight: bold\">}</span>\n",
       "<span style=\"font-weight: bold\">]</span>\n",
       "</pre>\n"
      ],
      "text/plain": [
       "\u001b[1m[\u001b[0m\n",
       "  \u001b[1m{\u001b[0m\n",
       "    \u001b[32m\"lc\"\u001b[0m: \u001b[1;36m1\u001b[0m,\n",
       "    \u001b[32m\"type\"\u001b[0m: \u001b[32m\"constructor\"\u001b[0m,\n",
       "    \u001b[32m\"id\"\u001b[0m: \u001b[1m[\u001b[0m\n",
       "      \u001b[32m\"langchain\"\u001b[0m,\n",
       "      \u001b[32m\"schema\"\u001b[0m,\n",
       "      \u001b[32m\"document\"\u001b[0m,\n",
       "      \u001b[32m\"Document\"\u001b[0m\n",
       "    \u001b[1m]\u001b[0m,\n",
       "    \u001b[32m\"kwargs\"\u001b[0m: \u001b[1m{\u001b[0m\n",
       "      \u001b[32m\"page_content\"\u001b[0m: \u001b[32m\"necessarily indicate that the model is in error. The benchmark itself is an alternative \u001b[0m\n",
       "\u001b[32m\\nprediction, and the differences may be due to the different data or methods used. If the \\nmodel and the \u001b[0m\n",
       "\u001b[32mbenchmark match well, that is evidence in favor of the model, but it should \\nbe interpreted with caution so the \u001b[0m\n",
       "\u001b[32mbank does not get a false degree of comfort. \\n3. Outcomes Analysis \\nThe third core element of the validation \u001b[0m\n",
       "\u001b[32mprocess is outcomes analysis, a comparison of \\nmodel outputs to corresponding actual outcomes. The precise nature \u001b[0m\n",
       "\u001b[32mof the comparison \\ndepends on the objectives of a model, and might include an assessment of the accuracy of \u001b[0m\n",
       "\u001b[32m\\nestimates or forecasts, an evaluation of rank-ordering ability, or other appropriate tests. In \\nall cases, such \u001b[0m\n",
       "\u001b[32mcomparisons help to evaluate model performance, by establishing expected \\nranges for those actual outcomes in \u001b[0m\n",
       "\u001b[32mrelation to the intended objectives and assessing the \\nreasons for observed variation between the two. If outcomes\u001b[0m\n",
       "\u001b[32manalysis produces evidence \\nof poor performance, the bank should take action to address those issues. Outcomes \u001b[0m\n",
       "\u001b[32m\\nanalysis typically relies on statistical tests or other quantitative measures. It can also \u001b[0m\u001b[32m[\u001b[0m\u001b[32mPage Break\u001b[0m\u001b[32m]\u001b[0m\u001b[32m \\n\\nPage \u001b[0m\n",
       "\u001b[32m14 include expert judgment to check the intuition behind the outcomes and confirm that the \\nresults make sense. \u001b[0m\n",
       "\u001b[32mWhen a model itself relies on expert judgment, quantitative outcomes \\nanalysis helps to evaluate the quality of \u001b[0m\n",
       "\u001b[32mthat judgment. Outcomes analysis should be \\nconducted on an ongoing basis to test whether the model continues to \u001b[0m\n",
       "\u001b[32mperform in line \\nwith design objectives and business uses. \\nA variety of quantitative and qualitative testing and\u001b[0m\n",
       "\u001b[32manalytical techniques can be used in \\noutcomes analysis. The choice of technique should be based on the model's \u001b[0m\n",
       "\u001b[32m\\nmethodology, its complexity, data availability, and the magnitude of potential model risk \\nto the bank. Outcomes\u001b[0m\n",
       "\u001b[32manalysis should involve a range of tests because any individual test\"\u001b[0m,\n",
       "      \u001b[32m\"metadata\"\u001b[0m: \u001b[1m{\u001b[0m\n",
       "        \u001b[32m\"section_title\"\u001b[0m: \u001b[32m\"V. Model Validation\"\u001b[0m,\n",
       "        \u001b[32m\"page_label\"\u001b[0m: \u001b[32m\"9\"\u001b[0m,\n",
       "        \u001b[32m\"page_index\"\u001b[0m: \u001b[1;36m8\u001b[0m,\n",
       "        \u001b[32m\"parent_section\"\u001b[0m: \u001b[32m\"Contents\"\u001b[0m,\n",
       "        \u001b[32m\"file\"\u001b[0m: \u001b[32m\"sr1107a1.pdf\"\u001b[0m,\n",
       "        \u001b[32m\"doc_id\"\u001b[0m: \u001b[32m\"b69dc55f-91ec-4798-bd79-2ec28d30e17e\"\u001b[0m\n",
       "      \u001b[1m}\u001b[0m,\n",
       "      \u001b[32m\"type\"\u001b[0m: \u001b[32m\"Document\"\u001b[0m\n",
       "    \u001b[1m}\u001b[0m\n",
       "  \u001b[1m}\u001b[0m,\n",
       "  \u001b[1m{\u001b[0m\n",
       "    \u001b[32m\"lc\"\u001b[0m: \u001b[1;36m1\u001b[0m,\n",
       "    \u001b[32m\"type\"\u001b[0m: \u001b[32m\"constructor\"\u001b[0m,\n",
       "    \u001b[32m\"id\"\u001b[0m: \u001b[1m[\u001b[0m\n",
       "      \u001b[32m\"langchain\"\u001b[0m,\n",
       "      \u001b[32m\"schema\"\u001b[0m,\n",
       "      \u001b[32m\"document\"\u001b[0m,\n",
       "      \u001b[32m\"Document\"\u001b[0m\n",
       "    \u001b[1m]\u001b[0m,\n",
       "    \u001b[32m\"kwargs\"\u001b[0m: \u001b[1m{\u001b[0m\n",
       "      \u001b[32m\"page_content\"\u001b[0m: \u001b[32m\"\\u2022 Evaluation of conceptual soundness, including developmental evidence \\n\\u2022 Ongoing\u001b[0m\n",
       "\u001b[32mmonitoring, including process verification and benchmarking \\n\\u2022 Outcomes analysis, including back-testing \\n1.\u001b[0m\n",
       "\u001b[32mEvaluation of Conceptual Soundness \\nThis element involves assessing the quality of the model design and \u001b[0m\n",
       "\u001b[32mconstruction. It \\nentails review of documentation and empirical evidence supporting the methods used and \u001b[0m\n",
       "\u001b[32m\\nvariables selected for the model. Documentation and testing should convey an \\nunderstanding of model limitations\u001b[0m\n",
       "\u001b[32mand assumptions. Validation should ensure that \\njudgment exercised in model design and construction is well \u001b[0m\n",
       "\u001b[32minformed, carefully \\nconsidered, and consistent with published research and with sound industry practice. \u001b[0m\n",
       "\u001b[32m\\nDevelopmental evidence should be reviewed before a model goes into use and also as \\npart of the ongoing \u001b[0m\n",
       "\u001b[32mvalidation process, in particular whenever there is a material change \\nin the model. \\nA sound development process\u001b[0m\n",
       "\u001b[32mwill produce documented evidence in support of all model \\nchoices, including the overall theoretical construction,\u001b[0m\n",
       "\u001b[32mkey assumptions, data, and \\nspecific mathematical calculations, as mentioned in Section IV. As part of model \u001b[0m\n",
       "\u001b[32m\\nvalidation, those model aspects should be subjected to critical analysis by both evaluating \\nthe quality and \u001b[0m\n",
       "\u001b[32mextent of developmental evidence and conducting additional analysis and \\ntesting as necessary. Comparison to \u001b[0m\n",
       "\u001b[32malternative theories and approaches should be \\nincluded. Key assumptions and the choice of variables should be \u001b[0m\n",
       "\u001b[32massessed, with analysis \\nof their impact on model outputs and particular focus on any potential limitations. The \u001b[0m\n",
       "\u001b[32m\\nrelevance of the data used to build the model should be evaluated to ensure that it is \\nreasonably \u001b[0m\n",
       "\u001b[32mrepresentative of the bank's portfolio or market conditions, depending on the \\ntype of model. This is an \u001b[0m\n",
       "\u001b[32mespecially important exercise when a bank uses external data or \\nthe model is used for new products or \u001b[0m\n",
       "\u001b[32mactivities.\"\u001b[0m,\n",
       "      \u001b[32m\"metadata\"\u001b[0m: \u001b[1m{\u001b[0m\n",
       "        \u001b[32m\"section_title\"\u001b[0m: \u001b[32m\"V. Model Validation\"\u001b[0m,\n",
       "        \u001b[32m\"page_label\"\u001b[0m: \u001b[32m\"9\"\u001b[0m,\n",
       "        \u001b[32m\"page_index\"\u001b[0m: \u001b[1;36m8\u001b[0m,\n",
       "        \u001b[32m\"parent_section\"\u001b[0m: \u001b[32m\"Contents\"\u001b[0m,\n",
       "        \u001b[32m\"file\"\u001b[0m: \u001b[32m\"sr1107a1.pdf\"\u001b[0m,\n",
       "        \u001b[32m\"doc_id\"\u001b[0m: \u001b[32m\"b69dc55f-91ec-4798-bd79-2ec28d30e17e\"\u001b[0m\n",
       "      \u001b[1m}\u001b[0m,\n",
       "      \u001b[32m\"type\"\u001b[0m: \u001b[32m\"Document\"\u001b[0m\n",
       "    \u001b[1m}\u001b[0m\n",
       "  \u001b[1m}\u001b[0m\n",
       "\u001b[1m]\u001b[0m\n"
      ]
     },
     "metadata": {},
     "output_type": "display_data"
    }
   ],
   "source": [
    "query = \"What are the acceptable model evaluation techniques?\"\n",
    "\n",
    "# filter on a specific document\n",
    "pre_filter = {\"file\": \"sr1107a1.pdf\"}\n",
    "\n",
    "# Pre-filter results\n",
    "results = vector_db.similarity_search(\n",
    "    query, \n",
    "    fetch_k=2,\n",
    "    filter=pre_filter   \n",
    ")\n",
    "\n",
    "rprint(dumps(results, pretty=True))"
   ]
  },
  {
   "cell_type": "markdown",
   "metadata": {},
   "source": [
    "#### Spaces - similarity or distance measures\n",
    "\n",
    "When we created the vector store above we sepcified cosine similarity `DistanceStrategy.COSINE` as our distance metric. This is one of the more commonly used metrics, however there are other options as well:\n",
    "\n",
    "**Cosine similarity** – The cosine of the angle between two vectors in a vector space.\n",
    "\n",
    "**Euclidean distance** – The straight-line distance between points.\n",
    "\n",
    "**L1 (Manhattan) distance** – The sum of the differences of all of the vector components. L1 distance measures how many orthogonal city blocks you need to traverse from point A to point B.\n",
    "\n",
    "**L-infinity (chessboard) distance** – The number of moves a King would make on an n-dimensional chessboard. It’s different than Euclidean distance on the diagonals—a diagonal step on a 2-dimensional chessboard is 1.41 Euclidean units away, but 2 L-infinity units away.\n",
    "\n",
    "**Inner product** – The product of the magnitudes of two vectors and the cosine of the angle between them. Usually used for natural language processing (NLP) vector similarity.\n",
    "\n",
    "We can specify the distance measure in the `space_type` parameter when we load our documents as seen below."
   ]
  },
  {
   "cell_type": "markdown",
   "metadata": {},
   "source": [
    "### Maximum marginal relevance search (MMR)\n",
    "If you’d like to look up for some similar documents, but you’d also like to receive diverse results, MMR is a method you should consider. Maximal marginal relevance optimizes for similarity to query AND diversity among selected documents. It does this by finding the examples with the embeddings that have the greatest cosine similarity with the inputs, and then iteratively adding them while penalizing them for closeness to already selected examples."
   ]
  },
  {
   "cell_type": "code",
   "execution_count": 15,
   "metadata": {
    "tags": []
   },
   "outputs": [
    {
     "data": {
      "text/html": [
       "<pre style=\"white-space:pre;overflow-x:auto;line-height:normal;font-family:Menlo,'DejaVu Sans Mono',consolas,'Courier New',monospace\"><span style=\"font-weight: bold\">[</span>\n",
       "  <span style=\"font-weight: bold\">{</span>\n",
       "    <span style=\"color: #008000; text-decoration-color: #008000\">\"lc\"</span>: <span style=\"color: #008080; text-decoration-color: #008080; font-weight: bold\">1</span>,\n",
       "    <span style=\"color: #008000; text-decoration-color: #008000\">\"type\"</span>: <span style=\"color: #008000; text-decoration-color: #008000\">\"constructor\"</span>,\n",
       "    <span style=\"color: #008000; text-decoration-color: #008000\">\"id\"</span>: <span style=\"font-weight: bold\">[</span>\n",
       "      <span style=\"color: #008000; text-decoration-color: #008000\">\"langchain\"</span>,\n",
       "      <span style=\"color: #008000; text-decoration-color: #008000\">\"schema\"</span>,\n",
       "      <span style=\"color: #008000; text-decoration-color: #008000\">\"document\"</span>,\n",
       "      <span style=\"color: #008000; text-decoration-color: #008000\">\"Document\"</span>\n",
       "    <span style=\"font-weight: bold\">]</span>,\n",
       "    <span style=\"color: #008000; text-decoration-color: #008000\">\"kwargs\"</span>: <span style=\"font-weight: bold\">{</span>\n",
       "      <span style=\"color: #008000; text-decoration-color: #008000\">\"page_content\"</span>: <span style=\"color: #008000; text-decoration-color: #008000\">\"necessarily indicate that the model is in error. The benchmark itself is an alternative </span>\n",
       "<span style=\"color: #008000; text-decoration-color: #008000\">\\nprediction, and the differences may be due to the different data or methods used. If the \\nmodel and the </span>\n",
       "<span style=\"color: #008000; text-decoration-color: #008000\">benchmark match well, that is evidence in favor of the model, but it should \\nbe interpreted with caution so the </span>\n",
       "<span style=\"color: #008000; text-decoration-color: #008000\">bank does not get a false degree of comfort. \\n3. Outcomes Analysis \\nThe third core element of the validation </span>\n",
       "<span style=\"color: #008000; text-decoration-color: #008000\">process is outcomes analysis, a comparison of \\nmodel outputs to corresponding actual outcomes. The precise nature </span>\n",
       "<span style=\"color: #008000; text-decoration-color: #008000\">of the comparison \\ndepends on the objectives of a model, and might include an assessment of the accuracy of </span>\n",
       "<span style=\"color: #008000; text-decoration-color: #008000\">\\nestimates or forecasts, an evaluation of rank-ordering ability, or other appropriate tests. In \\nall cases, such </span>\n",
       "<span style=\"color: #008000; text-decoration-color: #008000\">comparisons help to evaluate model performance, by establishing expected \\nranges for those actual outcomes in </span>\n",
       "<span style=\"color: #008000; text-decoration-color: #008000\">relation to the intended objectives and assessing the \\nreasons for observed variation between the two. If outcomes</span>\n",
       "<span style=\"color: #008000; text-decoration-color: #008000\">analysis produces evidence \\nof poor performance, the bank should take action to address those issues. Outcomes </span>\n",
       "<span style=\"color: #008000; text-decoration-color: #008000\">\\nanalysis typically relies on statistical tests or other quantitative measures. It can also [Page Break] \\n\\nPage </span>\n",
       "<span style=\"color: #008000; text-decoration-color: #008000\">14 include expert judgment to check the intuition behind the outcomes and confirm that the \\nresults make sense. </span>\n",
       "<span style=\"color: #008000; text-decoration-color: #008000\">When a model itself relies on expert judgment, quantitative outcomes \\nanalysis helps to evaluate the quality of </span>\n",
       "<span style=\"color: #008000; text-decoration-color: #008000\">that judgment. Outcomes analysis should be \\nconducted on an ongoing basis to test whether the model continues to </span>\n",
       "<span style=\"color: #008000; text-decoration-color: #008000\">perform in line \\nwith design objectives and business uses. \\nA variety of quantitative and qualitative testing and</span>\n",
       "<span style=\"color: #008000; text-decoration-color: #008000\">analytical techniques can be used in \\noutcomes analysis. The choice of technique should be based on the model's </span>\n",
       "<span style=\"color: #008000; text-decoration-color: #008000\">\\nmethodology, its complexity, data availability, and the magnitude of potential model risk \\nto the bank. Outcomes</span>\n",
       "<span style=\"color: #008000; text-decoration-color: #008000\">analysis should involve a range of tests because any individual test\"</span>,\n",
       "      <span style=\"color: #008000; text-decoration-color: #008000\">\"metadata\"</span>: <span style=\"font-weight: bold\">{</span>\n",
       "        <span style=\"color: #008000; text-decoration-color: #008000\">\"section_title\"</span>: <span style=\"color: #008000; text-decoration-color: #008000\">\"V. Model Validation\"</span>,\n",
       "        <span style=\"color: #008000; text-decoration-color: #008000\">\"page_label\"</span>: <span style=\"color: #008000; text-decoration-color: #008000\">\"9\"</span>,\n",
       "        <span style=\"color: #008000; text-decoration-color: #008000\">\"page_index\"</span>: <span style=\"color: #008080; text-decoration-color: #008080; font-weight: bold\">8</span>,\n",
       "        <span style=\"color: #008000; text-decoration-color: #008000\">\"parent_section\"</span>: <span style=\"color: #008000; text-decoration-color: #008000\">\"Contents\"</span>,\n",
       "        <span style=\"color: #008000; text-decoration-color: #008000\">\"file\"</span>: <span style=\"color: #008000; text-decoration-color: #008000\">\"sr1107a1.pdf\"</span>,\n",
       "        <span style=\"color: #008000; text-decoration-color: #008000\">\"doc_id\"</span>: <span style=\"color: #008000; text-decoration-color: #008000\">\"b69dc55f-91ec-4798-bd79-2ec28d30e17e\"</span>\n",
       "      <span style=\"font-weight: bold\">}</span>,\n",
       "      <span style=\"color: #008000; text-decoration-color: #008000\">\"type\"</span>: <span style=\"color: #008000; text-decoration-color: #008000\">\"Document\"</span>\n",
       "    <span style=\"font-weight: bold\">}</span>\n",
       "  <span style=\"font-weight: bold\">}</span>,\n",
       "  <span style=\"font-weight: bold\">{</span>\n",
       "    <span style=\"color: #008000; text-decoration-color: #008000\">\"lc\"</span>: <span style=\"color: #008080; text-decoration-color: #008080; font-weight: bold\">1</span>,\n",
       "    <span style=\"color: #008000; text-decoration-color: #008000\">\"type\"</span>: <span style=\"color: #008000; text-decoration-color: #008000\">\"constructor\"</span>,\n",
       "    <span style=\"color: #008000; text-decoration-color: #008000\">\"id\"</span>: <span style=\"font-weight: bold\">[</span>\n",
       "      <span style=\"color: #008000; text-decoration-color: #008000\">\"langchain\"</span>,\n",
       "      <span style=\"color: #008000; text-decoration-color: #008000\">\"schema\"</span>,\n",
       "      <span style=\"color: #008000; text-decoration-color: #008000\">\"document\"</span>,\n",
       "      <span style=\"color: #008000; text-decoration-color: #008000\">\"Document\"</span>\n",
       "    <span style=\"font-weight: bold\">]</span>,\n",
       "    <span style=\"color: #008000; text-decoration-color: #008000\">\"kwargs\"</span>: <span style=\"font-weight: bold\">{</span>\n",
       "      <span style=\"color: #008000; text-decoration-color: #008000\">\"page_content\"</span>: <span style=\"color: #008000; text-decoration-color: #008000\">\"of their impact on model outputs and particular focus on any potentia l limitations. The </span>\n",
       "<span style=\"color: #008000; text-decoration-color: #008000\">relevance of \\nthe data used to build the model should be evaluated to ensure that it is reasonably representative </span>\n",
       "<span style=\"color: #008000; text-decoration-color: #008000\">of \\nthe bank\\u2019s portfolio or market conditions, depending on the type of model. This is an especially </span>\n",
       "<span style=\"color: #008000; text-decoration-color: #008000\">\\nimportant exercise when a bank uses external data or the model is used for new products or \\nactivities. </span>\n",
       "<span style=\"color: #008000; text-decoration-color: #008000\">\\nEvaluation of conceptual soundness generally includes such activities as the following , as \\nappropriate: </span>\n",
       "<span style=\"color: #008000; text-decoration-color: #008000\">\\n\\u2022 Evaluating the quality and extent of developmental evidence and conducting additional \\ntesting as </span>\n",
       "<span style=\"color: #008000; text-decoration-color: #008000\">necessary . \\n\\u2022 Assessing whether the model achieve s the intended purpose. \\n\\u2022 Comparing alternative </span>\n",
       "<span style=\"color: #008000; text-decoration-color: #008000\">model theories and approaches. \\n\\u2022 Justifying the choice of a particular model theory and appr oach . \\n\\u2022</span>\n",
       "<span style=\"color: #008000; text-decoration-color: #008000\">Assessing key assumptions and varia bles, with analysis of their impact on model outputs \\nand particular focus on </span>\n",
       "<span style=\"color: #008000; text-decoration-color: #008000\">any potential limitations, including model transparency and explainability for AI approaches. \\n\\u2022 Evaluating </span>\n",
       "<span style=\"color: #008000; text-decoration-color: #008000\">the relevance of the data used to build the model to validate that data are \\nreasonably representative of the </span>\n",
       "<span style=\"color: #008000; text-decoration-color: #008000\">model\\u2019s inputs, such as the bank\\u2019s portfolio , account \\nactivity, or market conditions , depending on </span>\n",
       "<span style=\"color: #008000; text-decoration-color: #008000\">the type of model. This is particularly \\nimportant when a bank uses external data or the model is used for new </span>\n",
       "<span style=\"color: #008000; text-decoration-color: #008000\">activities. \\n\\u2022 Sensitivity analysis and stress testing . \\nAn evaluation of conceptual soundness may be </span>\n",
       "<span style=\"color: #008000; text-decoration-color: #008000\">difficult for some complex models (e.g., those that use AI approaches ) because the underlying theory and logic may</span>\n",
       "<span style=\"color: #008000; text-decoration-color: #008000\">not be \\ntransparent. Transparency and explainability are key considerations that are typically \\nevaluated as part</span>\n",
       "<span style=\"color: #008000; text-decoration-color: #008000\">of effective risk management regarding the use of complex models . The \\nappropriate level of explainability of a </span>\n",
       "<span style=\"color: #008000; text-decoration-color: #008000\">model outcome depends on the specific use and level\"</span>,\n",
       "      <span style=\"color: #008000; text-decoration-color: #008000\">\"metadata\"</span>: <span style=\"font-weight: bold\">{</span>\n",
       "        <span style=\"color: #008000; text-decoration-color: #008000\">\"section_title\"</span>: <span style=\"color: #008000; text-decoration-color: #008000\">\"Evaluation of Conceptual Soundness\"</span>,\n",
       "        <span style=\"color: #008000; text-decoration-color: #008000\">\"page_label\"</span>: <span style=\"color: #008000; text-decoration-color: #008000\">\"39\"</span>,\n",
       "        <span style=\"color: #008000; text-decoration-color: #008000\">\"page_index\"</span>: <span style=\"color: #008080; text-decoration-color: #008080; font-weight: bold\">41</span>,\n",
       "        <span style=\"color: #008000; text-decoration-color: #008000\">\"parent_section\"</span>: <span style=\"color: #008000; text-decoration-color: #008000\">\"Model Validation\"</span>,\n",
       "        <span style=\"color: #008000; text-decoration-color: #008000\">\"file\"</span>: <span style=\"color: #008000; text-decoration-color: #008000\">\"pub-ch-model-risk.pdf\"</span>,\n",
       "        <span style=\"color: #008000; text-decoration-color: #008000\">\"doc_id\"</span>: <span style=\"color: #008000; text-decoration-color: #008000\">\"ee636270-6f2a-4f8e-98c2-11366c4f17ea\"</span>\n",
       "      <span style=\"font-weight: bold\">}</span>,\n",
       "      <span style=\"color: #008000; text-decoration-color: #008000\">\"type\"</span>: <span style=\"color: #008000; text-decoration-color: #008000\">\"Document\"</span>\n",
       "    <span style=\"font-weight: bold\">}</span>\n",
       "  <span style=\"font-weight: bold\">}</span>,\n",
       "  <span style=\"font-weight: bold\">{</span>\n",
       "    <span style=\"color: #008000; text-decoration-color: #008000\">\"lc\"</span>: <span style=\"color: #008080; text-decoration-color: #008080; font-weight: bold\">1</span>,\n",
       "    <span style=\"color: #008000; text-decoration-color: #008000\">\"type\"</span>: <span style=\"color: #008000; text-decoration-color: #008000\">\"constructor\"</span>,\n",
       "    <span style=\"color: #008000; text-decoration-color: #008000\">\"id\"</span>: <span style=\"font-weight: bold\">[</span>\n",
       "      <span style=\"color: #008000; text-decoration-color: #008000\">\"langchain\"</span>,\n",
       "      <span style=\"color: #008000; text-decoration-color: #008000\">\"schema\"</span>,\n",
       "      <span style=\"color: #008000; text-decoration-color: #008000\">\"document\"</span>,\n",
       "      <span style=\"color: #008000; text-decoration-color: #008000\">\"Document\"</span>\n",
       "    <span style=\"font-weight: bold\">]</span>,\n",
       "    <span style=\"color: #008000; text-decoration-color: #008000\">\"kwargs\"</span>: <span style=\"font-weight: bold\">{</span>\n",
       "      <span style=\"color: #008000; text-decoration-color: #008000\">\"page_content\"</span>: <span style=\"color: #008000; text-decoration-color: #008000\">\"variety of market conditions, including scenarios that are outside the range of ordinary </span>\n",
       "<span style=\"color: #008000; text-decoration-color: #008000\">\\nexpectations, and should encompass the variety of products or applications for which the model is \\nintended. </span>\n",
       "<span style=\"color: #008000; text-decoration-color: #008000\">Extreme values for inputs should be evaluated to identify any boundaries of model \\neffectiveness. The impact of </span>\n",
       "<span style=\"color: #008000; text-decoration-color: #008000\">model results on other models that rely on those results as inputs \\nshould also be evalu ated. Included in testing</span>\n",
       "<span style=\"color: #008000; text-decoration-color: #008000\">activities should be the purpose, design, and execution \\nof test plans, summary results with commentary and </span>\n",
       "<span style=\"color: #008000; text-decoration-color: #008000\">evaluation, and detailed analysis of informative samples.\"</span>,\n",
       "      <span style=\"color: #008000; text-decoration-color: #008000\">\"metadata\"</span>: <span style=\"font-weight: bold\">{</span>\n",
       "        <span style=\"color: #008000; text-decoration-color: #008000\">\"section_title\"</span>: <span style=\"color: #008000; text-decoration-color: #008000\">\"Model Development and Implementation\"</span>,\n",
       "        <span style=\"color: #008000; text-decoration-color: #008000\">\"page_label\"</span>: <span style=\"color: #008000; text-decoration-color: #008000\">\"31\"</span>,\n",
       "        <span style=\"color: #008000; text-decoration-color: #008000\">\"page_index\"</span>: <span style=\"color: #008080; text-decoration-color: #008080; font-weight: bold\">33</span>,\n",
       "        <span style=\"color: #008000; text-decoration-color: #008000\">\"parent_section\"</span>: <span style=\"color: #008000; text-decoration-color: #008000\">\"Model Development, Implementation, and Use\"</span>,\n",
       "        <span style=\"color: #008000; text-decoration-color: #008000\">\"file\"</span>: <span style=\"color: #008000; text-decoration-color: #008000\">\"pub-ch-model-risk.pdf\"</span>,\n",
       "        <span style=\"color: #008000; text-decoration-color: #008000\">\"doc_id\"</span>: <span style=\"color: #008000; text-decoration-color: #008000\">\"7d47edec-279f-4766-8c1a-65344b9cad84\"</span>\n",
       "      <span style=\"font-weight: bold\">}</span>,\n",
       "      <span style=\"color: #008000; text-decoration-color: #008000\">\"type\"</span>: <span style=\"color: #008000; text-decoration-color: #008000\">\"Document\"</span>\n",
       "    <span style=\"font-weight: bold\">}</span>\n",
       "  <span style=\"font-weight: bold\">}</span>\n",
       "<span style=\"font-weight: bold\">]</span>\n",
       "</pre>\n"
      ],
      "text/plain": [
       "\u001b[1m[\u001b[0m\n",
       "  \u001b[1m{\u001b[0m\n",
       "    \u001b[32m\"lc\"\u001b[0m: \u001b[1;36m1\u001b[0m,\n",
       "    \u001b[32m\"type\"\u001b[0m: \u001b[32m\"constructor\"\u001b[0m,\n",
       "    \u001b[32m\"id\"\u001b[0m: \u001b[1m[\u001b[0m\n",
       "      \u001b[32m\"langchain\"\u001b[0m,\n",
       "      \u001b[32m\"schema\"\u001b[0m,\n",
       "      \u001b[32m\"document\"\u001b[0m,\n",
       "      \u001b[32m\"Document\"\u001b[0m\n",
       "    \u001b[1m]\u001b[0m,\n",
       "    \u001b[32m\"kwargs\"\u001b[0m: \u001b[1m{\u001b[0m\n",
       "      \u001b[32m\"page_content\"\u001b[0m: \u001b[32m\"necessarily indicate that the model is in error. The benchmark itself is an alternative \u001b[0m\n",
       "\u001b[32m\\nprediction, and the differences may be due to the different data or methods used. If the \\nmodel and the \u001b[0m\n",
       "\u001b[32mbenchmark match well, that is evidence in favor of the model, but it should \\nbe interpreted with caution so the \u001b[0m\n",
       "\u001b[32mbank does not get a false degree of comfort. \\n3. Outcomes Analysis \\nThe third core element of the validation \u001b[0m\n",
       "\u001b[32mprocess is outcomes analysis, a comparison of \\nmodel outputs to corresponding actual outcomes. The precise nature \u001b[0m\n",
       "\u001b[32mof the comparison \\ndepends on the objectives of a model, and might include an assessment of the accuracy of \u001b[0m\n",
       "\u001b[32m\\nestimates or forecasts, an evaluation of rank-ordering ability, or other appropriate tests. In \\nall cases, such \u001b[0m\n",
       "\u001b[32mcomparisons help to evaluate model performance, by establishing expected \\nranges for those actual outcomes in \u001b[0m\n",
       "\u001b[32mrelation to the intended objectives and assessing the \\nreasons for observed variation between the two. If outcomes\u001b[0m\n",
       "\u001b[32manalysis produces evidence \\nof poor performance, the bank should take action to address those issues. Outcomes \u001b[0m\n",
       "\u001b[32m\\nanalysis typically relies on statistical tests or other quantitative measures. It can also \u001b[0m\u001b[32m[\u001b[0m\u001b[32mPage Break\u001b[0m\u001b[32m]\u001b[0m\u001b[32m \\n\\nPage \u001b[0m\n",
       "\u001b[32m14 include expert judgment to check the intuition behind the outcomes and confirm that the \\nresults make sense. \u001b[0m\n",
       "\u001b[32mWhen a model itself relies on expert judgment, quantitative outcomes \\nanalysis helps to evaluate the quality of \u001b[0m\n",
       "\u001b[32mthat judgment. Outcomes analysis should be \\nconducted on an ongoing basis to test whether the model continues to \u001b[0m\n",
       "\u001b[32mperform in line \\nwith design objectives and business uses. \\nA variety of quantitative and qualitative testing and\u001b[0m\n",
       "\u001b[32manalytical techniques can be used in \\noutcomes analysis. The choice of technique should be based on the model's \u001b[0m\n",
       "\u001b[32m\\nmethodology, its complexity, data availability, and the magnitude of potential model risk \\nto the bank. Outcomes\u001b[0m\n",
       "\u001b[32manalysis should involve a range of tests because any individual test\"\u001b[0m,\n",
       "      \u001b[32m\"metadata\"\u001b[0m: \u001b[1m{\u001b[0m\n",
       "        \u001b[32m\"section_title\"\u001b[0m: \u001b[32m\"V. Model Validation\"\u001b[0m,\n",
       "        \u001b[32m\"page_label\"\u001b[0m: \u001b[32m\"9\"\u001b[0m,\n",
       "        \u001b[32m\"page_index\"\u001b[0m: \u001b[1;36m8\u001b[0m,\n",
       "        \u001b[32m\"parent_section\"\u001b[0m: \u001b[32m\"Contents\"\u001b[0m,\n",
       "        \u001b[32m\"file\"\u001b[0m: \u001b[32m\"sr1107a1.pdf\"\u001b[0m,\n",
       "        \u001b[32m\"doc_id\"\u001b[0m: \u001b[32m\"b69dc55f-91ec-4798-bd79-2ec28d30e17e\"\u001b[0m\n",
       "      \u001b[1m}\u001b[0m,\n",
       "      \u001b[32m\"type\"\u001b[0m: \u001b[32m\"Document\"\u001b[0m\n",
       "    \u001b[1m}\u001b[0m\n",
       "  \u001b[1m}\u001b[0m,\n",
       "  \u001b[1m{\u001b[0m\n",
       "    \u001b[32m\"lc\"\u001b[0m: \u001b[1;36m1\u001b[0m,\n",
       "    \u001b[32m\"type\"\u001b[0m: \u001b[32m\"constructor\"\u001b[0m,\n",
       "    \u001b[32m\"id\"\u001b[0m: \u001b[1m[\u001b[0m\n",
       "      \u001b[32m\"langchain\"\u001b[0m,\n",
       "      \u001b[32m\"schema\"\u001b[0m,\n",
       "      \u001b[32m\"document\"\u001b[0m,\n",
       "      \u001b[32m\"Document\"\u001b[0m\n",
       "    \u001b[1m]\u001b[0m,\n",
       "    \u001b[32m\"kwargs\"\u001b[0m: \u001b[1m{\u001b[0m\n",
       "      \u001b[32m\"page_content\"\u001b[0m: \u001b[32m\"of their impact on model outputs and particular focus on any potentia l limitations. The \u001b[0m\n",
       "\u001b[32mrelevance of \\nthe data used to build the model should be evaluated to ensure that it is reasonably representative \u001b[0m\n",
       "\u001b[32mof \\nthe bank\\u2019s portfolio or market conditions, depending on the type of model. This is an especially \u001b[0m\n",
       "\u001b[32m\\nimportant exercise when a bank uses external data or the model is used for new products or \\nactivities. \u001b[0m\n",
       "\u001b[32m\\nEvaluation of conceptual soundness generally includes such activities as the following , as \\nappropriate: \u001b[0m\n",
       "\u001b[32m\\n\\u2022 Evaluating the quality and extent of developmental evidence and conducting additional \\ntesting as \u001b[0m\n",
       "\u001b[32mnecessary . \\n\\u2022 Assessing whether the model achieve s the intended purpose. \\n\\u2022 Comparing alternative \u001b[0m\n",
       "\u001b[32mmodel theories and approaches. \\n\\u2022 Justifying the choice of a particular model theory and appr oach . \\n\\u2022\u001b[0m\n",
       "\u001b[32mAssessing key assumptions and varia bles, with analysis of their impact on model outputs \\nand particular focus on \u001b[0m\n",
       "\u001b[32many potential limitations, including model transparency and explainability for AI approaches. \\n\\u2022 Evaluating \u001b[0m\n",
       "\u001b[32mthe relevance of the data used to build the model to validate that data are \\nreasonably representative of the \u001b[0m\n",
       "\u001b[32mmodel\\u2019s inputs, such as the bank\\u2019s portfolio , account \\nactivity, or market conditions , depending on \u001b[0m\n",
       "\u001b[32mthe type of model. This is particularly \\nimportant when a bank uses external data or the model is used for new \u001b[0m\n",
       "\u001b[32mactivities. \\n\\u2022 Sensitivity analysis and stress testing . \\nAn evaluation of conceptual soundness may be \u001b[0m\n",
       "\u001b[32mdifficult for some complex models \u001b[0m\u001b[32m(\u001b[0m\u001b[32me.g., those that use AI approaches \u001b[0m\u001b[32m)\u001b[0m\u001b[32m because the underlying theory and logic may\u001b[0m\n",
       "\u001b[32mnot be \\ntransparent. Transparency and explainability are key considerations that are typically \\nevaluated as part\u001b[0m\n",
       "\u001b[32mof effective risk management regarding the use of complex models . The \\nappropriate level of explainability of a \u001b[0m\n",
       "\u001b[32mmodel outcome depends on the specific use and level\"\u001b[0m,\n",
       "      \u001b[32m\"metadata\"\u001b[0m: \u001b[1m{\u001b[0m\n",
       "        \u001b[32m\"section_title\"\u001b[0m: \u001b[32m\"Evaluation of Conceptual Soundness\"\u001b[0m,\n",
       "        \u001b[32m\"page_label\"\u001b[0m: \u001b[32m\"39\"\u001b[0m,\n",
       "        \u001b[32m\"page_index\"\u001b[0m: \u001b[1;36m41\u001b[0m,\n",
       "        \u001b[32m\"parent_section\"\u001b[0m: \u001b[32m\"Model Validation\"\u001b[0m,\n",
       "        \u001b[32m\"file\"\u001b[0m: \u001b[32m\"pub-ch-model-risk.pdf\"\u001b[0m,\n",
       "        \u001b[32m\"doc_id\"\u001b[0m: \u001b[32m\"ee636270-6f2a-4f8e-98c2-11366c4f17ea\"\u001b[0m\n",
       "      \u001b[1m}\u001b[0m,\n",
       "      \u001b[32m\"type\"\u001b[0m: \u001b[32m\"Document\"\u001b[0m\n",
       "    \u001b[1m}\u001b[0m\n",
       "  \u001b[1m}\u001b[0m,\n",
       "  \u001b[1m{\u001b[0m\n",
       "    \u001b[32m\"lc\"\u001b[0m: \u001b[1;36m1\u001b[0m,\n",
       "    \u001b[32m\"type\"\u001b[0m: \u001b[32m\"constructor\"\u001b[0m,\n",
       "    \u001b[32m\"id\"\u001b[0m: \u001b[1m[\u001b[0m\n",
       "      \u001b[32m\"langchain\"\u001b[0m,\n",
       "      \u001b[32m\"schema\"\u001b[0m,\n",
       "      \u001b[32m\"document\"\u001b[0m,\n",
       "      \u001b[32m\"Document\"\u001b[0m\n",
       "    \u001b[1m]\u001b[0m,\n",
       "    \u001b[32m\"kwargs\"\u001b[0m: \u001b[1m{\u001b[0m\n",
       "      \u001b[32m\"page_content\"\u001b[0m: \u001b[32m\"variety of market conditions, including scenarios that are outside the range of ordinary \u001b[0m\n",
       "\u001b[32m\\nexpectations, and should encompass the variety of products or applications for which the model is \\nintended. \u001b[0m\n",
       "\u001b[32mExtreme values for inputs should be evaluated to identify any boundaries of model \\neffectiveness. The impact of \u001b[0m\n",
       "\u001b[32mmodel results on other models that rely on those results as inputs \\nshould also be evalu ated. Included in testing\u001b[0m\n",
       "\u001b[32mactivities should be the purpose, design, and execution \\nof test plans, summary results with commentary and \u001b[0m\n",
       "\u001b[32mevaluation, and detailed analysis of informative samples.\"\u001b[0m,\n",
       "      \u001b[32m\"metadata\"\u001b[0m: \u001b[1m{\u001b[0m\n",
       "        \u001b[32m\"section_title\"\u001b[0m: \u001b[32m\"Model Development and Implementation\"\u001b[0m,\n",
       "        \u001b[32m\"page_label\"\u001b[0m: \u001b[32m\"31\"\u001b[0m,\n",
       "        \u001b[32m\"page_index\"\u001b[0m: \u001b[1;36m33\u001b[0m,\n",
       "        \u001b[32m\"parent_section\"\u001b[0m: \u001b[32m\"Model Development, Implementation, and Use\"\u001b[0m,\n",
       "        \u001b[32m\"file\"\u001b[0m: \u001b[32m\"pub-ch-model-risk.pdf\"\u001b[0m,\n",
       "        \u001b[32m\"doc_id\"\u001b[0m: \u001b[32m\"7d47edec-279f-4766-8c1a-65344b9cad84\"\u001b[0m\n",
       "      \u001b[1m}\u001b[0m,\n",
       "      \u001b[32m\"type\"\u001b[0m: \u001b[32m\"Document\"\u001b[0m\n",
       "    \u001b[1m}\u001b[0m\n",
       "  \u001b[1m}\u001b[0m\n",
       "\u001b[1m]\u001b[0m\n"
      ]
     },
     "metadata": {},
     "output_type": "display_data"
    }
   ],
   "source": [
    "# we fetch 10 results but then return the top 3 most diverse\n",
    "results = vector_db.max_marginal_relevance_search(query, k=3, fetch_k=10)\n",
    "\n",
    "rprint(dumps(results, pretty=True))"
   ]
  },
  {
   "cell_type": "markdown",
   "metadata": {},
   "source": [
    "\n",
    "## Parent Document Retrieval\n",
    "The queries above returned just the matching segments from the vector store. Now let's see what happens when we invoke the `ParentDocumentRetriever` that was defined earlier."
   ]
  },
  {
   "cell_type": "code",
   "execution_count": 16,
   "metadata": {
    "tags": []
   },
   "outputs": [
    {
     "name": "stderr",
     "output_type": "stream",
     "text": [
      "/opt/conda/lib/python3.10/site-packages/langchain_core/_api/deprecation.py:119: LangChainDeprecationWarning: The method `BaseRetriever.get_relevant_documents` was deprecated in langchain-core 0.1.46 and will be removed in 0.3.0. Use invoke instead.\n",
      "  warn_deprecated(\n"
     ]
    },
    {
     "data": {
      "text/html": [
       "<pre style=\"white-space:pre;overflow-x:auto;line-height:normal;font-family:Menlo,'DejaVu Sans Mono',consolas,'Courier New',monospace\">Vector search returned <span style=\"color: #008080; text-decoration-color: #008080; font-weight: bold\">10</span> segments while the parent retriever returned <span style=\"color: #008080; text-decoration-color: #008080; font-weight: bold\">6</span> sections\n",
       "</pre>\n"
      ],
      "text/plain": [
       "Vector search returned \u001b[1;36m10\u001b[0m segments while the parent retriever returned \u001b[1;36m6\u001b[0m sections\n"
      ]
     },
     "metadata": {},
     "output_type": "display_data"
    }
   ],
   "source": [
    "query = \"What are the acceptable model evaluation techniques?\"\n",
    "\n",
    "# search with just the vector store\n",
    "section_segments = vector_db.similarity_search(query, k=10)\n",
    "\n",
    "retriever.search_kwargs = {\"k\": 10}\n",
    "\n",
    "# search with the parent retriever\n",
    "full_sections = retriever.get_relevant_documents(\"What are the acceptable model evaluation techniques?\")\n",
    "\n",
    "rprint(f\"Vector search returned {len(section_segments)} segments while the parent retriever returned {len(full_sections)} sections\")"
   ]
  },
  {
   "cell_type": "markdown",
   "metadata": {},
   "source": [
    "In the above example, we set k=10 which should return 10 matches from the vector store. However the parent document retriever should return fewer documents as it will return the entire section that multiple returned chunks can belong to. "
   ]
  },
  {
   "cell_type": "markdown",
   "metadata": {},
   "source": [
    "## Orchestrating RAG using LangChain\n",
    "Now that we can query our vector database for documents, we can retrieve data from outside of a large language model's training data sources and augment our prompts by adding the relevant retrieved data in context.\n",
    "\n",
    "We can use LangChain to build applications that read data from stored internal documents and summarize them into conversational responses. We can create a Retrieval Augmented Generation (RAG) workflow that introduces new information to the language model during prompting. Implementing context-aware workflows like RAG reduces model hallucination and improves response accuracy."
   ]
  },
  {
   "cell_type": "markdown",
   "metadata": {},
   "source": [
    "### Single turn generative question answering\n",
    "\n",
    "Let's start with a simple example where given a user query we retrieve relevant documents from the vector store and use the retrieved documents as context to generate a response.\n",
    "\n",
    "We'll construct a prompt template that will take the user's question and the retrieved documents as context and generate a response."
   ]
  },
  {
   "cell_type": "code",
   "execution_count": 17,
   "metadata": {
    "tags": []
   },
   "outputs": [],
   "source": [
    "from langchain_core.output_parsers import StrOutputParser\n",
    "from langchain_core.prompts import ChatPromptTemplate\n",
    "from langchain_core.runnables import RunnableParallel, RunnablePassthrough\n",
    "\n",
    "template = \"\"\"Answer the question based only on the following context. \n",
    "If the context does not provide sufficient information to answer the question, politely indicate that you are unable to assist. \n",
    "Only answer questions related to model risk and model governance.\n",
    "\n",
    "<context>\n",
    "{context}\n",
    "</context>\n",
    "\n",
    "Question: {question}\n",
    "\"\"\"\n",
    "prompt = ChatPromptTemplate.from_template(template)\n",
    "output_parser = StrOutputParser()\n",
    "\n",
    "# in the first step we retrieve the context and pass through the input question\n",
    "setup_and_retrieval = RunnableParallel(\n",
    "    {\"context\": retriever, \"question\": RunnablePassthrough()}\n",
    "    \n",
    ")\n",
    "\n",
    "# In the subsequent steps pass the context and question to the prompt, send the prompt to the llm and parse the output as a string\n",
    "chain = setup_and_retrieval | prompt | llm | output_parser"
   ]
  },
  {
   "cell_type": "markdown",
   "metadata": {},
   "source": [
    "Let’s try this with our earlier query:"
   ]
  },
  {
   "cell_type": "code",
   "execution_count": 30,
   "metadata": {
    "tags": []
   },
   "outputs": [
    {
     "data": {
      "text/html": [
       "<pre style=\"white-space:pre;overflow-x:auto;line-height:normal;font-family:Menlo,'DejaVu Sans Mono',consolas,'Courier New',monospace\">Based on the context provided, a model can be considered a quantitative method, system, or approach that applies \n",
       "statistical, economic, financial, or mathematical theories, techniques, and assumptions to process input data into \n",
       "quantitative estimates. A model consists of three components: an information input component, a processing \n",
       "component, and a reporting component.\n",
       "\n",
       "The context states that the definition of model also covers quantitative approaches whose inputs are partially or \n",
       "wholly qualitative or based on expert judgment, provided that the output is quantitative in nature.\n",
       "</pre>\n"
      ],
      "text/plain": [
       "Based on the context provided, a model can be considered a quantitative method, system, or approach that applies \n",
       "statistical, economic, financial, or mathematical theories, techniques, and assumptions to process input data into \n",
       "quantitative estimates. A model consists of three components: an information input component, a processing \n",
       "component, and a reporting component.\n",
       "\n",
       "The context states that the definition of model also covers quantitative approaches whose inputs are partially or \n",
       "wholly qualitative or based on expert judgment, provided that the output is quantitative in nature.\n"
      ]
     },
     "metadata": {},
     "output_type": "display_data"
    }
   ],
   "source": [
    "query = \"What can be considered a model?\"\n",
    "\n",
    "response = chain.invoke(query)\n",
    "rprint(response)"
   ]
  },
  {
   "cell_type": "code",
   "execution_count": 19,
   "metadata": {
    "tags": []
   },
   "outputs": [
    {
     "data": {
      "text/html": [
       "<pre style=\"white-space:pre;overflow-x:auto;line-height:normal;font-family:Menlo,'DejaVu Sans Mono',consolas,'Courier New',monospace\">Based on the provided context, some acceptable model evaluation techniques include:\n",
       "\n",
       "<span style=\"color: #008080; text-decoration-color: #008080; font-weight: bold\">1</span>. Benchmarking: Comparing the model's inputs and outputs to estimates from alternative internal or external data \n",
       "or models.\n",
       "\n",
       "<span style=\"color: #008080; text-decoration-color: #008080; font-weight: bold\">2</span>. Outcomes analysis: Comparing model outputs to corresponding actual outcomes. This can include assessing the \n",
       "accuracy of estimates or forecasts, evaluating rank-ordering ability, or other appropriate tests.\n",
       "\n",
       "<span style=\"color: #008080; text-decoration-color: #008080; font-weight: bold\">3</span>. Sensitivity analysis: Checking the impact of small changes in inputs and parameter values on model outputs to \n",
       "ensure they fall within an expected range. This can also involve varying several inputs simultaneously to identify \n",
       "unexpected interactions.\n",
       "\n",
       "<span style=\"color: #008080; text-decoration-color: #008080; font-weight: bold\">4</span>. Stress testing: Checking model performance over a wide range of inputs and parameter values, including extreme \n",
       "values, to verify the model's robustness.\n",
       "\n",
       "<span style=\"color: #008080; text-decoration-color: #008080; font-weight: bold\">5</span>. Back-testing: Comparing actual outcomes with model forecasts during a sample time period not used in model \n",
       "development, and at an observation frequency that matches the forecast horizon or performance window of the model.\n",
       "\n",
       "The context indicates that a variety of quantitative and qualitative testing and analytical techniques can be used,\n",
       "and that multiple tests should be employed as no single test is likely to be sufficient on its own. The choice of \n",
       "techniques should be based on the model's methodology, complexity, data availability, and the magnitude of \n",
       "potential model risk.\n",
       "</pre>\n"
      ],
      "text/plain": [
       "Based on the provided context, some acceptable model evaluation techniques include:\n",
       "\n",
       "\u001b[1;36m1\u001b[0m. Benchmarking: Comparing the model's inputs and outputs to estimates from alternative internal or external data \n",
       "or models.\n",
       "\n",
       "\u001b[1;36m2\u001b[0m. Outcomes analysis: Comparing model outputs to corresponding actual outcomes. This can include assessing the \n",
       "accuracy of estimates or forecasts, evaluating rank-ordering ability, or other appropriate tests.\n",
       "\n",
       "\u001b[1;36m3\u001b[0m. Sensitivity analysis: Checking the impact of small changes in inputs and parameter values on model outputs to \n",
       "ensure they fall within an expected range. This can also involve varying several inputs simultaneously to identify \n",
       "unexpected interactions.\n",
       "\n",
       "\u001b[1;36m4\u001b[0m. Stress testing: Checking model performance over a wide range of inputs and parameter values, including extreme \n",
       "values, to verify the model's robustness.\n",
       "\n",
       "\u001b[1;36m5\u001b[0m. Back-testing: Comparing actual outcomes with model forecasts during a sample time period not used in model \n",
       "development, and at an observation frequency that matches the forecast horizon or performance window of the model.\n",
       "\n",
       "The context indicates that a variety of quantitative and qualitative testing and analytical techniques can be used,\n",
       "and that multiple tests should be employed as no single test is likely to be sufficient on its own. The choice of \n",
       "techniques should be based on the model's methodology, complexity, data availability, and the magnitude of \n",
       "potential model risk.\n"
      ]
     },
     "metadata": {},
     "output_type": "display_data"
    }
   ],
   "source": [
    "query = \"What are some acceptable model evaluation techniques?\"\n",
    "\n",
    "response = chain.invoke(query)\n",
    "rprint(response)"
   ]
  },
  {
   "cell_type": "markdown",
   "metadata": {},
   "source": [
    "## Improving our solution\n",
    "\n",
    "The above solution works but is notably missing a number of key features including:\n",
    "- Ability to have multi-turn conversations\n",
    "- Ability to return source documents\n",
    "- The response are constrained only to what is in the documents which may limit the usefulness of the tool\n",
    "\n",
    "In the following section we will address these gaps and make further enhancements such as utilizing some of the prompting best practices for Claude, and refining the prompt a bit to provide more natural responses.\n"
   ]
  },
  {
   "cell_type": "markdown",
   "metadata": {},
   "source": [
    "#### Set up our prompt templates\n",
    "The updated solution will utlize 3 prompt templates including:\n",
    "- **Condense template** that will look at the conversation history and generate a standalone response. This is required as a user's follow up question may not include sufficient context to perform an effective retrieval search. We'd therefore need to ask the model to rephrase the question in such a way that all the necessary context is included.\n",
    "- **Document template** that will format the documents using Claude best practices (i.e. xml tags) before feeding them into the answer template \n",
    "- **Answer template** that will take the user's question and the retrieved documents and generate a response.\n"
   ]
  },
  {
   "cell_type": "code",
   "execution_count": 20,
   "metadata": {
    "tags": []
   },
   "outputs": [],
   "source": [
    "from operator import itemgetter\n",
    "from langchain.schema import format_document\n",
    "from langchain_core.messages import  get_buffer_string\n",
    "from langchain_core.runnables import  RunnableLambda\n",
    "from langchain.memory import ConversationBufferMemory\n",
    "from langchain.prompts.prompt import PromptTemplate"
   ]
  },
  {
   "cell_type": "code",
   "execution_count": 21,
   "metadata": {
    "tags": []
   },
   "outputs": [],
   "source": [
    "# template to rephrase the question\n",
    "condense_template = \"\"\"Given the following conversation and a follow up question, rephrase the follow up question to be a standalone question.\n",
    "Skip any preamble or summarization, simply generate the rephrased question.\n",
    "<history>\n",
    "{chat_history}\n",
    "</history>\n",
    "Follow Up Input: {question}\n",
    "\"\"\"\n",
    "\n",
    "CONDENSE_QUESTION_PROMPT = PromptTemplate.from_template(condense_template)"
   ]
  },
  {
   "cell_type": "code",
   "execution_count": 22,
   "metadata": {
    "tags": []
   },
   "outputs": [],
   "source": [
    "# template to generate a response\n",
    "answer_template = \"\"\"You are a foremost expert in model risk and model governance. Your job is to advise users on the best practices and guidelines in these areas.\n",
    "The context below provides relevant information to answer the question. You must use this context to provide a detailed and accurate response.\n",
    "Only answer questions related to model risk and model governance, if a user asks a question about a different topic, politely decline.\n",
    "\n",
    "<context>\n",
    "{context}\n",
    "</context>\n",
    "\n",
    "Question: {question}\n",
    "\"\"\"\n",
    "ANSWER_PROMPT = ChatPromptTemplate.from_template(answer_template)"
   ]
  },
  {
   "cell_type": "code",
   "execution_count": 23,
   "metadata": {
    "tags": []
   },
   "outputs": [],
   "source": [
    "# template and function to format context documents in xml tags\n",
    "\n",
    "DEFAULT_DOCUMENT_PROMPT = PromptTemplate.from_template(template=\"<document section_title={section_title}>{page_content}</document>\")\n",
    "\n",
    "def _combine_documents(\n",
    "    docs, document_prompt=DEFAULT_DOCUMENT_PROMPT, document_separator=\"\\n\"\n",
    "):\n",
    "    doc_strings = [format_document(doc, document_prompt) for doc in docs]\n",
    "    return document_separator.join(doc_strings)"
   ]
  },
  {
   "cell_type": "markdown",
   "metadata": {},
   "source": [
    "Next we need a place to store the conversation state. Here we'll use the in-memory [ConversationBufferMemory](https://python.langchain.com/docs/modules/memory/types/buffer/) to store the conversation history. This will allow us to keep track of the conversation history and use it to generate a standalone response when needed. In practice, you'd likely use something like [DynamoDB](https://python.langchain.com/docs/integrations/memory/aws_dynamodb/) to store the conversation history.\n"
   ]
  },
  {
   "cell_type": "code",
   "execution_count": 24,
   "metadata": {
    "tags": []
   },
   "outputs": [],
   "source": [
    "# instantiate a blank memory buffer\n",
    "memory = ConversationBufferMemory(\n",
    "    return_messages=True, output_key=\"answer\", input_key=\"question\"\n",
    ")\n",
    "\n",
    "# First we add a step to load memory from the buffer to feed into the prompt\n",
    "loaded_memory = RunnablePassthrough.assign(\n",
    "    chat_history=RunnableLambda(memory.load_memory_variables) | itemgetter(\"history\"),\n",
    ")\n",
    "\n",
    "# Next we generate the standalone question\n",
    "standalone_question = {\n",
    "    \"standalone_question\": {\n",
    "        \"question\": lambda x: x[\"question\"],\n",
    "        \"chat_history\": lambda x: get_buffer_string(\n",
    "            x[\"chat_history\"], human_prefix=\"human\", ai_prefix=\"assistant\"\n",
    "        ),\n",
    "    }\n",
    "    | CONDENSE_QUESTION_PROMPT\n",
    "    | llm\n",
    "    | StrOutputParser(),\n",
    "}\n",
    "# Retrieve the documents using the generated question\n",
    "retrieved_documents = {\n",
    "    \"docs\": itemgetter(\"standalone_question\") | retriever,\n",
    "    \"question\": lambda x: x[\"standalone_question\"],\n",
    "}\n",
    "# Construct the inputs for the final prompt with the formatted context docs\n",
    "final_inputs = {\n",
    "    \"context\": lambda x: _combine_documents(x[\"docs\"]),\n",
    "    \"question\": itemgetter(\"question\"),\n",
    "}\n",
    "# Send the final prompt to the llm\n",
    "answer = {\n",
    "    \"answer\": final_inputs | ANSWER_PROMPT | llm,\n",
    "    \"docs\": itemgetter(\"docs\"),\n",
    "}\n",
    "# And now we put it all together!\n",
    "final_chain = loaded_memory | standalone_question | retrieved_documents | answer"
   ]
  },
  {
   "cell_type": "code",
   "execution_count": 25,
   "metadata": {
    "tags": []
   },
   "outputs": [
    {
     "data": {
      "text/html": [
       "<pre style=\"white-space:pre;overflow-x:auto;line-height:normal;font-family:Menlo,'DejaVu Sans Mono',consolas,'Courier New',monospace\">According to the Supervisory Guidance on Model Risk Management, the key types of model risks that should be \n",
       "documented include:\n",
       "\n",
       "<span style=\"color: #008080; text-decoration-color: #008080; font-weight: bold\">1</span>. Risks from individual models - The model inventory and documentation should identify the capabilities, \n",
       "limitations, and risks associated with each individual model.\n",
       "\n",
       "<span style=\"color: #008080; text-decoration-color: #008080; font-weight: bold\">2</span>. Aggregate model risk - Documentation should address the interrelationships and dependencies among models, as \n",
       "well as any common assumptions, data, or methodologies that could adversely affect multiple models simultaneously.\n",
       "\n",
       "<span style=\"color: #008080; text-decoration-color: #008080; font-weight: bold\">3</span>. Risks from model complexity, uncertainty, and materiality - The documentation should capture the level of \n",
       "complexity, uncertainty, and materiality associated with each model. This helps determine the appropriate level of \n",
       "model risk assessment and validation activities.\n",
       "\n",
       "<span style=\"color: #008080; text-decoration-color: #008080; font-weight: bold\">4</span>. Risks from model interrelationships - Documenting how each model interacts with other models is important to \n",
       "understand the scope of individual model risks as well as aggregate risks arising from model interdependencies.\n",
       "\n",
       "<span style=\"color: #008080; text-decoration-color: #008080; font-weight: bold\">5</span>. Risks from data quality and limitations - The documentation should cover the type and source of inputs used by \n",
       "each model, as well as any limitations or issues with the data.\n",
       "\n",
       "<span style=\"color: #008080; text-decoration-color: #008080; font-weight: bold\">6</span>. Risks from model capabilities and limitations - The documentation should clearly articulate the intended \n",
       "purpose, capabilities, and key limitations of each model.\n",
       "\n",
       "Overall, comprehensive documentation of these various model risks is critical for effective model risk assessment, \n",
       "management, and oversight by the bank.\n",
       "</pre>\n"
      ],
      "text/plain": [
       "According to the Supervisory Guidance on Model Risk Management, the key types of model risks that should be \n",
       "documented include:\n",
       "\n",
       "\u001b[1;36m1\u001b[0m. Risks from individual models - The model inventory and documentation should identify the capabilities, \n",
       "limitations, and risks associated with each individual model.\n",
       "\n",
       "\u001b[1;36m2\u001b[0m. Aggregate model risk - Documentation should address the interrelationships and dependencies among models, as \n",
       "well as any common assumptions, data, or methodologies that could adversely affect multiple models simultaneously.\n",
       "\n",
       "\u001b[1;36m3\u001b[0m. Risks from model complexity, uncertainty, and materiality - The documentation should capture the level of \n",
       "complexity, uncertainty, and materiality associated with each model. This helps determine the appropriate level of \n",
       "model risk assessment and validation activities.\n",
       "\n",
       "\u001b[1;36m4\u001b[0m. Risks from model interrelationships - Documenting how each model interacts with other models is important to \n",
       "understand the scope of individual model risks as well as aggregate risks arising from model interdependencies.\n",
       "\n",
       "\u001b[1;36m5\u001b[0m. Risks from data quality and limitations - The documentation should cover the type and source of inputs used by \n",
       "each model, as well as any limitations or issues with the data.\n",
       "\n",
       "\u001b[1;36m6\u001b[0m. Risks from model capabilities and limitations - The documentation should clearly articulate the intended \n",
       "purpose, capabilities, and key limitations of each model.\n",
       "\n",
       "Overall, comprehensive documentation of these various model risks is critical for effective model risk assessment, \n",
       "management, and oversight by the bank.\n"
      ]
     },
     "metadata": {},
     "output_type": "display_data"
    },
    {
     "data": {
      "text/html": [
       "<pre style=\"white-space:pre;overflow-x:auto;line-height:normal;font-family:Menlo,'DejaVu Sans Mono',consolas,'Courier New',monospace\">source documents:\n",
       " <span style=\"font-weight: bold\">[</span>\n",
       "  <span style=\"font-weight: bold\">{</span>\n",
       "    <span style=\"color: #008000; text-decoration-color: #008000\">\"section_title\"</span>: <span style=\"color: #008000; text-decoration-color: #008000\">\"Model Inventory\"</span>,\n",
       "    <span style=\"color: #008000; text-decoration-color: #008000\">\"page_label\"</span>: <span style=\"color: #008000; text-decoration-color: #008000\">\"26\"</span>,\n",
       "    <span style=\"color: #008000; text-decoration-color: #008000\">\"page_index\"</span>: <span style=\"color: #008080; text-decoration-color: #008080; font-weight: bold\">28</span>,\n",
       "    <span style=\"color: #008000; text-decoration-color: #008000\">\"parent_section\"</span>: <span style=\"color: #008000; text-decoration-color: #008000\">\"Personnel\"</span>,\n",
       "    <span style=\"color: #008000; text-decoration-color: #008000\">\"file\"</span>: <span style=\"color: #008000; text-decoration-color: #008000\">\"pub-ch-model-risk.pdf\"</span>\n",
       "  <span style=\"font-weight: bold\">}</span>,\n",
       "  <span style=\"font-weight: bold\">{</span>\n",
       "    <span style=\"color: #008000; text-decoration-color: #008000\">\"section_title\"</span>: <span style=\"color: #008000; text-decoration-color: #008000\">\"Documentation\"</span>,\n",
       "    <span style=\"color: #008000; text-decoration-color: #008000\">\"page_label\"</span>: <span style=\"color: #008000; text-decoration-color: #008000\">\"28\"</span>,\n",
       "    <span style=\"color: #008000; text-decoration-color: #008000\">\"page_index\"</span>: <span style=\"color: #008080; text-decoration-color: #008080; font-weight: bold\">30</span>,\n",
       "    <span style=\"color: #008000; text-decoration-color: #008000\">\"parent_section\"</span>: <span style=\"color: #008000; text-decoration-color: #008000\">\"Personnel\"</span>,\n",
       "    <span style=\"color: #008000; text-decoration-color: #008000\">\"file\"</span>: <span style=\"color: #008000; text-decoration-color: #008000\">\"pub-ch-model-risk.pdf\"</span>\n",
       "  <span style=\"font-weight: bold\">}</span>,\n",
       "  <span style=\"font-weight: bold\">{</span>\n",
       "    <span style=\"color: #008000; text-decoration-color: #008000\">\"section_title\"</span>: <span style=\"color: #008000; text-decoration-color: #008000\">\"Quality of Model Risk Management\"</span>,\n",
       "    <span style=\"color: #008000; text-decoration-color: #008000\">\"page_label\"</span>: <span style=\"color: #008000; text-decoration-color: #008000\">\"58\"</span>,\n",
       "    <span style=\"color: #008000; text-decoration-color: #008000\">\"page_index\"</span>: <span style=\"color: #008080; text-decoration-color: #008080; font-weight: bold\">60</span>,\n",
       "    <span style=\"color: #008000; text-decoration-color: #008000\">\"parent_section\"</span>: <span style=\"color: #008000; text-decoration-color: #008000\">\"Examination Procedures\"</span>,\n",
       "    <span style=\"color: #008000; text-decoration-color: #008000\">\"file\"</span>: <span style=\"color: #008000; text-decoration-color: #008000\">\"pub-ch-model-risk.pdf\"</span>\n",
       "  <span style=\"font-weight: bold\">}</span>,\n",
       "  <span style=\"font-weight: bold\">{</span>\n",
       "    <span style=\"color: #008000; text-decoration-color: #008000\">\"section_title\"</span>: <span style=\"color: #008000; text-decoration-color: #008000\">\"VI. Governance, Policies, and Controls\"</span>,\n",
       "    <span style=\"color: #008000; text-decoration-color: #008000\">\"page_label\"</span>: <span style=\"color: #008000; text-decoration-color: #008000\">\"16\"</span>,\n",
       "    <span style=\"color: #008000; text-decoration-color: #008000\">\"page_index\"</span>: <span style=\"color: #008080; text-decoration-color: #008080; font-weight: bold\">15</span>,\n",
       "    <span style=\"color: #008000; text-decoration-color: #008000\">\"parent_section\"</span>: <span style=\"color: #008000; text-decoration-color: #008000\">\"Contents\"</span>,\n",
       "    <span style=\"color: #008000; text-decoration-color: #008000\">\"file\"</span>: <span style=\"color: #008000; text-decoration-color: #008000\">\"sr1107a1.pdf\"</span>\n",
       "  <span style=\"font-weight: bold\">}</span>,\n",
       "  <span style=\"font-weight: bold\">{</span>\n",
       "    <span style=\"color: #008000; text-decoration-color: #008000\">\"section_title\"</span>: <span style=\"color: #008000; text-decoration-color: #008000\">\"Risk Assessment\"</span>,\n",
       "    <span style=\"color: #008000; text-decoration-color: #008000\">\"page_label\"</span>: <span style=\"color: #008000; text-decoration-color: #008000\">\"24\"</span>,\n",
       "    <span style=\"color: #008000; text-decoration-color: #008000\">\"page_index\"</span>: <span style=\"color: #008080; text-decoration-color: #008080; font-weight: bold\">26</span>,\n",
       "    <span style=\"color: #008000; text-decoration-color: #008000\">\"parent_section\"</span>: <span style=\"color: #008000; text-decoration-color: #008000\">\"Personnel\"</span>,\n",
       "    <span style=\"color: #008000; text-decoration-color: #008000\">\"file\"</span>: <span style=\"color: #008000; text-decoration-color: #008000\">\"pub-ch-model-risk.pdf\"</span>\n",
       "  <span style=\"font-weight: bold\">}</span>,\n",
       "  <span style=\"font-weight: bold\">{</span>\n",
       "    <span style=\"color: #008000; text-decoration-color: #008000\">\"section_title\"</span>: <span style=\"color: #008000; text-decoration-color: #008000\">\"Internal Control Questionnaire\"</span>,\n",
       "    <span style=\"color: #008000; text-decoration-color: #008000\">\"page_label\"</span>: <span style=\"color: #008000; text-decoration-color: #008000\">\"84\"</span>,\n",
       "    <span style=\"color: #008000; text-decoration-color: #008000\">\"page_index\"</span>: <span style=\"color: #008080; text-decoration-color: #008080; font-weight: bold\">86</span>,\n",
       "    <span style=\"color: #008000; text-decoration-color: #008000\">\"parent_section\"</span>: <span style=\"color: #008000; text-decoration-color: #008000\">\"Examination Procedures\"</span>,\n",
       "    <span style=\"color: #008000; text-decoration-color: #008000\">\"file\"</span>: <span style=\"color: #008000; text-decoration-color: #008000\">\"pub-ch-model-risk.pdf\"</span>\n",
       "  <span style=\"font-weight: bold\">}</span>,\n",
       "  <span style=\"font-weight: bold\">{</span>\n",
       "    <span style=\"color: #008000; text-decoration-color: #008000\">\"section_title\"</span>: <span style=\"color: #008000; text-decoration-color: #008000\">\"IV. Model Development, Implementation, and Use\"</span>,\n",
       "    <span style=\"color: #008000; text-decoration-color: #008000\">\"page_label\"</span>: <span style=\"color: #008000; text-decoration-color: #008000\">\"5\"</span>,\n",
       "    <span style=\"color: #008000; text-decoration-color: #008000\">\"page_index\"</span>: <span style=\"color: #008080; text-decoration-color: #008080; font-weight: bold\">4</span>,\n",
       "    <span style=\"color: #008000; text-decoration-color: #008000\">\"parent_section\"</span>: <span style=\"color: #008000; text-decoration-color: #008000\">\"Contents\"</span>,\n",
       "    <span style=\"color: #008000; text-decoration-color: #008000\">\"file\"</span>: <span style=\"color: #008000; text-decoration-color: #008000\">\"sr1107a1.pdf\"</span>\n",
       "  <span style=\"font-weight: bold\">}</span>\n",
       "<span style=\"font-weight: bold\">]</span>\n",
       "</pre>\n"
      ],
      "text/plain": [
       "source documents:\n",
       " \u001b[1m[\u001b[0m\n",
       "  \u001b[1m{\u001b[0m\n",
       "    \u001b[32m\"section_title\"\u001b[0m: \u001b[32m\"Model Inventory\"\u001b[0m,\n",
       "    \u001b[32m\"page_label\"\u001b[0m: \u001b[32m\"26\"\u001b[0m,\n",
       "    \u001b[32m\"page_index\"\u001b[0m: \u001b[1;36m28\u001b[0m,\n",
       "    \u001b[32m\"parent_section\"\u001b[0m: \u001b[32m\"Personnel\"\u001b[0m,\n",
       "    \u001b[32m\"file\"\u001b[0m: \u001b[32m\"pub-ch-model-risk.pdf\"\u001b[0m\n",
       "  \u001b[1m}\u001b[0m,\n",
       "  \u001b[1m{\u001b[0m\n",
       "    \u001b[32m\"section_title\"\u001b[0m: \u001b[32m\"Documentation\"\u001b[0m,\n",
       "    \u001b[32m\"page_label\"\u001b[0m: \u001b[32m\"28\"\u001b[0m,\n",
       "    \u001b[32m\"page_index\"\u001b[0m: \u001b[1;36m30\u001b[0m,\n",
       "    \u001b[32m\"parent_section\"\u001b[0m: \u001b[32m\"Personnel\"\u001b[0m,\n",
       "    \u001b[32m\"file\"\u001b[0m: \u001b[32m\"pub-ch-model-risk.pdf\"\u001b[0m\n",
       "  \u001b[1m}\u001b[0m,\n",
       "  \u001b[1m{\u001b[0m\n",
       "    \u001b[32m\"section_title\"\u001b[0m: \u001b[32m\"Quality of Model Risk Management\"\u001b[0m,\n",
       "    \u001b[32m\"page_label\"\u001b[0m: \u001b[32m\"58\"\u001b[0m,\n",
       "    \u001b[32m\"page_index\"\u001b[0m: \u001b[1;36m60\u001b[0m,\n",
       "    \u001b[32m\"parent_section\"\u001b[0m: \u001b[32m\"Examination Procedures\"\u001b[0m,\n",
       "    \u001b[32m\"file\"\u001b[0m: \u001b[32m\"pub-ch-model-risk.pdf\"\u001b[0m\n",
       "  \u001b[1m}\u001b[0m,\n",
       "  \u001b[1m{\u001b[0m\n",
       "    \u001b[32m\"section_title\"\u001b[0m: \u001b[32m\"VI. Governance, Policies, and Controls\"\u001b[0m,\n",
       "    \u001b[32m\"page_label\"\u001b[0m: \u001b[32m\"16\"\u001b[0m,\n",
       "    \u001b[32m\"page_index\"\u001b[0m: \u001b[1;36m15\u001b[0m,\n",
       "    \u001b[32m\"parent_section\"\u001b[0m: \u001b[32m\"Contents\"\u001b[0m,\n",
       "    \u001b[32m\"file\"\u001b[0m: \u001b[32m\"sr1107a1.pdf\"\u001b[0m\n",
       "  \u001b[1m}\u001b[0m,\n",
       "  \u001b[1m{\u001b[0m\n",
       "    \u001b[32m\"section_title\"\u001b[0m: \u001b[32m\"Risk Assessment\"\u001b[0m,\n",
       "    \u001b[32m\"page_label\"\u001b[0m: \u001b[32m\"24\"\u001b[0m,\n",
       "    \u001b[32m\"page_index\"\u001b[0m: \u001b[1;36m26\u001b[0m,\n",
       "    \u001b[32m\"parent_section\"\u001b[0m: \u001b[32m\"Personnel\"\u001b[0m,\n",
       "    \u001b[32m\"file\"\u001b[0m: \u001b[32m\"pub-ch-model-risk.pdf\"\u001b[0m\n",
       "  \u001b[1m}\u001b[0m,\n",
       "  \u001b[1m{\u001b[0m\n",
       "    \u001b[32m\"section_title\"\u001b[0m: \u001b[32m\"Internal Control Questionnaire\"\u001b[0m,\n",
       "    \u001b[32m\"page_label\"\u001b[0m: \u001b[32m\"84\"\u001b[0m,\n",
       "    \u001b[32m\"page_index\"\u001b[0m: \u001b[1;36m86\u001b[0m,\n",
       "    \u001b[32m\"parent_section\"\u001b[0m: \u001b[32m\"Examination Procedures\"\u001b[0m,\n",
       "    \u001b[32m\"file\"\u001b[0m: \u001b[32m\"pub-ch-model-risk.pdf\"\u001b[0m\n",
       "  \u001b[1m}\u001b[0m,\n",
       "  \u001b[1m{\u001b[0m\n",
       "    \u001b[32m\"section_title\"\u001b[0m: \u001b[32m\"IV. Model Development, Implementation, and Use\"\u001b[0m,\n",
       "    \u001b[32m\"page_label\"\u001b[0m: \u001b[32m\"5\"\u001b[0m,\n",
       "    \u001b[32m\"page_index\"\u001b[0m: \u001b[1;36m4\u001b[0m,\n",
       "    \u001b[32m\"parent_section\"\u001b[0m: \u001b[32m\"Contents\"\u001b[0m,\n",
       "    \u001b[32m\"file\"\u001b[0m: \u001b[32m\"sr1107a1.pdf\"\u001b[0m\n",
       "  \u001b[1m}\u001b[0m\n",
       "\u001b[1m]\u001b[0m\n"
      ]
     },
     "metadata": {},
     "output_type": "display_data"
    }
   ],
   "source": [
    "inputs = {\"question\": \"What types of model risks should be documented?\"}\n",
    "result = final_chain.invoke(inputs)\n",
    "rprint(result[\"answer\"].content)\n",
    "rprint(\"source documents:\\n\", json.dumps([doc.metadata for doc in  result[\"docs\"]], indent=2))\n",
    "\n",
    "# after every conversation turn we update the conversation state in the memory buffer\n",
    "memory.save_context(inputs, {\"answer\": result[\"answer\"].content})"
   ]
  },
  {
   "cell_type": "code",
   "execution_count": 26,
   "metadata": {
    "tags": []
   },
   "outputs": [
    {
     "data": {
      "text/html": [
       "<pre style=\"white-space:pre;overflow-x:auto;line-height:normal;font-family:Menlo,'DejaVu Sans Mono',consolas,'Courier New',monospace\">Based on the information provided in the context, here are some examples of model risks that should be documented \n",
       "for a fraud detection model:\n",
       "\n",
       "<span style=\"color: #008080; text-decoration-color: #008080; font-weight: bold\">1</span>. Model assumptions and limitations: Document the key assumptions underlying the model, such as the types of fraud\n",
       "the model is designed to detect, the data sources and quality used to train the model, and any limitations in the \n",
       "model's ability to identify all types of fraud.\n",
       "\n",
       "<span style=\"color: #008080; text-decoration-color: #008080; font-weight: bold\">2</span>. Data quality and relevance: Assess and document the quality, completeness, and relevance of the data used to \n",
       "train and validate the fraud detection model. Identify any data biases or gaps that could impact the model's \n",
       "performance.\n",
       "\n",
       "<span style=\"color: #008080; text-decoration-color: #008080; font-weight: bold\">3</span>. Model complexity and uncertainty: Fraud detection models can be complex, with multiple layers of algorithms and \n",
       "features. Document the complexity of the model and assess the level of uncertainty around its outputs. Perform \n",
       "sensitivity analysis to understand how changes in inputs affect the model's fraud predictions.\n",
       "\n",
       "<span style=\"color: #008080; text-decoration-color: #008080; font-weight: bold\">4</span>. Model interdependencies: If the fraud detection model relies on outputs from other models <span style=\"font-weight: bold\">(</span>e.g., customer risk \n",
       "scoring models<span style=\"font-weight: bold\">)</span>, document these interdependencies and assess how issues in the other models could impact the fraud \n",
       "detection model.\n",
       "\n",
       "<span style=\"color: #008080; text-decoration-color: #008080; font-weight: bold\">5</span>. Model performance and limitations: Thoroughly test the model's performance across a variety of fraud scenarios, \n",
       "payment types, customer segments, etc. Document the model's accuracy, false positive/negative rates, and any \n",
       "situations where the model may perform poorly or produce unreliable outputs.\n",
       "\n",
       "<span style=\"color: #008080; text-decoration-color: #008080; font-weight: bold\">6</span>. Ongoing monitoring and validation: Establish a plan to continuously monitor the fraud detection model's \n",
       "performance, validate its outputs, and make updates as needed to address changes in fraud patterns, customer \n",
       "behavior, or other factors.\n",
       "\n",
       "<span style=\"color: #008080; text-decoration-color: #008080; font-weight: bold\">7</span>. Explainability for AI/ML models: If the fraud detection model utilizes advanced AI or machine learning \n",
       "techniques, assess and document the model's transparency and explainability - i.e., the extent to which bank \n",
       "personnel can understand how the model reaches its decisions.\n",
       "\n",
       "Documenting these model risks and limitations is crucial for ensuring the appropriate use and oversight of the \n",
       "fraud detection model within the bank's overall model risk management framework.\n",
       "</pre>\n"
      ],
      "text/plain": [
       "Based on the information provided in the context, here are some examples of model risks that should be documented \n",
       "for a fraud detection model:\n",
       "\n",
       "\u001b[1;36m1\u001b[0m. Model assumptions and limitations: Document the key assumptions underlying the model, such as the types of fraud\n",
       "the model is designed to detect, the data sources and quality used to train the model, and any limitations in the \n",
       "model's ability to identify all types of fraud.\n",
       "\n",
       "\u001b[1;36m2\u001b[0m. Data quality and relevance: Assess and document the quality, completeness, and relevance of the data used to \n",
       "train and validate the fraud detection model. Identify any data biases or gaps that could impact the model's \n",
       "performance.\n",
       "\n",
       "\u001b[1;36m3\u001b[0m. Model complexity and uncertainty: Fraud detection models can be complex, with multiple layers of algorithms and \n",
       "features. Document the complexity of the model and assess the level of uncertainty around its outputs. Perform \n",
       "sensitivity analysis to understand how changes in inputs affect the model's fraud predictions.\n",
       "\n",
       "\u001b[1;36m4\u001b[0m. Model interdependencies: If the fraud detection model relies on outputs from other models \u001b[1m(\u001b[0me.g., customer risk \n",
       "scoring models\u001b[1m)\u001b[0m, document these interdependencies and assess how issues in the other models could impact the fraud \n",
       "detection model.\n",
       "\n",
       "\u001b[1;36m5\u001b[0m. Model performance and limitations: Thoroughly test the model's performance across a variety of fraud scenarios, \n",
       "payment types, customer segments, etc. Document the model's accuracy, false positive/negative rates, and any \n",
       "situations where the model may perform poorly or produce unreliable outputs.\n",
       "\n",
       "\u001b[1;36m6\u001b[0m. Ongoing monitoring and validation: Establish a plan to continuously monitor the fraud detection model's \n",
       "performance, validate its outputs, and make updates as needed to address changes in fraud patterns, customer \n",
       "behavior, or other factors.\n",
       "\n",
       "\u001b[1;36m7\u001b[0m. Explainability for AI/ML models: If the fraud detection model utilizes advanced AI or machine learning \n",
       "techniques, assess and document the model's transparency and explainability - i.e., the extent to which bank \n",
       "personnel can understand how the model reaches its decisions.\n",
       "\n",
       "Documenting these model risks and limitations is crucial for ensuring the appropriate use and oversight of the \n",
       "fraud detection model within the bank's overall model risk management framework.\n"
      ]
     },
     "metadata": {},
     "output_type": "display_data"
    },
    {
     "data": {
      "text/html": [
       "<pre style=\"white-space:pre;overflow-x:auto;line-height:normal;font-family:Menlo,'DejaVu Sans Mono',consolas,'Courier New',monospace\">source documents:\n",
       " <span style=\"font-weight: bold\">[</span>\n",
       "  <span style=\"font-weight: bold\">{</span>\n",
       "    <span style=\"color: #008000; text-decoration-color: #008000\">\"section_title\"</span>: <span style=\"color: #008000; text-decoration-color: #008000\">\"Quantity of Risk\"</span>,\n",
       "    <span style=\"color: #008000; text-decoration-color: #008000\">\"page_label\"</span>: <span style=\"color: #008000; text-decoration-color: #008000\">\"55\"</span>,\n",
       "    <span style=\"color: #008000; text-decoration-color: #008000\">\"page_index\"</span>: <span style=\"color: #008080; text-decoration-color: #008080; font-weight: bold\">57</span>,\n",
       "    <span style=\"color: #008000; text-decoration-color: #008000\">\"parent_section\"</span>: <span style=\"color: #008000; text-decoration-color: #008000\">\"Examination Procedures\"</span>,\n",
       "    <span style=\"color: #008000; text-decoration-color: #008000\">\"file\"</span>: <span style=\"color: #008000; text-decoration-color: #008000\">\"pub-ch-model-risk.pdf\"</span>\n",
       "  <span style=\"font-weight: bold\">}</span>,\n",
       "  <span style=\"font-weight: bold\">{</span>\n",
       "    <span style=\"color: #008000; text-decoration-color: #008000\">\"section_title\"</span>: <span style=\"color: #008000; text-decoration-color: #008000\">\"Documentation\"</span>,\n",
       "    <span style=\"color: #008000; text-decoration-color: #008000\">\"page_label\"</span>: <span style=\"color: #008000; text-decoration-color: #008000\">\"28\"</span>,\n",
       "    <span style=\"color: #008000; text-decoration-color: #008000\">\"page_index\"</span>: <span style=\"color: #008080; text-decoration-color: #008080; font-weight: bold\">30</span>,\n",
       "    <span style=\"color: #008000; text-decoration-color: #008000\">\"parent_section\"</span>: <span style=\"color: #008000; text-decoration-color: #008000\">\"Personnel\"</span>,\n",
       "    <span style=\"color: #008000; text-decoration-color: #008000\">\"file\"</span>: <span style=\"color: #008000; text-decoration-color: #008000\">\"pub-ch-model-risk.pdf\"</span>\n",
       "  <span style=\"font-weight: bold\">}</span>,\n",
       "  <span style=\"font-weight: bold\">{</span>\n",
       "    <span style=\"color: #008000; text-decoration-color: #008000\">\"section_title\"</span>: <span style=\"color: #008000; text-decoration-color: #008000\">\"Quality of Model Risk Management\"</span>,\n",
       "    <span style=\"color: #008000; text-decoration-color: #008000\">\"page_label\"</span>: <span style=\"color: #008000; text-decoration-color: #008000\">\"58\"</span>,\n",
       "    <span style=\"color: #008000; text-decoration-color: #008000\">\"page_index\"</span>: <span style=\"color: #008080; text-decoration-color: #008080; font-weight: bold\">60</span>,\n",
       "    <span style=\"color: #008000; text-decoration-color: #008000\">\"parent_section\"</span>: <span style=\"color: #008000; text-decoration-color: #008000\">\"Examination Procedures\"</span>,\n",
       "    <span style=\"color: #008000; text-decoration-color: #008000\">\"file\"</span>: <span style=\"color: #008000; text-decoration-color: #008000\">\"pub-ch-model-risk.pdf\"</span>\n",
       "  <span style=\"font-weight: bold\">}</span>,\n",
       "  <span style=\"font-weight: bold\">{</span>\n",
       "    <span style=\"color: #008000; text-decoration-color: #008000\">\"section_title\"</span>: <span style=\"color: #008000; text-decoration-color: #008000\">\"Risk Assessment\"</span>,\n",
       "    <span style=\"color: #008000; text-decoration-color: #008000\">\"page_label\"</span>: <span style=\"color: #008000; text-decoration-color: #008000\">\"24\"</span>,\n",
       "    <span style=\"color: #008000; text-decoration-color: #008000\">\"page_index\"</span>: <span style=\"color: #008080; text-decoration-color: #008080; font-weight: bold\">26</span>,\n",
       "    <span style=\"color: #008000; text-decoration-color: #008000\">\"parent_section\"</span>: <span style=\"color: #008000; text-decoration-color: #008000\">\"Personnel\"</span>,\n",
       "    <span style=\"color: #008000; text-decoration-color: #008000\">\"file\"</span>: <span style=\"color: #008000; text-decoration-color: #008000\">\"pub-ch-model-risk.pdf\"</span>\n",
       "  <span style=\"font-weight: bold\">}</span>,\n",
       "  <span style=\"font-weight: bold\">{</span>\n",
       "    <span style=\"color: #008000; text-decoration-color: #008000\">\"section_title\"</span>: <span style=\"color: #008000; text-decoration-color: #008000\">\"Risks Associated With the Use of Models\"</span>,\n",
       "    <span style=\"color: #008000; text-decoration-color: #008000\">\"page_label\"</span>: <span style=\"color: #008000; text-decoration-color: #008000\">\"4\"</span>,\n",
       "    <span style=\"color: #008000; text-decoration-color: #008000\">\"page_index\"</span>: <span style=\"color: #008080; text-decoration-color: #008080; font-weight: bold\">6</span>,\n",
       "    <span style=\"color: #008000; text-decoration-color: #008000\">\"parent_section\"</span>: <span style=\"color: #008000; text-decoration-color: #008000\">\"Introduction\"</span>,\n",
       "    <span style=\"color: #008000; text-decoration-color: #008000\">\"file\"</span>: <span style=\"color: #008000; text-decoration-color: #008000\">\"pub-ch-model-risk.pdf\"</span>\n",
       "  <span style=\"font-weight: bold\">}</span>,\n",
       "  <span style=\"font-weight: bold\">{</span>\n",
       "    <span style=\"color: #008000; text-decoration-color: #008000\">\"section_title\"</span>: <span style=\"color: #008000; text-decoration-color: #008000\">\"Evaluation of Conceptual Soundness\"</span>,\n",
       "    <span style=\"color: #008000; text-decoration-color: #008000\">\"page_label\"</span>: <span style=\"color: #008000; text-decoration-color: #008000\">\"39\"</span>,\n",
       "    <span style=\"color: #008000; text-decoration-color: #008000\">\"page_index\"</span>: <span style=\"color: #008080; text-decoration-color: #008080; font-weight: bold\">41</span>,\n",
       "    <span style=\"color: #008000; text-decoration-color: #008000\">\"parent_section\"</span>: <span style=\"color: #008000; text-decoration-color: #008000\">\"Model Validation\"</span>,\n",
       "    <span style=\"color: #008000; text-decoration-color: #008000\">\"file\"</span>: <span style=\"color: #008000; text-decoration-color: #008000\">\"pub-ch-model-risk.pdf\"</span>\n",
       "  <span style=\"font-weight: bold\">}</span>,\n",
       "  <span style=\"font-weight: bold\">{</span>\n",
       "    <span style=\"color: #008000; text-decoration-color: #008000\">\"section_title\"</span>: <span style=\"color: #008000; text-decoration-color: #008000\">\"IV. Model Development, Implementation, and Use\"</span>,\n",
       "    <span style=\"color: #008000; text-decoration-color: #008000\">\"page_label\"</span>: <span style=\"color: #008000; text-decoration-color: #008000\">\"5\"</span>,\n",
       "    <span style=\"color: #008000; text-decoration-color: #008000\">\"page_index\"</span>: <span style=\"color: #008080; text-decoration-color: #008080; font-weight: bold\">4</span>,\n",
       "    <span style=\"color: #008000; text-decoration-color: #008000\">\"parent_section\"</span>: <span style=\"color: #008000; text-decoration-color: #008000\">\"Contents\"</span>,\n",
       "    <span style=\"color: #008000; text-decoration-color: #008000\">\"file\"</span>: <span style=\"color: #008000; text-decoration-color: #008000\">\"sr1107a1.pdf\"</span>\n",
       "  <span style=\"font-weight: bold\">}</span>\n",
       "<span style=\"font-weight: bold\">]</span>\n",
       "</pre>\n"
      ],
      "text/plain": [
       "source documents:\n",
       " \u001b[1m[\u001b[0m\n",
       "  \u001b[1m{\u001b[0m\n",
       "    \u001b[32m\"section_title\"\u001b[0m: \u001b[32m\"Quantity of Risk\"\u001b[0m,\n",
       "    \u001b[32m\"page_label\"\u001b[0m: \u001b[32m\"55\"\u001b[0m,\n",
       "    \u001b[32m\"page_index\"\u001b[0m: \u001b[1;36m57\u001b[0m,\n",
       "    \u001b[32m\"parent_section\"\u001b[0m: \u001b[32m\"Examination Procedures\"\u001b[0m,\n",
       "    \u001b[32m\"file\"\u001b[0m: \u001b[32m\"pub-ch-model-risk.pdf\"\u001b[0m\n",
       "  \u001b[1m}\u001b[0m,\n",
       "  \u001b[1m{\u001b[0m\n",
       "    \u001b[32m\"section_title\"\u001b[0m: \u001b[32m\"Documentation\"\u001b[0m,\n",
       "    \u001b[32m\"page_label\"\u001b[0m: \u001b[32m\"28\"\u001b[0m,\n",
       "    \u001b[32m\"page_index\"\u001b[0m: \u001b[1;36m30\u001b[0m,\n",
       "    \u001b[32m\"parent_section\"\u001b[0m: \u001b[32m\"Personnel\"\u001b[0m,\n",
       "    \u001b[32m\"file\"\u001b[0m: \u001b[32m\"pub-ch-model-risk.pdf\"\u001b[0m\n",
       "  \u001b[1m}\u001b[0m,\n",
       "  \u001b[1m{\u001b[0m\n",
       "    \u001b[32m\"section_title\"\u001b[0m: \u001b[32m\"Quality of Model Risk Management\"\u001b[0m,\n",
       "    \u001b[32m\"page_label\"\u001b[0m: \u001b[32m\"58\"\u001b[0m,\n",
       "    \u001b[32m\"page_index\"\u001b[0m: \u001b[1;36m60\u001b[0m,\n",
       "    \u001b[32m\"parent_section\"\u001b[0m: \u001b[32m\"Examination Procedures\"\u001b[0m,\n",
       "    \u001b[32m\"file\"\u001b[0m: \u001b[32m\"pub-ch-model-risk.pdf\"\u001b[0m\n",
       "  \u001b[1m}\u001b[0m,\n",
       "  \u001b[1m{\u001b[0m\n",
       "    \u001b[32m\"section_title\"\u001b[0m: \u001b[32m\"Risk Assessment\"\u001b[0m,\n",
       "    \u001b[32m\"page_label\"\u001b[0m: \u001b[32m\"24\"\u001b[0m,\n",
       "    \u001b[32m\"page_index\"\u001b[0m: \u001b[1;36m26\u001b[0m,\n",
       "    \u001b[32m\"parent_section\"\u001b[0m: \u001b[32m\"Personnel\"\u001b[0m,\n",
       "    \u001b[32m\"file\"\u001b[0m: \u001b[32m\"pub-ch-model-risk.pdf\"\u001b[0m\n",
       "  \u001b[1m}\u001b[0m,\n",
       "  \u001b[1m{\u001b[0m\n",
       "    \u001b[32m\"section_title\"\u001b[0m: \u001b[32m\"Risks Associated With the Use of Models\"\u001b[0m,\n",
       "    \u001b[32m\"page_label\"\u001b[0m: \u001b[32m\"4\"\u001b[0m,\n",
       "    \u001b[32m\"page_index\"\u001b[0m: \u001b[1;36m6\u001b[0m,\n",
       "    \u001b[32m\"parent_section\"\u001b[0m: \u001b[32m\"Introduction\"\u001b[0m,\n",
       "    \u001b[32m\"file\"\u001b[0m: \u001b[32m\"pub-ch-model-risk.pdf\"\u001b[0m\n",
       "  \u001b[1m}\u001b[0m,\n",
       "  \u001b[1m{\u001b[0m\n",
       "    \u001b[32m\"section_title\"\u001b[0m: \u001b[32m\"Evaluation of Conceptual Soundness\"\u001b[0m,\n",
       "    \u001b[32m\"page_label\"\u001b[0m: \u001b[32m\"39\"\u001b[0m,\n",
       "    \u001b[32m\"page_index\"\u001b[0m: \u001b[1;36m41\u001b[0m,\n",
       "    \u001b[32m\"parent_section\"\u001b[0m: \u001b[32m\"Model Validation\"\u001b[0m,\n",
       "    \u001b[32m\"file\"\u001b[0m: \u001b[32m\"pub-ch-model-risk.pdf\"\u001b[0m\n",
       "  \u001b[1m}\u001b[0m,\n",
       "  \u001b[1m{\u001b[0m\n",
       "    \u001b[32m\"section_title\"\u001b[0m: \u001b[32m\"IV. Model Development, Implementation, and Use\"\u001b[0m,\n",
       "    \u001b[32m\"page_label\"\u001b[0m: \u001b[32m\"5\"\u001b[0m,\n",
       "    \u001b[32m\"page_index\"\u001b[0m: \u001b[1;36m4\u001b[0m,\n",
       "    \u001b[32m\"parent_section\"\u001b[0m: \u001b[32m\"Contents\"\u001b[0m,\n",
       "    \u001b[32m\"file\"\u001b[0m: \u001b[32m\"sr1107a1.pdf\"\u001b[0m\n",
       "  \u001b[1m}\u001b[0m\n",
       "\u001b[1m]\u001b[0m\n"
      ]
     },
     "metadata": {},
     "output_type": "display_data"
    }
   ],
   "source": [
    "inputs = {\"question\": \"Can you provide some examples for a fraud detection model?\"}\n",
    "result = final_chain.invoke(inputs)\n",
    "rprint(result[\"answer\"].content)\n",
    "rprint(\"source documents:\\n\", json.dumps([doc.metadata for doc in  result[\"docs\"]], indent=2))\n",
    "\n",
    "memory.save_context(inputs, {\"answer\": result[\"answer\"].content})"
   ]
  },
  {
   "cell_type": "code",
   "execution_count": 27,
   "metadata": {
    "tags": []
   },
   "outputs": [
    {
     "name": "stdout",
     "output_type": "stream",
     "text": [
      "Based on the context provided, the key types of model risk that should be documented for a credit scoring model include:\n",
      "\n",
      "1. Model assumptions and limitations: The documentation should clearly explain the assumptions underlying the credit scoring model and its known limitations in terms of the model's intended use and application.\n",
      "\n",
      "2. Theoretical approach and supporting research: The documentation should provide the theoretical basis and research supporting the approach used in developing the credit scoring model.\n",
      "\n",
      "3. Model design and formulas: The documentation should detail the design of the credit scoring model, including the mathematical formulas and algorithms used.\n",
      "\n",
      "4. Data coverage, sources, quality, and limitations: The documentation should describe the data used to develop and validate the credit scoring model, including the sources, coverage, quality, and any limitations of the data.\n",
      "\n",
      "5. Testing diagnostics, model outcomes, and performance under different conditions: The documentation should include a description and interpretation of the testing performed on the credit scoring model, the model outcomes, and the expected performance of the model under a variety of economic and business conditions.\n",
      "\n",
      "6. Explanation of input-output relationships: The documentation should provide an explanation of how the underlying relationships between the model inputs and outputs contribute to the predictive power of the credit scoring model.\n",
      "\n",
      "7. Change logs: The documentation should maintain a change log that tracks any modifications made to the credit scoring model over time.\n",
      "\n",
      "8. Ongoing monitoring plans: The documentation should outline the plans for ongoing monitoring of the credit scoring model's performance.\n",
      "\n",
      "9. Business uses: The documentation should clearly define the intended business uses and applications of the credit scoring model.\n",
      "\n",
      "Comprehensive and well-documented information on these areas is critical for understanding the capabilities, limitations, and risks associated with the credit scoring model, as well as ensuring appropriate use and validation of the model.\n",
      "source documents:\n",
      " [\n",
      "  {\n",
      "    \"section_title\": \"Risk Assessment\",\n",
      "    \"page_label\": \"24\",\n",
      "    \"page_index\": 26,\n",
      "    \"parent_section\": \"Personnel\",\n",
      "    \"file\": \"pub-ch-model-risk.pdf\"\n",
      "  },\n",
      "  {\n",
      "    \"section_title\": \"Back-Testing\",\n",
      "    \"page_label\": \"47\",\n",
      "    \"page_index\": 49,\n",
      "    \"parent_section\": \"Outcomes Analysis\",\n",
      "    \"file\": \"pub-ch-model-risk.pdf\"\n",
      "  },\n",
      "  {\n",
      "    \"section_title\": \"Third-Party Risk Management\",\n",
      "    \"page_label\": \"48\",\n",
      "    \"page_index\": 50,\n",
      "    \"parent_section\": \"Model Validation\",\n",
      "    \"file\": \"pub-ch-model-risk.pdf\"\n",
      "  },\n",
      "  {\n",
      "    \"section_title\": \"Quality of Model Risk Management\",\n",
      "    \"page_label\": \"58\",\n",
      "    \"page_index\": 60,\n",
      "    \"parent_section\": \"Examination Procedures\",\n",
      "    \"file\": \"pub-ch-model-risk.pdf\"\n",
      "  },\n",
      "  {\n",
      "    \"section_title\": \"Quantity of Risk\",\n",
      "    \"page_label\": \"55\",\n",
      "    \"page_index\": 57,\n",
      "    \"parent_section\": \"Examination Procedures\",\n",
      "    \"file\": \"pub-ch-model-risk.pdf\"\n",
      "  },\n",
      "  {\n",
      "    \"section_title\": \"Documentation\",\n",
      "    \"page_label\": \"28\",\n",
      "    \"page_index\": 30,\n",
      "    \"parent_section\": \"Personnel\",\n",
      "    \"file\": \"pub-ch-model-risk.pdf\"\n",
      "  },\n",
      "  {\n",
      "    \"section_title\": \"Credit Risk\",\n",
      "    \"page_label\": \"9\",\n",
      "    \"page_index\": 11,\n",
      "    \"parent_section\": \"Risks Associated With the Use of Models\",\n",
      "    \"file\": \"pub-ch-model-risk.pdf\"\n",
      "  }\n",
      "]\n"
     ]
    }
   ],
   "source": [
    "inputs = {\"question\": \"How about for a credit scoring model?\"}\n",
    "result = final_chain.invoke(inputs)\n",
    "print(result[\"answer\"].content)\n",
    "print(\"source documents:\\n\", json.dumps([doc.metadata for doc in  result[\"docs\"]], indent=2))\n",
    "\n",
    "memory.save_context(inputs, {\"answer\": result[\"answer\"].content})"
   ]
  },
  {
   "cell_type": "markdown",
   "metadata": {},
   "source": [
    "### Clean up\n",
    "You have reached the end of this workshop. Following cell will delete all created resources.\n"
   ]
  },
  {
   "cell_type": "code",
   "execution_count": null,
   "metadata": {
    "tags": []
   },
   "outputs": [],
   "source": [
    "!rm -rf local_config.json section_doc_store_*.pkl section_vector_store_*.pkl"
   ]
  },
  {
   "cell_type": "markdown",
   "metadata": {},
   "source": [
    "## Conclusion\n",
    "In the above implementation of RAG based Question Answering and Conversational AI, we have explored the following concepts and how to implement them using the LangChain integrations for Amazon Bedrock and a local vector store:\n",
    "\n",
    "- Loading documents and processing them into smaller chunks\n",
    "- Creating a vector store using FAISS\n",
    "- Generating embeddings with an embeddings model\n",
    "- Searching the vector store to retrieve context relevant to the question\n",
    "- Performing Generative Question Answering using foundation models\n",
    "- Improving trust in our system by providing citations with every answer\n",
    "- Preparing prompt templates to use as input to the LLM\n",
    "- Storing conversation memory and providing the history as context to the LLM\n",
    "\n",
    "### Next steps\n",
    "- Experiment with different vector stores\n",
    "- Leverage various text and embedding models available through Amazon Bedrock to see alternate outputs\n",
    "- Explore options such as persistent storage of embeddings and document chunks\n",
    "- Use Amazon Bedrock Knowledge Bases, a fully managed RAG capability with built-in session context management\n",
    "\n",
    "# Thank You"
   ]
  },
  {
   "cell_type": "markdown",
   "metadata": {},
   "source": []
  }
 ],
 "metadata": {
  "availableInstances": [
   {
    "_defaultOrder": 0,
    "_isFastLaunch": true,
    "category": "General purpose",
    "gpuNum": 0,
    "hideHardwareSpecs": false,
    "memoryGiB": 4,
    "name": "ml.t3.medium",
    "vcpuNum": 2
   },
   {
    "_defaultOrder": 1,
    "_isFastLaunch": false,
    "category": "General purpose",
    "gpuNum": 0,
    "hideHardwareSpecs": false,
    "memoryGiB": 8,
    "name": "ml.t3.large",
    "vcpuNum": 2
   },
   {
    "_defaultOrder": 2,
    "_isFastLaunch": false,
    "category": "General purpose",
    "gpuNum": 0,
    "hideHardwareSpecs": false,
    "memoryGiB": 16,
    "name": "ml.t3.xlarge",
    "vcpuNum": 4
   },
   {
    "_defaultOrder": 3,
    "_isFastLaunch": false,
    "category": "General purpose",
    "gpuNum": 0,
    "hideHardwareSpecs": false,
    "memoryGiB": 32,
    "name": "ml.t3.2xlarge",
    "vcpuNum": 8
   },
   {
    "_defaultOrder": 4,
    "_isFastLaunch": true,
    "category": "General purpose",
    "gpuNum": 0,
    "hideHardwareSpecs": false,
    "memoryGiB": 8,
    "name": "ml.m5.large",
    "vcpuNum": 2
   },
   {
    "_defaultOrder": 5,
    "_isFastLaunch": false,
    "category": "General purpose",
    "gpuNum": 0,
    "hideHardwareSpecs": false,
    "memoryGiB": 16,
    "name": "ml.m5.xlarge",
    "vcpuNum": 4
   },
   {
    "_defaultOrder": 6,
    "_isFastLaunch": false,
    "category": "General purpose",
    "gpuNum": 0,
    "hideHardwareSpecs": false,
    "memoryGiB": 32,
    "name": "ml.m5.2xlarge",
    "vcpuNum": 8
   },
   {
    "_defaultOrder": 7,
    "_isFastLaunch": false,
    "category": "General purpose",
    "gpuNum": 0,
    "hideHardwareSpecs": false,
    "memoryGiB": 64,
    "name": "ml.m5.4xlarge",
    "vcpuNum": 16
   },
   {
    "_defaultOrder": 8,
    "_isFastLaunch": false,
    "category": "General purpose",
    "gpuNum": 0,
    "hideHardwareSpecs": false,
    "memoryGiB": 128,
    "name": "ml.m5.8xlarge",
    "vcpuNum": 32
   },
   {
    "_defaultOrder": 9,
    "_isFastLaunch": false,
    "category": "General purpose",
    "gpuNum": 0,
    "hideHardwareSpecs": false,
    "memoryGiB": 192,
    "name": "ml.m5.12xlarge",
    "vcpuNum": 48
   },
   {
    "_defaultOrder": 10,
    "_isFastLaunch": false,
    "category": "General purpose",
    "gpuNum": 0,
    "hideHardwareSpecs": false,
    "memoryGiB": 256,
    "name": "ml.m5.16xlarge",
    "vcpuNum": 64
   },
   {
    "_defaultOrder": 11,
    "_isFastLaunch": false,
    "category": "General purpose",
    "gpuNum": 0,
    "hideHardwareSpecs": false,
    "memoryGiB": 384,
    "name": "ml.m5.24xlarge",
    "vcpuNum": 96
   },
   {
    "_defaultOrder": 12,
    "_isFastLaunch": false,
    "category": "General purpose",
    "gpuNum": 0,
    "hideHardwareSpecs": false,
    "memoryGiB": 8,
    "name": "ml.m5d.large",
    "vcpuNum": 2
   },
   {
    "_defaultOrder": 13,
    "_isFastLaunch": false,
    "category": "General purpose",
    "gpuNum": 0,
    "hideHardwareSpecs": false,
    "memoryGiB": 16,
    "name": "ml.m5d.xlarge",
    "vcpuNum": 4
   },
   {
    "_defaultOrder": 14,
    "_isFastLaunch": false,
    "category": "General purpose",
    "gpuNum": 0,
    "hideHardwareSpecs": false,
    "memoryGiB": 32,
    "name": "ml.m5d.2xlarge",
    "vcpuNum": 8
   },
   {
    "_defaultOrder": 15,
    "_isFastLaunch": false,
    "category": "General purpose",
    "gpuNum": 0,
    "hideHardwareSpecs": false,
    "memoryGiB": 64,
    "name": "ml.m5d.4xlarge",
    "vcpuNum": 16
   },
   {
    "_defaultOrder": 16,
    "_isFastLaunch": false,
    "category": "General purpose",
    "gpuNum": 0,
    "hideHardwareSpecs": false,
    "memoryGiB": 128,
    "name": "ml.m5d.8xlarge",
    "vcpuNum": 32
   },
   {
    "_defaultOrder": 17,
    "_isFastLaunch": false,
    "category": "General purpose",
    "gpuNum": 0,
    "hideHardwareSpecs": false,
    "memoryGiB": 192,
    "name": "ml.m5d.12xlarge",
    "vcpuNum": 48
   },
   {
    "_defaultOrder": 18,
    "_isFastLaunch": false,
    "category": "General purpose",
    "gpuNum": 0,
    "hideHardwareSpecs": false,
    "memoryGiB": 256,
    "name": "ml.m5d.16xlarge",
    "vcpuNum": 64
   },
   {
    "_defaultOrder": 19,
    "_isFastLaunch": false,
    "category": "General purpose",
    "gpuNum": 0,
    "hideHardwareSpecs": false,
    "memoryGiB": 384,
    "name": "ml.m5d.24xlarge",
    "vcpuNum": 96
   },
   {
    "_defaultOrder": 20,
    "_isFastLaunch": false,
    "category": "General purpose",
    "gpuNum": 0,
    "hideHardwareSpecs": true,
    "memoryGiB": 0,
    "name": "ml.geospatial.interactive",
    "supportedImageNames": [
     "sagemaker-geospatial-v1-0"
    ],
    "vcpuNum": 0
   },
   {
    "_defaultOrder": 21,
    "_isFastLaunch": true,
    "category": "Compute optimized",
    "gpuNum": 0,
    "hideHardwareSpecs": false,
    "memoryGiB": 4,
    "name": "ml.c5.large",
    "vcpuNum": 2
   },
   {
    "_defaultOrder": 22,
    "_isFastLaunch": false,
    "category": "Compute optimized",
    "gpuNum": 0,
    "hideHardwareSpecs": false,
    "memoryGiB": 8,
    "name": "ml.c5.xlarge",
    "vcpuNum": 4
   },
   {
    "_defaultOrder": 23,
    "_isFastLaunch": false,
    "category": "Compute optimized",
    "gpuNum": 0,
    "hideHardwareSpecs": false,
    "memoryGiB": 16,
    "name": "ml.c5.2xlarge",
    "vcpuNum": 8
   },
   {
    "_defaultOrder": 24,
    "_isFastLaunch": false,
    "category": "Compute optimized",
    "gpuNum": 0,
    "hideHardwareSpecs": false,
    "memoryGiB": 32,
    "name": "ml.c5.4xlarge",
    "vcpuNum": 16
   },
   {
    "_defaultOrder": 25,
    "_isFastLaunch": false,
    "category": "Compute optimized",
    "gpuNum": 0,
    "hideHardwareSpecs": false,
    "memoryGiB": 72,
    "name": "ml.c5.9xlarge",
    "vcpuNum": 36
   },
   {
    "_defaultOrder": 26,
    "_isFastLaunch": false,
    "category": "Compute optimized",
    "gpuNum": 0,
    "hideHardwareSpecs": false,
    "memoryGiB": 96,
    "name": "ml.c5.12xlarge",
    "vcpuNum": 48
   },
   {
    "_defaultOrder": 27,
    "_isFastLaunch": false,
    "category": "Compute optimized",
    "gpuNum": 0,
    "hideHardwareSpecs": false,
    "memoryGiB": 144,
    "name": "ml.c5.18xlarge",
    "vcpuNum": 72
   },
   {
    "_defaultOrder": 28,
    "_isFastLaunch": false,
    "category": "Compute optimized",
    "gpuNum": 0,
    "hideHardwareSpecs": false,
    "memoryGiB": 192,
    "name": "ml.c5.24xlarge",
    "vcpuNum": 96
   },
   {
    "_defaultOrder": 29,
    "_isFastLaunch": true,
    "category": "Accelerated computing",
    "gpuNum": 1,
    "hideHardwareSpecs": false,
    "memoryGiB": 16,
    "name": "ml.g4dn.xlarge",
    "vcpuNum": 4
   },
   {
    "_defaultOrder": 30,
    "_isFastLaunch": false,
    "category": "Accelerated computing",
    "gpuNum": 1,
    "hideHardwareSpecs": false,
    "memoryGiB": 32,
    "name": "ml.g4dn.2xlarge",
    "vcpuNum": 8
   },
   {
    "_defaultOrder": 31,
    "_isFastLaunch": false,
    "category": "Accelerated computing",
    "gpuNum": 1,
    "hideHardwareSpecs": false,
    "memoryGiB": 64,
    "name": "ml.g4dn.4xlarge",
    "vcpuNum": 16
   },
   {
    "_defaultOrder": 32,
    "_isFastLaunch": false,
    "category": "Accelerated computing",
    "gpuNum": 1,
    "hideHardwareSpecs": false,
    "memoryGiB": 128,
    "name": "ml.g4dn.8xlarge",
    "vcpuNum": 32
   },
   {
    "_defaultOrder": 33,
    "_isFastLaunch": false,
    "category": "Accelerated computing",
    "gpuNum": 4,
    "hideHardwareSpecs": false,
    "memoryGiB": 192,
    "name": "ml.g4dn.12xlarge",
    "vcpuNum": 48
   },
   {
    "_defaultOrder": 34,
    "_isFastLaunch": false,
    "category": "Accelerated computing",
    "gpuNum": 1,
    "hideHardwareSpecs": false,
    "memoryGiB": 256,
    "name": "ml.g4dn.16xlarge",
    "vcpuNum": 64
   },
   {
    "_defaultOrder": 35,
    "_isFastLaunch": false,
    "category": "Accelerated computing",
    "gpuNum": 1,
    "hideHardwareSpecs": false,
    "memoryGiB": 61,
    "name": "ml.p3.2xlarge",
    "vcpuNum": 8
   },
   {
    "_defaultOrder": 36,
    "_isFastLaunch": false,
    "category": "Accelerated computing",
    "gpuNum": 4,
    "hideHardwareSpecs": false,
    "memoryGiB": 244,
    "name": "ml.p3.8xlarge",
    "vcpuNum": 32
   },
   {
    "_defaultOrder": 37,
    "_isFastLaunch": false,
    "category": "Accelerated computing",
    "gpuNum": 8,
    "hideHardwareSpecs": false,
    "memoryGiB": 488,
    "name": "ml.p3.16xlarge",
    "vcpuNum": 64
   },
   {
    "_defaultOrder": 38,
    "_isFastLaunch": false,
    "category": "Accelerated computing",
    "gpuNum": 8,
    "hideHardwareSpecs": false,
    "memoryGiB": 768,
    "name": "ml.p3dn.24xlarge",
    "vcpuNum": 96
   },
   {
    "_defaultOrder": 39,
    "_isFastLaunch": false,
    "category": "Memory Optimized",
    "gpuNum": 0,
    "hideHardwareSpecs": false,
    "memoryGiB": 16,
    "name": "ml.r5.large",
    "vcpuNum": 2
   },
   {
    "_defaultOrder": 40,
    "_isFastLaunch": false,
    "category": "Memory Optimized",
    "gpuNum": 0,
    "hideHardwareSpecs": false,
    "memoryGiB": 32,
    "name": "ml.r5.xlarge",
    "vcpuNum": 4
   },
   {
    "_defaultOrder": 41,
    "_isFastLaunch": false,
    "category": "Memory Optimized",
    "gpuNum": 0,
    "hideHardwareSpecs": false,
    "memoryGiB": 64,
    "name": "ml.r5.2xlarge",
    "vcpuNum": 8
   },
   {
    "_defaultOrder": 42,
    "_isFastLaunch": false,
    "category": "Memory Optimized",
    "gpuNum": 0,
    "hideHardwareSpecs": false,
    "memoryGiB": 128,
    "name": "ml.r5.4xlarge",
    "vcpuNum": 16
   },
   {
    "_defaultOrder": 43,
    "_isFastLaunch": false,
    "category": "Memory Optimized",
    "gpuNum": 0,
    "hideHardwareSpecs": false,
    "memoryGiB": 256,
    "name": "ml.r5.8xlarge",
    "vcpuNum": 32
   },
   {
    "_defaultOrder": 44,
    "_isFastLaunch": false,
    "category": "Memory Optimized",
    "gpuNum": 0,
    "hideHardwareSpecs": false,
    "memoryGiB": 384,
    "name": "ml.r5.12xlarge",
    "vcpuNum": 48
   },
   {
    "_defaultOrder": 45,
    "_isFastLaunch": false,
    "category": "Memory Optimized",
    "gpuNum": 0,
    "hideHardwareSpecs": false,
    "memoryGiB": 512,
    "name": "ml.r5.16xlarge",
    "vcpuNum": 64
   },
   {
    "_defaultOrder": 46,
    "_isFastLaunch": false,
    "category": "Memory Optimized",
    "gpuNum": 0,
    "hideHardwareSpecs": false,
    "memoryGiB": 768,
    "name": "ml.r5.24xlarge",
    "vcpuNum": 96
   },
   {
    "_defaultOrder": 47,
    "_isFastLaunch": false,
    "category": "Accelerated computing",
    "gpuNum": 1,
    "hideHardwareSpecs": false,
    "memoryGiB": 16,
    "name": "ml.g5.xlarge",
    "vcpuNum": 4
   },
   {
    "_defaultOrder": 48,
    "_isFastLaunch": false,
    "category": "Accelerated computing",
    "gpuNum": 1,
    "hideHardwareSpecs": false,
    "memoryGiB": 32,
    "name": "ml.g5.2xlarge",
    "vcpuNum": 8
   },
   {
    "_defaultOrder": 49,
    "_isFastLaunch": false,
    "category": "Accelerated computing",
    "gpuNum": 1,
    "hideHardwareSpecs": false,
    "memoryGiB": 64,
    "name": "ml.g5.4xlarge",
    "vcpuNum": 16
   },
   {
    "_defaultOrder": 50,
    "_isFastLaunch": false,
    "category": "Accelerated computing",
    "gpuNum": 1,
    "hideHardwareSpecs": false,
    "memoryGiB": 128,
    "name": "ml.g5.8xlarge",
    "vcpuNum": 32
   },
   {
    "_defaultOrder": 51,
    "_isFastLaunch": false,
    "category": "Accelerated computing",
    "gpuNum": 1,
    "hideHardwareSpecs": false,
    "memoryGiB": 256,
    "name": "ml.g5.16xlarge",
    "vcpuNum": 64
   },
   {
    "_defaultOrder": 52,
    "_isFastLaunch": false,
    "category": "Accelerated computing",
    "gpuNum": 4,
    "hideHardwareSpecs": false,
    "memoryGiB": 192,
    "name": "ml.g5.12xlarge",
    "vcpuNum": 48
   },
   {
    "_defaultOrder": 53,
    "_isFastLaunch": false,
    "category": "Accelerated computing",
    "gpuNum": 4,
    "hideHardwareSpecs": false,
    "memoryGiB": 384,
    "name": "ml.g5.24xlarge",
    "vcpuNum": 96
   },
   {
    "_defaultOrder": 54,
    "_isFastLaunch": false,
    "category": "Accelerated computing",
    "gpuNum": 8,
    "hideHardwareSpecs": false,
    "memoryGiB": 768,
    "name": "ml.g5.48xlarge",
    "vcpuNum": 192
   },
   {
    "_defaultOrder": 55,
    "_isFastLaunch": false,
    "category": "Accelerated computing",
    "gpuNum": 8,
    "hideHardwareSpecs": false,
    "memoryGiB": 1152,
    "name": "ml.p4d.24xlarge",
    "vcpuNum": 96
   },
   {
    "_defaultOrder": 56,
    "_isFastLaunch": false,
    "category": "Accelerated computing",
    "gpuNum": 8,
    "hideHardwareSpecs": false,
    "memoryGiB": 1152,
    "name": "ml.p4de.24xlarge",
    "vcpuNum": 96
   },
   {
    "_defaultOrder": 57,
    "_isFastLaunch": false,
    "category": "Accelerated computing",
    "gpuNum": 0,
    "hideHardwareSpecs": false,
    "memoryGiB": 32,
    "name": "ml.trn1.2xlarge",
    "vcpuNum": 8
   },
   {
    "_defaultOrder": 58,
    "_isFastLaunch": false,
    "category": "Accelerated computing",
    "gpuNum": 0,
    "hideHardwareSpecs": false,
    "memoryGiB": 512,
    "name": "ml.trn1.32xlarge",
    "vcpuNum": 128
   },
   {
    "_defaultOrder": 59,
    "_isFastLaunch": false,
    "category": "Accelerated computing",
    "gpuNum": 0,
    "hideHardwareSpecs": false,
    "memoryGiB": 512,
    "name": "ml.trn1n.32xlarge",
    "vcpuNum": 128
   }
  ],
  "instance_type": "ml.t3.medium",
  "kernelspec": {
   "display_name": "Python 3 (ipykernel)",
   "language": "python",
   "name": "python3"
  },
  "language_info": {
   "codemirror_mode": {
    "name": "ipython",
    "version": 3
   },
   "file_extension": ".py",
   "mimetype": "text/x-python",
   "name": "python",
   "nbconvert_exporter": "python",
   "pygments_lexer": "ipython3",
   "version": "3.10.14"
  }
 },
 "nbformat": 4,
 "nbformat_minor": 4
}
