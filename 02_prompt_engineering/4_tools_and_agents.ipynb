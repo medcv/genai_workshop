{
 "cells": [
  {
   "cell_type": "markdown",
   "id": "88a5ab2f-d044-4956-b75b-7408d9c3e323",
   "metadata": {},
   "source": [
    "# Retrieval Augmented Generation with Amazon Bedrock - Retrieving Data Automatically from APIs\n",
    "\n",
    "> *PLEASE NOTE: This notebook should work well with the **`Data Science 3.0`** kernel in SageMaker Studio*\n",
    "\n",
    "---\n",
    "\n",
    "Throughout this workshop so far, we have been working with unstructured text retrieval via semantic similarity search. However, another important type of retrieval which customers can take advantage of with Amazon Bedrock is **structured data retrieval** from APIs. Structured data retrieval is extremely useful for augmenting LLM applications with up to date information which can be retrieved in a repeatable manner, but the outputs are always changing. An example of a question you might ask an LLM which uses this type of retrieval might be \"How long will it take for my Amazon.com order containing socks to arrive?\". In this notebook, we will show how to integrate an LLM with a backend API service which has the ability to answer a user's question through RAG.\n",
    "\n",
    "Specifically, we will be building a tool which is able to tell you the weather based on natural language. This is a fairly trivial example, but it does a good job of showing how multiple API tools can be used by an LLM to retrieve dynamic data to augment a prompt. Here is a visual of the architecture we will be building today.\n",
    "\n",
    "![api](./images/api.png)\n",
    "\n",
    "Let's get started!"
   ]
  },
  {
   "cell_type": "markdown",
   "id": "4c7cced6",
   "metadata": {},
   "source": [
    "---\n",
    "## Setup"
   ]
  },
  {
   "cell_type": "code",
   "execution_count": 1,
   "id": "789d7993",
   "metadata": {},
   "outputs": [
    {
     "name": "stdout",
     "output_type": "stream",
     "text": [
      "Validating base environment\n",
      "Base environment validated successfully\n"
     ]
    },
    {
     "data": {
      "text/html": [
       "<pre style=\"white-space:pre;overflow-x:auto;line-height:normal;font-family:Menlo,'DejaVu Sans Mono',consolas,'Courier New',monospace\"><span style=\"color: #4cc9f0; text-decoration-color: #4cc9f0; font-weight: bold\">Validating lab environment from requirements.txt</span> ✨\n",
       "</pre>\n"
      ],
      "text/plain": [
       "\u001b[1;38;2;76;201;240mValidating lab environment from requirements.txt\u001b[0m ✨\n"
      ]
     },
     "metadata": {},
     "output_type": "display_data"
    },
    {
     "data": {
      "text/html": [
       "<pre style=\"white-space:pre;overflow-x:auto;line-height:normal;font-family:Menlo,'DejaVu Sans Mono',consolas,'Courier New',monospace\"><span style=\"color: #e85d04; text-decoration-color: #e85d04; font-weight: bold; text-decoration: underline\">ENVIRONMENT STATUS</span>\n",
       "✅ <span style=\"color: #008000; text-decoration-color: #008000\"> </span><span style=\"color: #008000; text-decoration-color: #008000\">langchain</span><span style=\"color: #008000; text-decoration-color: #008000\">==</span><span style=\"color: #008000; text-decoration-color: #008000; font-weight: bold\">0.1</span><span style=\"color: #008000; text-decoration-color: #008000\">.</span><span style=\"color: #008000; text-decoration-color: #008000; font-weight: bold\">14</span><span style=\"color: #008000; text-decoration-color: #008000\"> is installed</span>\n",
       "✅ <span style=\"color: #008000; text-decoration-color: #008000\"> langchain-aws is installed</span>\n",
       "✅ <span style=\"color: #008000; text-decoration-color: #008000\"> sqlalchemy is installed</span>\n",
       "✅ <span style=\"color: #008000; text-decoration-color: #008000\"> pypdf&gt;=</span><span style=\"color: #008000; text-decoration-color: #008000; font-weight: bold\">3.8</span><span style=\"color: #008000; text-decoration-color: #008000\">,&lt;</span><span style=\"color: #008000; text-decoration-color: #008000; font-weight: bold\">4</span><span style=\"color: #008000; text-decoration-color: #008000\"> is installed</span>\n",
       "✅ <span style=\"color: #008000; text-decoration-color: #008000\"> datasets is installed</span>\n",
       "✅ <span style=\"color: #008000; text-decoration-color: #008000\"> matplotlib is installed</span>\n",
       "✅ <span style=\"color: #008000; text-decoration-color: #008000\"> pymupdf  is installed</span>\n",
       "✅ <span style=\"color: #008000; text-decoration-color: #008000\"> </span><span style=\"color: #008000; text-decoration-color: #008000\">xmltodict</span><span style=\"color: #008000; text-decoration-color: #008000\">==</span><span style=\"color: #008000; text-decoration-color: #008000; font-weight: bold\">0.13</span><span style=\"color: #008000; text-decoration-color: #008000\">.</span><span style=\"color: #008000; text-decoration-color: #008000; font-weight: bold\">0</span><span style=\"color: #008000; text-decoration-color: #008000\"> is installed</span>\n",
       "✅ <span style=\"color: #008000; text-decoration-color: #008000\"> duckduckgo-search is installed</span>\n",
       "✅ <span style=\"color: #008000; text-decoration-color: #008000\"> yfinance is installed</span>\n",
       "✅ <span style=\"color: #008000; text-decoration-color: #008000\"> pandas-datareader is installed</span>\n",
       "✅ <span style=\"color: #008000; text-decoration-color: #008000\"> pysqlite3 is installed</span>\n",
       "\n",
       "</pre>\n"
      ],
      "text/plain": [
       "\u001b[1;4;38;2;232;93;4mENVIRONMENT STATUS\u001b[0m\n",
       "✅ \u001b[32m \u001b[0m\u001b[32mlangchain\u001b[0m\u001b[32m==\u001b[0m\u001b[1;32m0.1\u001b[0m\u001b[32m.\u001b[0m\u001b[1;32m14\u001b[0m\u001b[32m is installed\u001b[0m\n",
       "✅ \u001b[32m langchain-aws is installed\u001b[0m\n",
       "✅ \u001b[32m sqlalchemy is installed\u001b[0m\n",
       "✅ \u001b[32m pypdf>=\u001b[0m\u001b[1;32m3.8\u001b[0m\u001b[32m,<\u001b[0m\u001b[1;32m4\u001b[0m\u001b[32m is installed\u001b[0m\n",
       "✅ \u001b[32m datasets is installed\u001b[0m\n",
       "✅ \u001b[32m matplotlib is installed\u001b[0m\n",
       "✅ \u001b[32m pymupdf  is installed\u001b[0m\n",
       "✅ \u001b[32m \u001b[0m\u001b[32mxmltodict\u001b[0m\u001b[32m==\u001b[0m\u001b[1;32m0.13\u001b[0m\u001b[32m.\u001b[0m\u001b[1;32m0\u001b[0m\u001b[32m is installed\u001b[0m\n",
       "✅ \u001b[32m duckduckgo-search is installed\u001b[0m\n",
       "✅ \u001b[32m yfinance is installed\u001b[0m\n",
       "✅ \u001b[32m pandas-datareader is installed\u001b[0m\n",
       "✅ \u001b[32m pysqlite3 is installed\u001b[0m\n",
       "\n"
      ]
     },
     "metadata": {},
     "output_type": "display_data"
    },
    {
     "data": {
      "text/html": [
       "<pre style=\"white-space:pre;overflow-x:auto;line-height:normal;font-family:Menlo,'DejaVu Sans Mono',consolas,'Courier New',monospace\"><span style=\"color: #a7c957; text-decoration-color: #a7c957\">All required libraries are installed.🎉</span>\n",
       "<span style=\"color: #a7c957; text-decoration-color: #a7c957\">You may proceed with the lab! 🚀</span>\n",
       "</pre>\n"
      ],
      "text/plain": [
       "\u001b[38;2;167;201;87mAll required libraries are installed.🎉\u001b[0m\n",
       "\u001b[38;2;167;201;87mYou may proceed with the lab! 🚀\u001b[0m\n"
      ]
     },
     "metadata": {},
     "output_type": "display_data"
    }
   ],
   "source": [
    "import sys\n",
    "import os\n",
    "module_path = \"..\"\n",
    "sys.path.append(os.path.abspath(module_path))\n",
    "from utils.environment_validation import validate_environment, validate_model_access\n",
    "validate_environment()"
   ]
  },
  {
   "cell_type": "code",
   "execution_count": 2,
   "id": "0f7ac361",
   "metadata": {},
   "outputs": [
    {
     "data": {
      "text/html": [
       "<pre style=\"white-space:pre;overflow-x:auto;line-height:normal;font-family:Menlo,'DejaVu Sans Mono',consolas,'Courier New',monospace\"><span style=\"color: #e85d04; text-decoration-color: #e85d04; font-weight: bold; text-decoration: underline\">MODEL ACCESS STATUS</span>\n",
       "✅ <span style=\"color: #008000; text-decoration-color: #008000\"> amazon.titan-embed-text-v1 is accessible</span>\n",
       "✅ <span style=\"color: #008000; text-decoration-color: #008000\"> anthropic.claude-</span><span style=\"color: #008000; text-decoration-color: #008000; font-weight: bold\">3</span><span style=\"color: #008000; text-decoration-color: #008000\">-sonnet-</span><span style=\"color: #008000; text-decoration-color: #008000; font-weight: bold\">20240229</span><span style=\"color: #008000; text-decoration-color: #008000\">-v</span><span style=\"color: #008000; text-decoration-color: #008000; font-weight: bold\">1:0</span><span style=\"color: #008000; text-decoration-color: #008000\"> is accessible</span>\n",
       "✅ <span style=\"color: #008000; text-decoration-color: #008000\"> anthropic.claude-</span><span style=\"color: #008000; text-decoration-color: #008000; font-weight: bold\">3</span><span style=\"color: #008000; text-decoration-color: #008000\">-haiku-</span><span style=\"color: #008000; text-decoration-color: #008000; font-weight: bold\">20240307</span><span style=\"color: #008000; text-decoration-color: #008000\">-v</span><span style=\"color: #008000; text-decoration-color: #008000; font-weight: bold\">1:0</span><span style=\"color: #008000; text-decoration-color: #008000\"> is accessible</span>\n",
       "\n",
       "</pre>\n"
      ],
      "text/plain": [
       "\u001b[1;4;38;2;232;93;4mMODEL ACCESS STATUS\u001b[0m\n",
       "✅ \u001b[32m amazon.titan-embed-text-v1 is accessible\u001b[0m\n",
       "✅ \u001b[32m anthropic.claude-\u001b[0m\u001b[1;32m3\u001b[0m\u001b[32m-sonnet-\u001b[0m\u001b[1;32m20240229\u001b[0m\u001b[32m-v\u001b[0m\u001b[1;32m1:0\u001b[0m\u001b[32m is accessible\u001b[0m\n",
       "✅ \u001b[32m anthropic.claude-\u001b[0m\u001b[1;32m3\u001b[0m\u001b[32m-haiku-\u001b[0m\u001b[1;32m20240307\u001b[0m\u001b[32m-v\u001b[0m\u001b[1;32m1:0\u001b[0m\u001b[32m is accessible\u001b[0m\n",
       "\n"
      ]
     },
     "metadata": {},
     "output_type": "display_data"
    },
    {
     "data": {
      "text/html": [
       "<pre style=\"white-space:pre;overflow-x:auto;line-height:normal;font-family:Menlo,'DejaVu Sans Mono',consolas,'Courier New',monospace\"><span style=\"color: #a7c957; text-decoration-color: #a7c957\">All required models are accessible.🎉</span>\n",
       "<span style=\"color: #a7c957; text-decoration-color: #a7c957\">You may proceed with the lab! 🚀</span>\n",
       "</pre>\n"
      ],
      "text/plain": [
       "\u001b[38;2;167;201;87mAll required models are accessible.🎉\u001b[0m\n",
       "\u001b[38;2;167;201;87mYou may proceed with the lab! 🚀\u001b[0m\n"
      ]
     },
     "metadata": {},
     "output_type": "display_data"
    }
   ],
   "source": [
    "required_models = [\n",
    "    \"amazon.titan-embed-text-v1\",\n",
    "    \"anthropic.claude-3-sonnet-20240229-v1:0\",\n",
    "    \"anthropic.claude-3-haiku-20240307-v1:0\",\n",
    "]\n",
    "validate_model_access(required_models)"
   ]
  },
  {
   "cell_type": "code",
   "execution_count": 3,
   "id": "85063bca",
   "metadata": {
    "tags": []
   },
   "outputs": [
    {
     "name": "stdout",
     "output_type": "stream",
     "text": [
      "Create new client\n",
      "  Using region: us-east-1\n",
      "boto3 Bedrock client successfully created!\n",
      "bedrock-runtime(https://bedrock-runtime.us-east-1.amazonaws.com)\n"
     ]
    }
   ],
   "source": [
    "import json\n",
    "\n",
    "import boto3\n",
    "import botocore\n",
    "\n",
    "import xmltodict\n",
    "from rich import print as rprint\n",
    "\n",
    "from utils import bedrock\n",
    "from utils.prompt_utils import extract_docstring_info, construct_format_tool_for_claude_prompt, prompts_to_messages_converse\n",
    "\n",
    "boto3_bedrock = bedrock.get_bedrock_client(\n",
    "    assumed_role=os.environ.get(\"BEDROCK_ASSUME_ROLE\", None),\n",
    "    region=os.environ.get(\"AWS_DEFAULT_REGION\", None)\n",
    ")"
   ]
  },
  {
   "cell_type": "markdown",
   "id": "909f3e58",
   "metadata": {},
   "source": [
    "---\n",
    "## Defining the API Tools\n",
    "\n",
    "The first thing we need to do for our LLM is define the tools it has access to. In this case we will be defining local Python functions, but it is important to note that these could be any type of application service. Examples of what these tools might be on AWS include...\n",
    "\n",
    "* An AWS Lambda function\n",
    "* An Amazon RDS database connection\n",
    "* An Amazon DynamnoDB table\n",
    "  \n",
    "More generic examples include...\n",
    "\n",
    "* REST APIs\n",
    "* Data warehouses, data lakes, and databases\n",
    "* Computation engines\n",
    "\n",
    "In this case, we define two tools which reach external APIs below with two python functions\n",
    "1. the ability to retrieve the latitude and longitude of a place given a natural language input\n",
    "2. the ability to retrieve the weather given an input latitude and longitude"
   ]
  },
  {
   "cell_type": "code",
   "execution_count": 4,
   "id": "e8bb0dd6",
   "metadata": {
    "tags": []
   },
   "outputs": [],
   "source": [
    "import requests\n",
    "\n",
    "def get_weather(latitude: str, longitude: str):\n",
    "    \"\"\"\n",
    "    Fetches and returns the current weather for a given latitude and longitude from the Open-Meteo API.\n",
    "\n",
    "    Args:\n",
    "        latitude (str): The latitude of the location to fetch the weather for.\n",
    "        longitude (str): The longitude of the location to fetch the weather for.\n",
    "\n",
    "    Returns:\n",
    "        dict: A dictionary containing the current weather data for the given location.\n",
    "    \"\"\"\n",
    "    \n",
    "    \n",
    "    url = f\"https://api.open-meteo.com/v1/forecast?latitude={latitude}&longitude={longitude}&current_weather=true\"\n",
    "    headers = {'User-Agent': 'Mozilla/5.0'}\n",
    "    response = requests.get(url, headers=headers)\n",
    "    return response.json()\n",
    "\n",
    "def get_lat_long(place: str):\n",
    "    \n",
    "    \"\"\"\n",
    "    Fetches and returns the latitude and longitude of a given place from the Nominatim OpenStreetMap API.\n",
    "\n",
    "    Args:\n",
    "        place (str): The name of the place to fetch the latitude and longitude for.\n",
    "\n",
    "    Returns:\n",
    "        dict: A dictionary containing the latitude and longitude of the given place, or None if the place was not found.\n",
    "    \"\"\"\n",
    "    \n",
    "    url = \"https://nominatim.openstreetmap.org/search\"\n",
    "    params = {'q': place, 'format': 'json', 'limit': 1}\n",
    "    headers = {'User-Agent': 'Mozilla/5.0'}\n",
    "    response = requests.get(url, params=params, headers=headers).json()\n",
    "    if response:\n",
    "        lat = response[0][\"lat\"]\n",
    "        lon = response[0][\"lon\"]\n",
    "        return {\"latitude\": lat, \"longitude\": lon}\n",
    "    else:\n",
    "        return None"
   ]
  },
  {
   "cell_type": "markdown",
   "id": "4e1f2f2b",
   "metadata": {},
   "source": [
    "The [Converse](https://docs.aws.amazon.com/bedrock/latest/userguide/conversation-inference.html) api within Amazon Bedrock supports native tool usage for an array of Models from Anthropic, Mistral, and Cohere. We will use this api to have the model dynamically fetch the weather based on the user's input."
   ]
  },
  {
   "cell_type": "markdown",
   "id": "3afe2ca1",
   "metadata": {},
   "source": [
    "To help make the solution a bit more robust, we will create pydantic models for each function input. This will help us validate the input data that will be generated by the model and will also produce an json input schema that can be used to construct the tool specification"
   ]
  },
  {
   "cell_type": "code",
   "execution_count": 5,
   "id": "f76cd0ef",
   "metadata": {},
   "outputs": [],
   "source": [
    "from pydantic import BaseModel, Field"
   ]
  },
  {
   "cell_type": "code",
   "execution_count": 6,
   "id": "fcc2b2aa",
   "metadata": {},
   "outputs": [],
   "source": [
    "class GetLocationInput(BaseModel):\n",
    "    place: str = Field(..., description=\"The name of the place to fetch the latitude and longitude for.\")\n",
    "\n",
    "class GetWeatherInput(BaseModel):\n",
    "    latitude: str = Field(..., description=\"The latitude of the location to fetch the weather for.\")\n",
    "    longitude: str = Field(..., description=\"The longitude of the location to fetch the weather for.\")"
   ]
  },
  {
   "cell_type": "markdown",
   "id": "00a23f69",
   "metadata": {},
   "source": [
    "The code below will create the tool specification for the two tools we will be using in this example. For more details see [here](https://docs.aws.amazon.com/bedrock/latest/userguide/tool-use.html). "
   ]
  },
  {
   "cell_type": "code",
   "execution_count": 12,
   "id": "c3c76513",
   "metadata": {},
   "outputs": [],
   "source": [
    "tools = []\n",
    "tool_lookup = {}\n",
    "for func, inp_obj in zip(\n",
    "    [get_lat_long, get_weather], [GetLocationInput, GetWeatherInput]\n",
    "):\n",
    "    tool_lookup[func.__name__] = {\"func\": func, \"input\": inp_obj}\n",
    "    tools.append(\n",
    "        {\n",
    "            \"toolSpec\": {\n",
    "                \"name\": func.__name__,\n",
    "                \"description\": func.__doc__,\n",
    "                \"inputSchema\": {\"json\": inp_obj.model_json_schema()}, # much easier than having to write the schema manually especially for more complex functions\n",
    "            }\n",
    "        }\n",
    "    )\n",
    "tool_config = {\"tools\": tools}\n"
   ]
  },
  {
   "cell_type": "code",
   "execution_count": 23,
   "id": "bcd86749-1f5d-43c2-ab6e-90aae4ac641b",
   "metadata": {},
   "outputs": [
    {
     "name": "stdout",
     "output_type": "stream",
     "text": [
      "{\n",
      "  \"tools\": [\n",
      "    {\n",
      "      \"toolSpec\": {\n",
      "        \"name\": \"get_lat_long\",\n",
      "        \"description\": \"\\n    Fetches and returns the latitude and longitude of a given place from the Nominatim OpenStreetMap API.\\n\\n    Args:\\n        place (str): The name of the place to fetch the latitude and longitude for.\\n\\n    Returns:\\n        dict: A dictionary containing the latitude and longitude of the given place, or None if the place was not found.\\n    \",\n",
      "        \"inputSchema\": {\n",
      "          \"json\": {\n",
      "            \"properties\": {\n",
      "              \"place\": {\n",
      "                \"description\": \"The name of the place to fetch the latitude and longitude for.\",\n",
      "                \"title\": \"Place\",\n",
      "                \"type\": \"string\"\n",
      "              }\n",
      "            },\n",
      "            \"required\": [\n",
      "              \"place\"\n",
      "            ],\n",
      "            \"title\": \"GetLocationInput\",\n",
      "            \"type\": \"object\"\n",
      "          }\n",
      "        }\n",
      "      }\n",
      "    },\n",
      "    {\n",
      "      \"toolSpec\": {\n",
      "        \"name\": \"get_weather\",\n",
      "        \"description\": \"\\n    Fetches and returns the current weather for a given latitude and longitude from the Open-Meteo API.\\n\\n    Args:\\n        latitude (str): The latitude of the location to fetch the weather for.\\n        longitude (str): The longitude of the location to fetch the weather for.\\n\\n    Returns:\\n        dict: A dictionary containing the current weather data for the given location.\\n    \",\n",
      "        \"inputSchema\": {\n",
      "          \"json\": {\n",
      "            \"properties\": {\n",
      "              \"latitude\": {\n",
      "                \"description\": \"The latitude of the location to fetch the weather for.\",\n",
      "                \"title\": \"Latitude\",\n",
      "                \"type\": \"string\"\n",
      "              },\n",
      "              \"longitude\": {\n",
      "                \"description\": \"The longitude of the location to fetch the weather for.\",\n",
      "                \"title\": \"Longitude\",\n",
      "                \"type\": \"string\"\n",
      "              }\n",
      "            },\n",
      "            \"required\": [\n",
      "              \"latitude\",\n",
      "              \"longitude\"\n",
      "            ],\n",
      "            \"title\": \"GetWeatherInput\",\n",
      "            \"type\": \"object\"\n",
      "          }\n",
      "        }\n",
      "      }\n",
      "    }\n",
      "  ]\n",
      "}\n"
     ]
    }
   ],
   "source": [
    "# import pprint\n",
    "# pp =pprint.PrettyPrinter()\n",
    "# pp.pprint(tool_config)\n",
    "print(json.dumps(tool_config, indent=2))"
   ]
  },
  {
   "cell_type": "markdown",
   "id": "18203223",
   "metadata": {},
   "source": [
    "---\n",
    "## Executing the RAG Workflow\n",
    "\n",
    "Armed with our prompt and structured tools, we can now write an orchestration function which will iteratively step through the logical tasks to answer a user question. In the cell below we use the `invoke_model` function to generate a response with Claude and the `single_retriever_step` function to iteratively call tools when the LLM tells us we need to. The general flow works like this...\n",
    "\n",
    "1. The user enters an input to the application\n",
    "2. The user input is merged with the original prompt and sent to the LLM to determine the next step\n",
    "3. If the LLM knows the answer, it will answer and we are done. If not, go to next step 4.\n",
    "4. The LLM will determine which tool to use to answer the question.\n",
    "5. We will use the tool as directed by the LLM and retrieve the results.\n",
    "6. We provide the results back into the original prompt as more context.\n",
    "7. We ask the LLM the next step or if knows the answer.\n",
    "8. Return to step 3.\n",
    "\n",
    "We can orchestrate the entire workflow through a simple while loop where we continuously invoke the LLM until it has enough information to provide the final answer."
   ]
  },
  {
   "cell_type": "code",
   "execution_count": null,
   "id": "2bcb32b3-9f9d-4cec-a0f2-64c9195f177f",
   "metadata": {},
   "outputs": [],
   "source": []
  },
  {
   "cell_type": "code",
   "execution_count": 8,
   "id": "aa2a28f7",
   "metadata": {},
   "outputs": [
    {
     "data": {
      "text/html": [
       "<pre style=\"white-space:pre;overflow-x:auto;line-height:normal;font-family:Menlo,'DejaVu Sans Mono',consolas,'Courier New',monospace\"><span style=\"color: #219ebc; text-decoration-color: #219ebc; font-weight: bold\">Initial prompt:</span> <span style=\"color: #ffb703; text-decoration-color: #ffb703\">What is the weather in New York?</span>\n",
       "</pre>\n"
      ],
      "text/plain": [
       "\u001b[1;38;2;33;158;188mInitial prompt:\u001b[0m \u001b[38;2;255;183;3mWhat is the weather in New York?\u001b[0m\n"
      ]
     },
     "metadata": {},
     "output_type": "display_data"
    },
    {
     "data": {
      "text/html": [
       "<pre style=\"white-space:pre;overflow-x:auto;line-height:normal;font-family:Menlo,'DejaVu Sans Mono',consolas,'Courier New',monospace\"><span style=\"color: #219ebc; text-decoration-color: #219ebc; font-weight: bold\">Intermediate response:</span> <span style=\"color: #ffb703; text-decoration-color: #ffb703\">Okay, let's find the weather in New York:</span>\n",
       "</pre>\n"
      ],
      "text/plain": [
       "\u001b[1;38;2;33;158;188mIntermediate response:\u001b[0m \u001b[38;2;255;183;3mOkay, let's find the weather in New York:\u001b[0m\n"
      ]
     },
     "metadata": {},
     "output_type": "display_data"
    },
    {
     "data": {
      "text/html": [
       "<pre style=\"white-space:pre;overflow-x:auto;line-height:normal;font-family:Menlo,'DejaVu Sans Mono',consolas,'Courier New',monospace\"><span style=\"color: #219ebc; text-decoration-color: #219ebc; font-weight: bold\">Tool name:</span> <span style=\"color: #ffb703; text-decoration-color: #ffb703\">get_lat_long</span>\n",
       "</pre>\n"
      ],
      "text/plain": [
       "\u001b[1;38;2;33;158;188mTool name:\u001b[0m \u001b[38;2;255;183;3mget_lat_long\u001b[0m\n"
      ]
     },
     "metadata": {},
     "output_type": "display_data"
    },
    {
     "data": {
      "text/html": [
       "<pre style=\"white-space:pre;overflow-x:auto;line-height:normal;font-family:Menlo,'DejaVu Sans Mono',consolas,'Courier New',monospace\"><span style=\"color: #219ebc; text-decoration-color: #219ebc; font-weight: bold\">Tool input:</span> <span style=\"color: #ffb703; text-decoration-color: #ffb703; font-weight: bold\">{</span><span style=\"color: #ffb703; text-decoration-color: #ffb703\">'place'</span><span style=\"color: #ffb703; text-decoration-color: #ffb703\">: </span><span style=\"color: #ffb703; text-decoration-color: #ffb703\">'New York'</span><span style=\"color: #ffb703; text-decoration-color: #ffb703; font-weight: bold\">}</span>\n",
       "</pre>\n"
      ],
      "text/plain": [
       "\u001b[1;38;2;33;158;188mTool input:\u001b[0m \u001b[1;38;2;255;183;3m{\u001b[0m\u001b[38;2;255;183;3m'place'\u001b[0m\u001b[38;2;255;183;3m: \u001b[0m\u001b[38;2;255;183;3m'New York'\u001b[0m\u001b[1;38;2;255;183;3m}\u001b[0m\n"
      ]
     },
     "metadata": {},
     "output_type": "display_data"
    },
    {
     "data": {
      "text/html": [
       "<pre style=\"white-space:pre;overflow-x:auto;line-height:normal;font-family:Menlo,'DejaVu Sans Mono',consolas,'Courier New',monospace\"><span style=\"color: #219ebc; text-decoration-color: #219ebc; font-weight: bold\">Tool output:</span> <span style=\"color: #ffb703; text-decoration-color: #ffb703; font-weight: bold\">{</span><span style=\"color: #ffb703; text-decoration-color: #ffb703\">'latitude'</span><span style=\"color: #ffb703; text-decoration-color: #ffb703\">: </span><span style=\"color: #ffb703; text-decoration-color: #ffb703\">'40.7127281'</span><span style=\"color: #ffb703; text-decoration-color: #ffb703\">, </span><span style=\"color: #ffb703; text-decoration-color: #ffb703\">'longitude'</span><span style=\"color: #ffb703; text-decoration-color: #ffb703\">: </span><span style=\"color: #ffb703; text-decoration-color: #ffb703\">'-74.0060152'</span><span style=\"color: #ffb703; text-decoration-color: #ffb703; font-weight: bold\">}</span>\n",
       "</pre>\n"
      ],
      "text/plain": [
       "\u001b[1;38;2;33;158;188mTool output:\u001b[0m \u001b[1;38;2;255;183;3m{\u001b[0m\u001b[38;2;255;183;3m'latitude'\u001b[0m\u001b[38;2;255;183;3m: \u001b[0m\u001b[38;2;255;183;3m'40.7127281'\u001b[0m\u001b[38;2;255;183;3m, \u001b[0m\u001b[38;2;255;183;3m'longitude'\u001b[0m\u001b[38;2;255;183;3m: \u001b[0m\u001b[38;2;255;183;3m'-74.0060152'\u001b[0m\u001b[1;38;2;255;183;3m}\u001b[0m\n"
      ]
     },
     "metadata": {},
     "output_type": "display_data"
    },
    {
     "data": {
      "text/html": [
       "<pre style=\"white-space:pre;overflow-x:auto;line-height:normal;font-family:Menlo,'DejaVu Sans Mono',consolas,'Courier New',monospace\"><span style=\"color: #219ebc; text-decoration-color: #219ebc; font-weight: bold\">Intermediate response:</span> <span style=\"color: #ffb703; text-decoration-color: #ffb703; font-weight: bold\">&lt;thinking</span><span style=\"color: #ffb703; text-decoration-color: #ffb703\">&gt;</span>\n",
       "<span style=\"color: #ffb703; text-decoration-color: #ffb703\">Now that we have the latitude and longitude for New York, we can use that to look up the current weather.</span>\n",
       "<span style=\"color: #ffb703; text-decoration-color: #ffb703\">&lt;/thinking</span><span style=\"color: #ffb703; text-decoration-color: #ffb703; font-weight: bold\">&gt;</span>\n",
       "</pre>\n"
      ],
      "text/plain": [
       "\u001b[1;38;2;33;158;188mIntermediate response:\u001b[0m \u001b[1;38;2;255;183;3m<\u001b[0m\u001b[1;38;2;255;183;3mthinking\u001b[0m\u001b[38;2;255;183;3m>\u001b[0m\n",
       "\u001b[38;2;255;183;3mNow that we have the latitude and longitude for New York, we can use that to look up the current weather.\u001b[0m\n",
       "\u001b[38;2;255;183;3m<\u001b[0m\u001b[38;2;255;183;3m/\u001b[0m\u001b[38;2;255;183;3mthinking\u001b[0m\u001b[1;38;2;255;183;3m>\u001b[0m\n"
      ]
     },
     "metadata": {},
     "output_type": "display_data"
    },
    {
     "data": {
      "text/html": [
       "<pre style=\"white-space:pre;overflow-x:auto;line-height:normal;font-family:Menlo,'DejaVu Sans Mono',consolas,'Courier New',monospace\"><span style=\"color: #219ebc; text-decoration-color: #219ebc; font-weight: bold\">Tool name:</span> <span style=\"color: #ffb703; text-decoration-color: #ffb703\">get_weather</span>\n",
       "</pre>\n"
      ],
      "text/plain": [
       "\u001b[1;38;2;33;158;188mTool name:\u001b[0m \u001b[38;2;255;183;3mget_weather\u001b[0m\n"
      ]
     },
     "metadata": {},
     "output_type": "display_data"
    },
    {
     "data": {
      "text/html": [
       "<pre style=\"white-space:pre;overflow-x:auto;line-height:normal;font-family:Menlo,'DejaVu Sans Mono',consolas,'Courier New',monospace\"><span style=\"color: #219ebc; text-decoration-color: #219ebc; font-weight: bold\">Tool input:</span> <span style=\"color: #ffb703; text-decoration-color: #ffb703; font-weight: bold\">{</span><span style=\"color: #ffb703; text-decoration-color: #ffb703\">'latitude'</span><span style=\"color: #ffb703; text-decoration-color: #ffb703\">: </span><span style=\"color: #ffb703; text-decoration-color: #ffb703\">'40.7127281'</span><span style=\"color: #ffb703; text-decoration-color: #ffb703\">, </span><span style=\"color: #ffb703; text-decoration-color: #ffb703\">'longitude'</span><span style=\"color: #ffb703; text-decoration-color: #ffb703\">: </span><span style=\"color: #ffb703; text-decoration-color: #ffb703\">'-74.0060152'</span><span style=\"color: #ffb703; text-decoration-color: #ffb703; font-weight: bold\">}</span>\n",
       "</pre>\n"
      ],
      "text/plain": [
       "\u001b[1;38;2;33;158;188mTool input:\u001b[0m \u001b[1;38;2;255;183;3m{\u001b[0m\u001b[38;2;255;183;3m'latitude'\u001b[0m\u001b[38;2;255;183;3m: \u001b[0m\u001b[38;2;255;183;3m'40.7127281'\u001b[0m\u001b[38;2;255;183;3m, \u001b[0m\u001b[38;2;255;183;3m'longitude'\u001b[0m\u001b[38;2;255;183;3m: \u001b[0m\u001b[38;2;255;183;3m'-74.0060152'\u001b[0m\u001b[1;38;2;255;183;3m}\u001b[0m\n"
      ]
     },
     "metadata": {},
     "output_type": "display_data"
    },
    {
     "data": {
      "text/html": [
       "<pre style=\"white-space:pre;overflow-x:auto;line-height:normal;font-family:Menlo,'DejaVu Sans Mono',consolas,'Courier New',monospace\"><span style=\"color: #219ebc; text-decoration-color: #219ebc; font-weight: bold\">Tool output:</span> <span style=\"color: #ffb703; text-decoration-color: #ffb703; font-weight: bold\">{</span><span style=\"color: #ffb703; text-decoration-color: #ffb703\">'latitude'</span><span style=\"color: #ffb703; text-decoration-color: #ffb703\">: </span><span style=\"color: #ffb703; text-decoration-color: #ffb703; font-weight: bold\">40.710335</span><span style=\"color: #ffb703; text-decoration-color: #ffb703\">, </span><span style=\"color: #ffb703; text-decoration-color: #ffb703\">'longitude'</span><span style=\"color: #ffb703; text-decoration-color: #ffb703\">: </span><span style=\"color: #ffb703; text-decoration-color: #ffb703; font-weight: bold\">-73.99309</span><span style=\"color: #ffb703; text-decoration-color: #ffb703\">, </span><span style=\"color: #ffb703; text-decoration-color: #ffb703\">'generationtime_ms'</span><span style=\"color: #ffb703; text-decoration-color: #ffb703\">: </span><span style=\"color: #ffb703; text-decoration-color: #ffb703; font-weight: bold\">0.04398822784423828</span><span style=\"color: #ffb703; text-decoration-color: #ffb703\">, </span>\n",
       "<span style=\"color: #ffb703; text-decoration-color: #ffb703\">'utc_offset_seconds'</span><span style=\"color: #ffb703; text-decoration-color: #ffb703\">: </span><span style=\"color: #ffb703; text-decoration-color: #ffb703; font-weight: bold\">0</span><span style=\"color: #ffb703; text-decoration-color: #ffb703\">, </span><span style=\"color: #ffb703; text-decoration-color: #ffb703\">'timezone'</span><span style=\"color: #ffb703; text-decoration-color: #ffb703\">: </span><span style=\"color: #ffb703; text-decoration-color: #ffb703\">'GMT'</span><span style=\"color: #ffb703; text-decoration-color: #ffb703\">, </span><span style=\"color: #ffb703; text-decoration-color: #ffb703\">'timezone_abbreviation'</span><span style=\"color: #ffb703; text-decoration-color: #ffb703\">: </span><span style=\"color: #ffb703; text-decoration-color: #ffb703\">'GMT'</span><span style=\"color: #ffb703; text-decoration-color: #ffb703\">, </span><span style=\"color: #ffb703; text-decoration-color: #ffb703\">'elevation'</span><span style=\"color: #ffb703; text-decoration-color: #ffb703\">: </span><span style=\"color: #ffb703; text-decoration-color: #ffb703; font-weight: bold\">32.0</span><span style=\"color: #ffb703; text-decoration-color: #ffb703\">, </span>\n",
       "<span style=\"color: #ffb703; text-decoration-color: #ffb703\">'current_weather_units'</span><span style=\"color: #ffb703; text-decoration-color: #ffb703\">: </span><span style=\"color: #ffb703; text-decoration-color: #ffb703; font-weight: bold\">{</span><span style=\"color: #ffb703; text-decoration-color: #ffb703\">'time'</span><span style=\"color: #ffb703; text-decoration-color: #ffb703\">: </span><span style=\"color: #ffb703; text-decoration-color: #ffb703\">'iso8601'</span><span style=\"color: #ffb703; text-decoration-color: #ffb703\">, </span><span style=\"color: #ffb703; text-decoration-color: #ffb703\">'interval'</span><span style=\"color: #ffb703; text-decoration-color: #ffb703\">: </span><span style=\"color: #ffb703; text-decoration-color: #ffb703\">'seconds'</span><span style=\"color: #ffb703; text-decoration-color: #ffb703\">, </span><span style=\"color: #ffb703; text-decoration-color: #ffb703\">'temperature'</span><span style=\"color: #ffb703; text-decoration-color: #ffb703\">: </span><span style=\"color: #ffb703; text-decoration-color: #ffb703\">'°C'</span><span style=\"color: #ffb703; text-decoration-color: #ffb703\">, </span><span style=\"color: #ffb703; text-decoration-color: #ffb703\">'windspeed'</span><span style=\"color: #ffb703; text-decoration-color: #ffb703\">: </span><span style=\"color: #ffb703; text-decoration-color: #ffb703\">'km/h'</span><span style=\"color: #ffb703; text-decoration-color: #ffb703\">, </span>\n",
       "<span style=\"color: #ffb703; text-decoration-color: #ffb703\">'winddirection'</span><span style=\"color: #ffb703; text-decoration-color: #ffb703\">: </span><span style=\"color: #ffb703; text-decoration-color: #ffb703\">'°'</span><span style=\"color: #ffb703; text-decoration-color: #ffb703\">, </span><span style=\"color: #ffb703; text-decoration-color: #ffb703\">'is_day'</span><span style=\"color: #ffb703; text-decoration-color: #ffb703\">: </span><span style=\"color: #ffb703; text-decoration-color: #ffb703\">''</span><span style=\"color: #ffb703; text-decoration-color: #ffb703\">, </span><span style=\"color: #ffb703; text-decoration-color: #ffb703\">'weathercode'</span><span style=\"color: #ffb703; text-decoration-color: #ffb703\">: </span><span style=\"color: #ffb703; text-decoration-color: #ffb703\">'wmo code'</span><span style=\"color: #ffb703; text-decoration-color: #ffb703; font-weight: bold\">}</span><span style=\"color: #ffb703; text-decoration-color: #ffb703\">, </span><span style=\"color: #ffb703; text-decoration-color: #ffb703\">'current_weather'</span><span style=\"color: #ffb703; text-decoration-color: #ffb703\">: </span><span style=\"color: #ffb703; text-decoration-color: #ffb703; font-weight: bold\">{</span><span style=\"color: #ffb703; text-decoration-color: #ffb703\">'time'</span><span style=\"color: #ffb703; text-decoration-color: #ffb703\">: </span><span style=\"color: #ffb703; text-decoration-color: #ffb703\">'2024-08-25T17:45'</span><span style=\"color: #ffb703; text-decoration-color: #ffb703\">, </span>\n",
       "<span style=\"color: #ffb703; text-decoration-color: #ffb703\">'interval'</span><span style=\"color: #ffb703; text-decoration-color: #ffb703\">: </span><span style=\"color: #ffb703; text-decoration-color: #ffb703; font-weight: bold\">900</span><span style=\"color: #ffb703; text-decoration-color: #ffb703\">, </span><span style=\"color: #ffb703; text-decoration-color: #ffb703\">'temperature'</span><span style=\"color: #ffb703; text-decoration-color: #ffb703\">: </span><span style=\"color: #ffb703; text-decoration-color: #ffb703; font-weight: bold\">29.4</span><span style=\"color: #ffb703; text-decoration-color: #ffb703\">, </span><span style=\"color: #ffb703; text-decoration-color: #ffb703\">'windspeed'</span><span style=\"color: #ffb703; text-decoration-color: #ffb703\">: </span><span style=\"color: #ffb703; text-decoration-color: #ffb703; font-weight: bold\">12.5</span><span style=\"color: #ffb703; text-decoration-color: #ffb703\">, </span><span style=\"color: #ffb703; text-decoration-color: #ffb703\">'winddirection'</span><span style=\"color: #ffb703; text-decoration-color: #ffb703\">: </span><span style=\"color: #ffb703; text-decoration-color: #ffb703; font-weight: bold\">192</span><span style=\"color: #ffb703; text-decoration-color: #ffb703\">, </span><span style=\"color: #ffb703; text-decoration-color: #ffb703\">'is_day'</span><span style=\"color: #ffb703; text-decoration-color: #ffb703\">: </span><span style=\"color: #ffb703; text-decoration-color: #ffb703; font-weight: bold\">1</span><span style=\"color: #ffb703; text-decoration-color: #ffb703\">, </span><span style=\"color: #ffb703; text-decoration-color: #ffb703\">'weathercode'</span><span style=\"color: #ffb703; text-decoration-color: #ffb703\">: </span><span style=\"color: #ffb703; text-decoration-color: #ffb703; font-weight: bold\">0</span><span style=\"color: #ffb703; text-decoration-color: #ffb703; font-weight: bold\">}}</span>\n",
       "</pre>\n"
      ],
      "text/plain": [
       "\u001b[1;38;2;33;158;188mTool output:\u001b[0m \u001b[1;38;2;255;183;3m{\u001b[0m\u001b[38;2;255;183;3m'latitude'\u001b[0m\u001b[38;2;255;183;3m: \u001b[0m\u001b[1;38;2;255;183;3m40.710335\u001b[0m\u001b[38;2;255;183;3m, \u001b[0m\u001b[38;2;255;183;3m'longitude'\u001b[0m\u001b[38;2;255;183;3m: \u001b[0m\u001b[1;38;2;255;183;3m-73.99309\u001b[0m\u001b[38;2;255;183;3m, \u001b[0m\u001b[38;2;255;183;3m'generationtime_ms'\u001b[0m\u001b[38;2;255;183;3m: \u001b[0m\u001b[1;38;2;255;183;3m0.04398822784423828\u001b[0m\u001b[38;2;255;183;3m, \u001b[0m\n",
       "\u001b[38;2;255;183;3m'utc_offset_seconds'\u001b[0m\u001b[38;2;255;183;3m: \u001b[0m\u001b[1;38;2;255;183;3m0\u001b[0m\u001b[38;2;255;183;3m, \u001b[0m\u001b[38;2;255;183;3m'timezone'\u001b[0m\u001b[38;2;255;183;3m: \u001b[0m\u001b[38;2;255;183;3m'GMT'\u001b[0m\u001b[38;2;255;183;3m, \u001b[0m\u001b[38;2;255;183;3m'timezone_abbreviation'\u001b[0m\u001b[38;2;255;183;3m: \u001b[0m\u001b[38;2;255;183;3m'GMT'\u001b[0m\u001b[38;2;255;183;3m, \u001b[0m\u001b[38;2;255;183;3m'elevation'\u001b[0m\u001b[38;2;255;183;3m: \u001b[0m\u001b[1;38;2;255;183;3m32.0\u001b[0m\u001b[38;2;255;183;3m, \u001b[0m\n",
       "\u001b[38;2;255;183;3m'current_weather_units'\u001b[0m\u001b[38;2;255;183;3m: \u001b[0m\u001b[1;38;2;255;183;3m{\u001b[0m\u001b[38;2;255;183;3m'time'\u001b[0m\u001b[38;2;255;183;3m: \u001b[0m\u001b[38;2;255;183;3m'iso8601'\u001b[0m\u001b[38;2;255;183;3m, \u001b[0m\u001b[38;2;255;183;3m'interval'\u001b[0m\u001b[38;2;255;183;3m: \u001b[0m\u001b[38;2;255;183;3m'seconds'\u001b[0m\u001b[38;2;255;183;3m, \u001b[0m\u001b[38;2;255;183;3m'temperature'\u001b[0m\u001b[38;2;255;183;3m: \u001b[0m\u001b[38;2;255;183;3m'°C'\u001b[0m\u001b[38;2;255;183;3m, \u001b[0m\u001b[38;2;255;183;3m'windspeed'\u001b[0m\u001b[38;2;255;183;3m: \u001b[0m\u001b[38;2;255;183;3m'km/h'\u001b[0m\u001b[38;2;255;183;3m, \u001b[0m\n",
       "\u001b[38;2;255;183;3m'winddirection'\u001b[0m\u001b[38;2;255;183;3m: \u001b[0m\u001b[38;2;255;183;3m'°'\u001b[0m\u001b[38;2;255;183;3m, \u001b[0m\u001b[38;2;255;183;3m'is_day'\u001b[0m\u001b[38;2;255;183;3m: \u001b[0m\u001b[38;2;255;183;3m''\u001b[0m\u001b[38;2;255;183;3m, \u001b[0m\u001b[38;2;255;183;3m'weathercode'\u001b[0m\u001b[38;2;255;183;3m: \u001b[0m\u001b[38;2;255;183;3m'wmo code'\u001b[0m\u001b[1;38;2;255;183;3m}\u001b[0m\u001b[38;2;255;183;3m, \u001b[0m\u001b[38;2;255;183;3m'current_weather'\u001b[0m\u001b[38;2;255;183;3m: \u001b[0m\u001b[1;38;2;255;183;3m{\u001b[0m\u001b[38;2;255;183;3m'time'\u001b[0m\u001b[38;2;255;183;3m: \u001b[0m\u001b[38;2;255;183;3m'2024-08-25T17:45'\u001b[0m\u001b[38;2;255;183;3m, \u001b[0m\n",
       "\u001b[38;2;255;183;3m'interval'\u001b[0m\u001b[38;2;255;183;3m: \u001b[0m\u001b[1;38;2;255;183;3m900\u001b[0m\u001b[38;2;255;183;3m, \u001b[0m\u001b[38;2;255;183;3m'temperature'\u001b[0m\u001b[38;2;255;183;3m: \u001b[0m\u001b[1;38;2;255;183;3m29.4\u001b[0m\u001b[38;2;255;183;3m, \u001b[0m\u001b[38;2;255;183;3m'windspeed'\u001b[0m\u001b[38;2;255;183;3m: \u001b[0m\u001b[1;38;2;255;183;3m12.5\u001b[0m\u001b[38;2;255;183;3m, \u001b[0m\u001b[38;2;255;183;3m'winddirection'\u001b[0m\u001b[38;2;255;183;3m: \u001b[0m\u001b[1;38;2;255;183;3m192\u001b[0m\u001b[38;2;255;183;3m, \u001b[0m\u001b[38;2;255;183;3m'is_day'\u001b[0m\u001b[38;2;255;183;3m: \u001b[0m\u001b[1;38;2;255;183;3m1\u001b[0m\u001b[38;2;255;183;3m, \u001b[0m\u001b[38;2;255;183;3m'weathercode'\u001b[0m\u001b[38;2;255;183;3m: \u001b[0m\u001b[1;38;2;255;183;3m0\u001b[0m\u001b[1;38;2;255;183;3m}\u001b[0m\u001b[1;38;2;255;183;3m}\u001b[0m\n"
      ]
     },
     "metadata": {},
     "output_type": "display_data"
    },
    {
     "data": {
      "text/html": [
       "<pre style=\"white-space:pre;overflow-x:auto;line-height:normal;font-family:Menlo,'DejaVu Sans Mono',consolas,'Courier New',monospace\"><span style=\"color: #219ebc; text-decoration-color: #219ebc; font-weight: bold\">Final answer:</span> <span style=\"color: #ffb703; text-decoration-color: #ffb703\">According to the weather data, the current weather in New York is:</span>\n",
       "<span style=\"color: #ffb703; text-decoration-color: #ffb703\">- Temperature: </span><span style=\"color: #ffb703; text-decoration-color: #ffb703; font-weight: bold\">29.4</span><span style=\"color: #ffb703; text-decoration-color: #ffb703\">°C</span>\n",
       "<span style=\"color: #ffb703; text-decoration-color: #ffb703\">- Wind speed: </span><span style=\"color: #ffb703; text-decoration-color: #ffb703; font-weight: bold\">12.5</span><span style=\"color: #ffb703; text-decoration-color: #ffb703\"> km/h</span>\n",
       "<span style=\"color: #ffb703; text-decoration-color: #ffb703\">- Wind direction: </span><span style=\"color: #ffb703; text-decoration-color: #ffb703; font-weight: bold\">192</span><span style=\"color: #ffb703; text-decoration-color: #ffb703\">°</span>\n",
       "<span style=\"color: #ffb703; text-decoration-color: #ffb703\">- Weather code: </span><span style=\"color: #ffb703; text-decoration-color: #ffb703; font-weight: bold\">0</span><span style=\"color: #ffb703; text-decoration-color: #ffb703\"> </span><span style=\"color: #ffb703; text-decoration-color: #ffb703; font-weight: bold\">(</span><span style=\"color: #ffb703; text-decoration-color: #ffb703\">clear sky</span><span style=\"color: #ffb703; text-decoration-color: #ffb703; font-weight: bold\">)</span>\n",
       "</pre>\n"
      ],
      "text/plain": [
       "\u001b[1;38;2;33;158;188mFinal answer:\u001b[0m \u001b[38;2;255;183;3mAccording to the weather data, the current weather in New York is:\u001b[0m\n",
       "\u001b[38;2;255;183;3m- Temperature: \u001b[0m\u001b[1;38;2;255;183;3m29.4\u001b[0m\u001b[38;2;255;183;3m°C\u001b[0m\n",
       "\u001b[38;2;255;183;3m- Wind speed: \u001b[0m\u001b[1;38;2;255;183;3m12.5\u001b[0m\u001b[38;2;255;183;3m km/h\u001b[0m\n",
       "\u001b[38;2;255;183;3m- Wind direction: \u001b[0m\u001b[1;38;2;255;183;3m192\u001b[0m\u001b[38;2;255;183;3m°\u001b[0m\n",
       "\u001b[38;2;255;183;3m- Weather code: \u001b[0m\u001b[1;38;2;255;183;3m0\u001b[0m\u001b[38;2;255;183;3m \u001b[0m\u001b[1;38;2;255;183;3m(\u001b[0m\u001b[38;2;255;183;3mclear sky\u001b[0m\u001b[1;38;2;255;183;3m)\u001b[0m\n"
      ]
     },
     "metadata": {},
     "output_type": "display_data"
    }
   ],
   "source": [
    "llm_modelId = \"anthropic.claude-3-haiku-20240307-v1:0\" # model ID for the LLM model to use\n",
    "\n",
    "# user's question\n",
    "prompt = \"What is the weather in New York?\"\n",
    "messages = prompts_to_messages_converse([{\"role\": \"user\", \"text_prompt\": prompt}])\n",
    "\n",
    "# system message to define the role and behavior of the assistant\n",
    "system_message = \"\"\"\n",
    "You are a meterological assistant.\n",
    "Your job is to answer weather-related questions. You have access to tools to look up weather information for a given location.\n",
    "You may need to utilize multiple tools to answer the user's question.\n",
    "Place any intermediate thoughts into <thinking> tags\n",
    "When you have the final answer, provide it in <answer> tags\n",
    "\"\"\"\n",
    "\n",
    "\n",
    "inference_config = {\"temperature\": 0.0}\n",
    "\n",
    "rprint(f\"[bold #219ebc]Initial prompt:[/bold #219ebc] [#ffb703]{prompt}[/#ffb703]\")\n",
    "\n",
    "\n",
    "# The execution workflow will run in a loop until the assistant provides a final answer\n",
    "while True:\n",
    "\n",
    "    # invoke the model with the messages (conversation state), system prompt, and tool configuration\n",
    "    response = boto3_bedrock.converse(\n",
    "        modelId=llm_modelId,\n",
    "        messages=messages,\n",
    "        system=[{\"text\": system_message}],\n",
    "        inferenceConfig=inference_config,\n",
    "        toolConfig=tool_config,\n",
    "        # additionalModelRequestFields=additional_model_fields\n",
    "    )\n",
    "\n",
    "    response_messages = response[\"output\"][\"message\"]\n",
    "    response_content = response_messages[\"content\"]\n",
    "    messages.append(response_messages)\n",
    "\n",
    "    # if the model determines that a tool should be used, it will provide \"tool_use\" as the stop reason\n",
    "    if response[\"stopReason\"] == \"tool_use\":\n",
    "\n",
    "        # model may respond with both the tool_use response and some intermediate thoughts\n",
    "        text_content = next((m['text'] for m in response_content if 'text' in m), \"\")\n",
    "        \n",
    "        tool_use_content = [m for m in response_content if \"toolUse\" in m][0]\n",
    "\n",
    "        # from the tool_use response, extract the tool name, and the input to the tool\n",
    "        tool_use_id = tool_use_content[\"toolUse\"][\"toolUseId\"]\n",
    "        tool_name = tool_use_content[\"toolUse\"][\"name\"]\n",
    "        tool_input = tool_use_content[\"toolUse\"][\"input\"]\n",
    "        \n",
    "        rprint(f\"[bold #219ebc]Intermediate response:[/bold #219ebc] [#ffb703]{text_content}[#ffb703]\")\n",
    "        rprint(f\"[bold #219ebc]Tool name:[/bold #219ebc] [#ffb703]{tool_name}[#ffb703]\")\n",
    "        rprint(f\"[bold #219ebc]Tool input:[/bold #219ebc] [#ffb703]{tool_input}[#ffb703]\")\n",
    "\n",
    "        try:\n",
    "            # get the function to invoke\n",
    "            function = tool_lookup[tool_name][\"func\"]\n",
    "            \n",
    "            # get the pydanitc model to parse the input\n",
    "            function_object = tool_lookup[tool_name][\"input\"]\n",
    "            \n",
    "            # parse the input\n",
    "            tool_input_obj = function_object.parse_obj(tool_input)\n",
    "            \n",
    "            # invoke the function with the parsed input\n",
    "            result = function(**tool_input_obj.dict())\n",
    "            rprint(f\"[bold #219ebc]Tool output:[/bold #219ebc] [#ffb703]{result}[#ffb703]\")\n",
    "            \n",
    "            \n",
    "            # we have to attach the tool response to the messages (conversation history) to continue the conversation\n",
    "            tool_response_message = prompts_to_messages_converse(\n",
    "                [\n",
    "                    {\n",
    "                        \"role\": \"user\",\n",
    "                        \"tool_use_id\": tool_use_id,\n",
    "                        \"text_prompt\": f\"The output of {tool_name} is {result}\",\n",
    "                        \"tool_status\": \"success\",\n",
    "                    }\n",
    "                ]\n",
    "            )\n",
    "            messages.extend(tool_response_message)\n",
    "\n",
    "        # in case there is an invocation error, we will attach the error message to the messages so that the model can make corrections\n",
    "        except Exception as e:\n",
    "            error = str(e)\n",
    "            tool_response_message = prompts_to_messages_converse(\n",
    "                [\n",
    "                    {\n",
    "                        \"role\": \"user\",\n",
    "                        \"tool_use_id\": tool_use_id,\n",
    "                        \"text_prompt\": result,\n",
    "                        \"tool_status\": \"error\",\n",
    "                    }\n",
    "                ]\n",
    "            )\n",
    "            messages.extend(tool_response_message)\n",
    "            \n",
    "    # if generation stopped for any other reason\n",
    "    else:\n",
    "        text_content = [m for m in response_content if \"text\" in m][0]\n",
    "        result = text_content[\"text\"]\n",
    "        if \"<answer>\" in result:\n",
    "            break\n",
    "\n",
    "final_answer = result.replace(\"<answer>\", \"\").replace(\"</answer>\", \"\").strip()\n",
    "rprint(f\"[bold #219ebc]Final answer:[/bold #219ebc] [#ffb703]{final_answer}[#ffb703]\")"
   ]
  },
  {
   "cell_type": "markdown",
   "id": "a70b217d",
   "metadata": {},
   "source": [
    "---\n",
    "## Next steps\n",
    "\n",
    "Now that you have used a few different retrieval systems, lets move on to the next notebook where you can apply the skills you've learned so far!"
   ]
  },
  {
   "cell_type": "markdown",
   "id": "5e7fcb83",
   "metadata": {},
   "source": []
  }
 ],
 "metadata": {
  "availableInstances": [
   {
    "_defaultOrder": 0,
    "_isFastLaunch": true,
    "category": "General purpose",
    "gpuNum": 0,
    "hideHardwareSpecs": false,
    "memoryGiB": 4,
    "name": "ml.t3.medium",
    "vcpuNum": 2
   },
   {
    "_defaultOrder": 1,
    "_isFastLaunch": false,
    "category": "General purpose",
    "gpuNum": 0,
    "hideHardwareSpecs": false,
    "memoryGiB": 8,
    "name": "ml.t3.large",
    "vcpuNum": 2
   },
   {
    "_defaultOrder": 2,
    "_isFastLaunch": false,
    "category": "General purpose",
    "gpuNum": 0,
    "hideHardwareSpecs": false,
    "memoryGiB": 16,
    "name": "ml.t3.xlarge",
    "vcpuNum": 4
   },
   {
    "_defaultOrder": 3,
    "_isFastLaunch": false,
    "category": "General purpose",
    "gpuNum": 0,
    "hideHardwareSpecs": false,
    "memoryGiB": 32,
    "name": "ml.t3.2xlarge",
    "vcpuNum": 8
   },
   {
    "_defaultOrder": 4,
    "_isFastLaunch": true,
    "category": "General purpose",
    "gpuNum": 0,
    "hideHardwareSpecs": false,
    "memoryGiB": 8,
    "name": "ml.m5.large",
    "vcpuNum": 2
   },
   {
    "_defaultOrder": 5,
    "_isFastLaunch": false,
    "category": "General purpose",
    "gpuNum": 0,
    "hideHardwareSpecs": false,
    "memoryGiB": 16,
    "name": "ml.m5.xlarge",
    "vcpuNum": 4
   },
   {
    "_defaultOrder": 6,
    "_isFastLaunch": false,
    "category": "General purpose",
    "gpuNum": 0,
    "hideHardwareSpecs": false,
    "memoryGiB": 32,
    "name": "ml.m5.2xlarge",
    "vcpuNum": 8
   },
   {
    "_defaultOrder": 7,
    "_isFastLaunch": false,
    "category": "General purpose",
    "gpuNum": 0,
    "hideHardwareSpecs": false,
    "memoryGiB": 64,
    "name": "ml.m5.4xlarge",
    "vcpuNum": 16
   },
   {
    "_defaultOrder": 8,
    "_isFastLaunch": false,
    "category": "General purpose",
    "gpuNum": 0,
    "hideHardwareSpecs": false,
    "memoryGiB": 128,
    "name": "ml.m5.8xlarge",
    "vcpuNum": 32
   },
   {
    "_defaultOrder": 9,
    "_isFastLaunch": false,
    "category": "General purpose",
    "gpuNum": 0,
    "hideHardwareSpecs": false,
    "memoryGiB": 192,
    "name": "ml.m5.12xlarge",
    "vcpuNum": 48
   },
   {
    "_defaultOrder": 10,
    "_isFastLaunch": false,
    "category": "General purpose",
    "gpuNum": 0,
    "hideHardwareSpecs": false,
    "memoryGiB": 256,
    "name": "ml.m5.16xlarge",
    "vcpuNum": 64
   },
   {
    "_defaultOrder": 11,
    "_isFastLaunch": false,
    "category": "General purpose",
    "gpuNum": 0,
    "hideHardwareSpecs": false,
    "memoryGiB": 384,
    "name": "ml.m5.24xlarge",
    "vcpuNum": 96
   },
   {
    "_defaultOrder": 12,
    "_isFastLaunch": false,
    "category": "General purpose",
    "gpuNum": 0,
    "hideHardwareSpecs": false,
    "memoryGiB": 8,
    "name": "ml.m5d.large",
    "vcpuNum": 2
   },
   {
    "_defaultOrder": 13,
    "_isFastLaunch": false,
    "category": "General purpose",
    "gpuNum": 0,
    "hideHardwareSpecs": false,
    "memoryGiB": 16,
    "name": "ml.m5d.xlarge",
    "vcpuNum": 4
   },
   {
    "_defaultOrder": 14,
    "_isFastLaunch": false,
    "category": "General purpose",
    "gpuNum": 0,
    "hideHardwareSpecs": false,
    "memoryGiB": 32,
    "name": "ml.m5d.2xlarge",
    "vcpuNum": 8
   },
   {
    "_defaultOrder": 15,
    "_isFastLaunch": false,
    "category": "General purpose",
    "gpuNum": 0,
    "hideHardwareSpecs": false,
    "memoryGiB": 64,
    "name": "ml.m5d.4xlarge",
    "vcpuNum": 16
   },
   {
    "_defaultOrder": 16,
    "_isFastLaunch": false,
    "category": "General purpose",
    "gpuNum": 0,
    "hideHardwareSpecs": false,
    "memoryGiB": 128,
    "name": "ml.m5d.8xlarge",
    "vcpuNum": 32
   },
   {
    "_defaultOrder": 17,
    "_isFastLaunch": false,
    "category": "General purpose",
    "gpuNum": 0,
    "hideHardwareSpecs": false,
    "memoryGiB": 192,
    "name": "ml.m5d.12xlarge",
    "vcpuNum": 48
   },
   {
    "_defaultOrder": 18,
    "_isFastLaunch": false,
    "category": "General purpose",
    "gpuNum": 0,
    "hideHardwareSpecs": false,
    "memoryGiB": 256,
    "name": "ml.m5d.16xlarge",
    "vcpuNum": 64
   },
   {
    "_defaultOrder": 19,
    "_isFastLaunch": false,
    "category": "General purpose",
    "gpuNum": 0,
    "hideHardwareSpecs": false,
    "memoryGiB": 384,
    "name": "ml.m5d.24xlarge",
    "vcpuNum": 96
   },
   {
    "_defaultOrder": 20,
    "_isFastLaunch": false,
    "category": "General purpose",
    "gpuNum": 0,
    "hideHardwareSpecs": true,
    "memoryGiB": 0,
    "name": "ml.geospatial.interactive",
    "supportedImageNames": [
     "sagemaker-geospatial-v1-0"
    ],
    "vcpuNum": 0
   },
   {
    "_defaultOrder": 21,
    "_isFastLaunch": true,
    "category": "Compute optimized",
    "gpuNum": 0,
    "hideHardwareSpecs": false,
    "memoryGiB": 4,
    "name": "ml.c5.large",
    "vcpuNum": 2
   },
   {
    "_defaultOrder": 22,
    "_isFastLaunch": false,
    "category": "Compute optimized",
    "gpuNum": 0,
    "hideHardwareSpecs": false,
    "memoryGiB": 8,
    "name": "ml.c5.xlarge",
    "vcpuNum": 4
   },
   {
    "_defaultOrder": 23,
    "_isFastLaunch": false,
    "category": "Compute optimized",
    "gpuNum": 0,
    "hideHardwareSpecs": false,
    "memoryGiB": 16,
    "name": "ml.c5.2xlarge",
    "vcpuNum": 8
   },
   {
    "_defaultOrder": 24,
    "_isFastLaunch": false,
    "category": "Compute optimized",
    "gpuNum": 0,
    "hideHardwareSpecs": false,
    "memoryGiB": 32,
    "name": "ml.c5.4xlarge",
    "vcpuNum": 16
   },
   {
    "_defaultOrder": 25,
    "_isFastLaunch": false,
    "category": "Compute optimized",
    "gpuNum": 0,
    "hideHardwareSpecs": false,
    "memoryGiB": 72,
    "name": "ml.c5.9xlarge",
    "vcpuNum": 36
   },
   {
    "_defaultOrder": 26,
    "_isFastLaunch": false,
    "category": "Compute optimized",
    "gpuNum": 0,
    "hideHardwareSpecs": false,
    "memoryGiB": 96,
    "name": "ml.c5.12xlarge",
    "vcpuNum": 48
   },
   {
    "_defaultOrder": 27,
    "_isFastLaunch": false,
    "category": "Compute optimized",
    "gpuNum": 0,
    "hideHardwareSpecs": false,
    "memoryGiB": 144,
    "name": "ml.c5.18xlarge",
    "vcpuNum": 72
   },
   {
    "_defaultOrder": 28,
    "_isFastLaunch": false,
    "category": "Compute optimized",
    "gpuNum": 0,
    "hideHardwareSpecs": false,
    "memoryGiB": 192,
    "name": "ml.c5.24xlarge",
    "vcpuNum": 96
   },
   {
    "_defaultOrder": 29,
    "_isFastLaunch": true,
    "category": "Accelerated computing",
    "gpuNum": 1,
    "hideHardwareSpecs": false,
    "memoryGiB": 16,
    "name": "ml.g4dn.xlarge",
    "vcpuNum": 4
   },
   {
    "_defaultOrder": 30,
    "_isFastLaunch": false,
    "category": "Accelerated computing",
    "gpuNum": 1,
    "hideHardwareSpecs": false,
    "memoryGiB": 32,
    "name": "ml.g4dn.2xlarge",
    "vcpuNum": 8
   },
   {
    "_defaultOrder": 31,
    "_isFastLaunch": false,
    "category": "Accelerated computing",
    "gpuNum": 1,
    "hideHardwareSpecs": false,
    "memoryGiB": 64,
    "name": "ml.g4dn.4xlarge",
    "vcpuNum": 16
   },
   {
    "_defaultOrder": 32,
    "_isFastLaunch": false,
    "category": "Accelerated computing",
    "gpuNum": 1,
    "hideHardwareSpecs": false,
    "memoryGiB": 128,
    "name": "ml.g4dn.8xlarge",
    "vcpuNum": 32
   },
   {
    "_defaultOrder": 33,
    "_isFastLaunch": false,
    "category": "Accelerated computing",
    "gpuNum": 4,
    "hideHardwareSpecs": false,
    "memoryGiB": 192,
    "name": "ml.g4dn.12xlarge",
    "vcpuNum": 48
   },
   {
    "_defaultOrder": 34,
    "_isFastLaunch": false,
    "category": "Accelerated computing",
    "gpuNum": 1,
    "hideHardwareSpecs": false,
    "memoryGiB": 256,
    "name": "ml.g4dn.16xlarge",
    "vcpuNum": 64
   },
   {
    "_defaultOrder": 35,
    "_isFastLaunch": false,
    "category": "Accelerated computing",
    "gpuNum": 1,
    "hideHardwareSpecs": false,
    "memoryGiB": 61,
    "name": "ml.p3.2xlarge",
    "vcpuNum": 8
   },
   {
    "_defaultOrder": 36,
    "_isFastLaunch": false,
    "category": "Accelerated computing",
    "gpuNum": 4,
    "hideHardwareSpecs": false,
    "memoryGiB": 244,
    "name": "ml.p3.8xlarge",
    "vcpuNum": 32
   },
   {
    "_defaultOrder": 37,
    "_isFastLaunch": false,
    "category": "Accelerated computing",
    "gpuNum": 8,
    "hideHardwareSpecs": false,
    "memoryGiB": 488,
    "name": "ml.p3.16xlarge",
    "vcpuNum": 64
   },
   {
    "_defaultOrder": 38,
    "_isFastLaunch": false,
    "category": "Accelerated computing",
    "gpuNum": 8,
    "hideHardwareSpecs": false,
    "memoryGiB": 768,
    "name": "ml.p3dn.24xlarge",
    "vcpuNum": 96
   },
   {
    "_defaultOrder": 39,
    "_isFastLaunch": false,
    "category": "Memory Optimized",
    "gpuNum": 0,
    "hideHardwareSpecs": false,
    "memoryGiB": 16,
    "name": "ml.r5.large",
    "vcpuNum": 2
   },
   {
    "_defaultOrder": 40,
    "_isFastLaunch": false,
    "category": "Memory Optimized",
    "gpuNum": 0,
    "hideHardwareSpecs": false,
    "memoryGiB": 32,
    "name": "ml.r5.xlarge",
    "vcpuNum": 4
   },
   {
    "_defaultOrder": 41,
    "_isFastLaunch": false,
    "category": "Memory Optimized",
    "gpuNum": 0,
    "hideHardwareSpecs": false,
    "memoryGiB": 64,
    "name": "ml.r5.2xlarge",
    "vcpuNum": 8
   },
   {
    "_defaultOrder": 42,
    "_isFastLaunch": false,
    "category": "Memory Optimized",
    "gpuNum": 0,
    "hideHardwareSpecs": false,
    "memoryGiB": 128,
    "name": "ml.r5.4xlarge",
    "vcpuNum": 16
   },
   {
    "_defaultOrder": 43,
    "_isFastLaunch": false,
    "category": "Memory Optimized",
    "gpuNum": 0,
    "hideHardwareSpecs": false,
    "memoryGiB": 256,
    "name": "ml.r5.8xlarge",
    "vcpuNum": 32
   },
   {
    "_defaultOrder": 44,
    "_isFastLaunch": false,
    "category": "Memory Optimized",
    "gpuNum": 0,
    "hideHardwareSpecs": false,
    "memoryGiB": 384,
    "name": "ml.r5.12xlarge",
    "vcpuNum": 48
   },
   {
    "_defaultOrder": 45,
    "_isFastLaunch": false,
    "category": "Memory Optimized",
    "gpuNum": 0,
    "hideHardwareSpecs": false,
    "memoryGiB": 512,
    "name": "ml.r5.16xlarge",
    "vcpuNum": 64
   },
   {
    "_defaultOrder": 46,
    "_isFastLaunch": false,
    "category": "Memory Optimized",
    "gpuNum": 0,
    "hideHardwareSpecs": false,
    "memoryGiB": 768,
    "name": "ml.r5.24xlarge",
    "vcpuNum": 96
   },
   {
    "_defaultOrder": 47,
    "_isFastLaunch": false,
    "category": "Accelerated computing",
    "gpuNum": 1,
    "hideHardwareSpecs": false,
    "memoryGiB": 16,
    "name": "ml.g5.xlarge",
    "vcpuNum": 4
   },
   {
    "_defaultOrder": 48,
    "_isFastLaunch": false,
    "category": "Accelerated computing",
    "gpuNum": 1,
    "hideHardwareSpecs": false,
    "memoryGiB": 32,
    "name": "ml.g5.2xlarge",
    "vcpuNum": 8
   },
   {
    "_defaultOrder": 49,
    "_isFastLaunch": false,
    "category": "Accelerated computing",
    "gpuNum": 1,
    "hideHardwareSpecs": false,
    "memoryGiB": 64,
    "name": "ml.g5.4xlarge",
    "vcpuNum": 16
   },
   {
    "_defaultOrder": 50,
    "_isFastLaunch": false,
    "category": "Accelerated computing",
    "gpuNum": 1,
    "hideHardwareSpecs": false,
    "memoryGiB": 128,
    "name": "ml.g5.8xlarge",
    "vcpuNum": 32
   },
   {
    "_defaultOrder": 51,
    "_isFastLaunch": false,
    "category": "Accelerated computing",
    "gpuNum": 1,
    "hideHardwareSpecs": false,
    "memoryGiB": 256,
    "name": "ml.g5.16xlarge",
    "vcpuNum": 64
   },
   {
    "_defaultOrder": 52,
    "_isFastLaunch": false,
    "category": "Accelerated computing",
    "gpuNum": 4,
    "hideHardwareSpecs": false,
    "memoryGiB": 192,
    "name": "ml.g5.12xlarge",
    "vcpuNum": 48
   },
   {
    "_defaultOrder": 53,
    "_isFastLaunch": false,
    "category": "Accelerated computing",
    "gpuNum": 4,
    "hideHardwareSpecs": false,
    "memoryGiB": 384,
    "name": "ml.g5.24xlarge",
    "vcpuNum": 96
   },
   {
    "_defaultOrder": 54,
    "_isFastLaunch": false,
    "category": "Accelerated computing",
    "gpuNum": 8,
    "hideHardwareSpecs": false,
    "memoryGiB": 768,
    "name": "ml.g5.48xlarge",
    "vcpuNum": 192
   },
   {
    "_defaultOrder": 55,
    "_isFastLaunch": false,
    "category": "Accelerated computing",
    "gpuNum": 8,
    "hideHardwareSpecs": false,
    "memoryGiB": 1152,
    "name": "ml.p4d.24xlarge",
    "vcpuNum": 96
   },
   {
    "_defaultOrder": 56,
    "_isFastLaunch": false,
    "category": "Accelerated computing",
    "gpuNum": 8,
    "hideHardwareSpecs": false,
    "memoryGiB": 1152,
    "name": "ml.p4de.24xlarge",
    "vcpuNum": 96
   },
   {
    "_defaultOrder": 57,
    "_isFastLaunch": false,
    "category": "Accelerated computing",
    "gpuNum": 0,
    "hideHardwareSpecs": false,
    "memoryGiB": 32,
    "name": "ml.trn1.2xlarge",
    "vcpuNum": 8
   },
   {
    "_defaultOrder": 58,
    "_isFastLaunch": false,
    "category": "Accelerated computing",
    "gpuNum": 0,
    "hideHardwareSpecs": false,
    "memoryGiB": 512,
    "name": "ml.trn1.32xlarge",
    "vcpuNum": 128
   },
   {
    "_defaultOrder": 59,
    "_isFastLaunch": false,
    "category": "Accelerated computing",
    "gpuNum": 0,
    "hideHardwareSpecs": false,
    "memoryGiB": 512,
    "name": "ml.trn1n.32xlarge",
    "vcpuNum": 128
   }
  ],
  "instance_type": "ml.t3.medium",
  "kernelspec": {
   "display_name": "Python 3 (ipykernel)",
   "language": "python",
   "name": "python3"
  },
  "language_info": {
   "codemirror_mode": {
    "name": "ipython",
    "version": 3
   },
   "file_extension": ".py",
   "mimetype": "text/x-python",
   "name": "python",
   "nbconvert_exporter": "python",
   "pygments_lexer": "ipython3",
   "version": "3.10.14"
  }
 },
 "nbformat": 4,
 "nbformat_minor": 5
}
